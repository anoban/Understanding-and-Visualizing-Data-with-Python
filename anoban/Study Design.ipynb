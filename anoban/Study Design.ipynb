{
 "cells": [
  {
   "cell_type": "markdown",
   "id": "34149c48-6467-475f-942d-77a6c8f3c3bd",
   "metadata": {},
   "source": [
    "# ___Study Design___\n",
    "--------------"
   ]
  },
  {
   "cell_type": "code",
   "execution_count": 1,
   "id": "55b46a2b-1867-439a-bfb5-2106a97334d6",
   "metadata": {
    "execution": {
     "iopub.execute_input": "2023-04-08T12:31:33.623377Z",
     "iopub.status.busy": "2023-04-08T12:31:33.623377Z",
     "iopub.status.idle": "2023-04-08T12:31:33.641242Z",
     "shell.execute_reply": "2023-04-08T12:31:33.641242Z",
     "shell.execute_reply.started": "2023-04-08T12:31:33.623377Z"
    },
    "tags": []
   },
   "outputs": [],
   "source": [
    "# There are a wise variety of study designs staring from exploratory analyses of pre-existing datasets to highly planned efforts \n",
    "# to collecting & analyszing data to answer specific questions."
   ]
  },
  {
   "cell_type": "code",
   "execution_count": 2,
   "id": "d92c5264-7378-45c4-b880-f79a8fde74c6",
   "metadata": {
    "execution": {
     "iopub.execute_input": "2023-04-08T12:32:51.240024Z",
     "iopub.status.busy": "2023-04-08T12:32:51.240024Z",
     "iopub.status.idle": "2023-04-08T12:32:51.254074Z",
     "shell.execute_reply": "2023-04-08T12:32:51.254074Z",
     "shell.execute_reply.started": "2023-04-08T12:32:51.240024Z"
    },
    "tags": []
   },
   "outputs": [],
   "source": [
    "# Study design encompasses everything in the preparation for data-driven research.\n",
    "# There many fileds have very different ideas and strategies about study design."
   ]
  },
  {
   "cell_type": "code",
   "execution_count": 3,
   "id": "6bc781a6-a866-4073-9615-6eb253f0450c",
   "metadata": {
    "execution": {
     "iopub.execute_input": "2023-04-08T12:35:48.719352Z",
     "iopub.status.busy": "2023-04-08T12:35:48.719352Z",
     "iopub.status.idle": "2023-04-08T12:35:48.729121Z",
     "shell.execute_reply": "2023-04-08T12:35:48.729121Z",
     "shell.execute_reply.started": "2023-04-08T12:35:48.719352Z"
    },
    "tags": []
   },
   "outputs": [],
   "source": [
    "# Study designs in various fields\n",
    "    # Clinical trials for drugs & medical treatments\n",
    "    # Reliability and Q/A studies for products\n",
    "    # Observational studies for human health\n",
    "    # Public opinions / or other surveys\n",
    "    # Market research studies\n",
    "    # Argrcultural field trials (testing herbicides, fertilizers, pesticides, growth promoters ..etc)"
   ]
  },
  {
   "cell_type": "markdown",
   "id": "1432286c-a42c-46e3-a955-ee1e7f3ebea9",
   "metadata": {},
   "source": [
    "## ___Types of Research Studies___\n",
    "-----------------"
   ]
  },
  {
   "cell_type": "code",
   "execution_count": 4,
   "id": "58f011ba-2149-4ffb-901f-959ec9433b75",
   "metadata": {
    "execution": {
     "iopub.execute_input": "2023-04-08T12:37:19.140357Z",
     "iopub.status.busy": "2023-04-08T12:37:19.139344Z",
     "iopub.status.idle": "2023-04-08T12:37:19.143068Z",
     "shell.execute_reply": "2023-04-08T12:37:19.143068Z",
     "shell.execute_reply.started": "2023-04-08T12:37:19.140357Z"
    },
    "tags": []
   },
   "outputs": [],
   "source": [
    "# Exploratory vs confirmatory studies\n",
    "# Comparative vs non-comparative studies\n",
    "# Observational vs experimental studies"
   ]
  },
  {
   "cell_type": "markdown",
   "id": "4a8ccc61-fce5-475b-ba34-7e1c079a0361",
   "metadata": {},
   "source": [
    "## ___Confirmatory vs Exploratory research___\n",
    "----------------------"
   ]
  },
  {
   "cell_type": "code",
   "execution_count": 2,
   "id": "edc01a49-5b5d-4a14-9664-1c938f704489",
   "metadata": {
    "execution": {
     "iopub.execute_input": "2023-04-09T03:03:48.587411Z",
     "iopub.status.busy": "2023-04-09T03:03:48.587411Z",
     "iopub.status.idle": "2023-04-09T03:03:48.593653Z",
     "shell.execute_reply": "2023-04-09T03:03:48.593653Z",
     "shell.execute_reply.started": "2023-04-09T03:03:48.587411Z"
    },
    "tags": []
   },
   "outputs": [],
   "source": [
    "# Confirmatory research design (The Scientific Method)\n",
    "\n",
    "    # Postulate a falsifiable (testable) hypothesis\n",
    "    # Test the hypothesis\n",
    "    # Collect data to address a pre-defined question."
   ]
  },
  {
   "cell_type": "code",
   "execution_count": 3,
   "id": "cc17cfc0-96cf-40b7-bb6d-d248afb59d46",
   "metadata": {
    "execution": {
     "iopub.execute_input": "2023-04-09T03:03:48.902117Z",
     "iopub.status.busy": "2023-04-09T03:03:48.902117Z",
     "iopub.status.idle": "2023-04-09T03:03:48.915752Z",
     "shell.execute_reply": "2023-04-09T03:03:48.915752Z",
     "shell.execute_reply.started": "2023-04-09T03:03:48.902117Z"
    },
    "tags": []
   },
   "outputs": [],
   "source": [
    "# Exploratory research design\n",
    "\n",
    "    # Collect & analyze data w/o any pre-defined goals/questions."
   ]
  },
  {
   "cell_type": "markdown",
   "id": "76731bbe-c03a-4650-a29c-b19d62f74914",
   "metadata": {},
   "source": [
    "### ___Most exploratory studies can be informative but one needs to watch out for overfitting, multiple testing & p-hacking. The more questions one asks from a dataset, the more chances he/she has to make a misleading conclusion.___"
   ]
  },
  {
   "cell_type": "markdown",
   "id": "9b81f643-976e-4ee2-aee1-f46bf86397e1",
   "metadata": {},
   "source": [
    "## ___Comparative vs Non-comparative research___"
   ]
  },
  {
   "cell_type": "code",
   "execution_count": 6,
   "id": "4e26e227-03d4-41b5-81e9-d1e54af7e73a",
   "metadata": {
    "execution": {
     "iopub.execute_input": "2023-04-09T03:10:40.192997Z",
     "iopub.status.busy": "2023-04-09T03:10:40.192997Z",
     "iopub.status.idle": "2023-04-09T03:10:40.198210Z",
     "shell.execute_reply": "2023-04-09T03:10:40.198210Z",
     "shell.execute_reply.started": "2023-04-09T03:10:40.192997Z"
    },
    "tags": []
   },
   "outputs": [],
   "source": [
    "# Many studies are related to nature\n",
    "# Where the goal is to compare and contrast a quantity to another."
   ]
  },
  {
   "cell_type": "code",
   "execution_count": 7,
   "id": "9bbe5baa-3cfb-4bdd-845c-58220c83a45f",
   "metadata": {
    "execution": {
     "iopub.execute_input": "2023-04-09T03:10:40.491771Z",
     "iopub.status.busy": "2023-04-09T03:10:40.491771Z",
     "iopub.status.idle": "2023-04-09T03:10:40.507329Z",
     "shell.execute_reply": "2023-04-09T03:10:40.507329Z",
     "shell.execute_reply.started": "2023-04-09T03:10:40.491771Z"
    },
    "tags": []
   },
   "outputs": [],
   "source": [
    "# E.g. \n",
    "# Compare yields of oranges in plots of lands treated with different fertilizers.\n",
    "# Compare the public preference of candidates for an election\n",
    "# Compare the chances for users clicking two different online addvertisements"
   ]
  },
  {
   "cell_type": "code",
   "execution_count": 8,
   "id": "5ecb256a-35ce-4c75-ad29-42b4bd1a087c",
   "metadata": {
    "execution": {
     "iopub.execute_input": "2023-04-09T03:14:55.787827Z",
     "iopub.status.busy": "2023-04-09T03:14:55.787827Z",
     "iopub.status.idle": "2023-04-09T03:14:55.805427Z",
     "shell.execute_reply": "2023-04-09T03:14:55.805427Z",
     "shell.execute_reply.started": "2023-04-09T03:14:55.787827Z"
    },
    "tags": []
   },
   "outputs": [],
   "source": [
    "# Non-comparative studies focus on estimating or predicting absolute quantities, not explicitly comparative.\n",
    "# e.g.\n",
    "# Predict the volatility of a company's stock, ten year from now\n",
    "# Estimate the absolute reduction in blood cholestrol, follwing the intake of a new pill"
   ]
  },
  {
   "cell_type": "markdown",
   "id": "0d0ace29-fdef-4d20-b5dc-8a9e04b25690",
   "metadata": {},
   "source": [
    "# ___Observational vs Experimental studies___"
   ]
  },
  {
   "cell_type": "code",
   "execution_count": 10,
   "id": "a60c8710-b93e-4b0e-9509-5ae36dd74ac0",
   "metadata": {
    "execution": {
     "iopub.execute_input": "2023-04-09T03:16:53.074493Z",
     "iopub.status.busy": "2023-04-09T03:16:53.074493Z",
     "iopub.status.idle": "2023-04-09T03:16:53.083744Z",
     "shell.execute_reply": "2023-04-09T03:16:53.083744Z",
     "shell.execute_reply.started": "2023-04-09T03:16:53.074493Z"
    },
    "tags": []
   },
   "outputs": [],
   "source": [
    "# Observational data arises naturally (organically) (not in the sense of organic/designed data collection)\n",
    "# Contrsting will likely be based on the self selection of observations into groups."
   ]
  },
  {
   "cell_type": "code",
   "execution_count": 11,
   "id": "5264cc5e-7a00-461d-a58c-b67635fc0d26",
   "metadata": {
    "execution": {
     "iopub.execute_input": "2023-04-09T03:26:35.331925Z",
     "iopub.status.busy": "2023-04-09T03:26:35.331925Z",
     "iopub.status.idle": "2023-04-09T03:26:35.343922Z",
     "shell.execute_reply": "2023-04-09T03:26:35.343922Z",
     "shell.execute_reply.started": "2023-04-09T03:26:35.331925Z"
    },
    "tags": []
   },
   "outputs": [],
   "source": [
    "# In experimental designs, the experimenter intentionally manipulates the subjects differently /\n",
    "# applies selective treatments and makes careful observations.\n",
    "\n",
    "# Observational -> to measure the influence of smoking cigarettes in developing lung cancer, one could measure lifespans or lung cancer status\n",
    "# of smokers and non-smokers\n",
    "# We can see whether a teacher's experience has any impact on students' learning, compare the results of students in a standardized test who\n",
    "# were in class with a experienced teacher and a fairly inexperienced teacher.\n",
    "\n",
    "# Experimental -> test the efficiency of a new fertilizer in tomato crops\n",
    "# Take a field\n",
    "# Divide it into plots\n",
    "# Plant the tomato seeds / seedlings\n",
    "# Keep one plot as control (no fertilizer)\n",
    "# Apply the fertilizer in different amounts in the remaining plots\n",
    "# (5g/week/square meter, 10g/week/square meter, 50g/week/square meter, 100g/week/square meter ....)\n",
    "# Test another set of plots with other commercial fertilizers to decide how the new fertilizer compares to the existing ones.\n",
    "\n",
    "# To test how users will respond to an online advertisement,\n",
    "# Expose a random set of users to two different adds and measure the click rate."
   ]
  },
  {
   "cell_type": "code",
   "execution_count": 12,
   "id": "bbc7aa67-f2c2-4bae-a7b8-ba959676187b",
   "metadata": {
    "execution": {
     "iopub.execute_input": "2023-04-09T03:28:24.446729Z",
     "iopub.status.busy": "2023-04-09T03:28:24.446729Z",
     "iopub.status.idle": "2023-04-09T03:28:24.457664Z",
     "shell.execute_reply": "2023-04-09T03:28:24.457664Z",
     "shell.execute_reply.started": "2023-04-09T03:28:24.446729Z"
    },
    "tags": []
   },
   "outputs": [],
   "source": [
    "# In experimental studies, objects are often randomly assigned to a test group\n",
    "        # These 100 tomato seedlings are to be watered daily with 100mL water and provided with 10g fertilizer per week.\n",
    "        # So these 100 seedlings belong to a specific treatment arm (cohort)"
   ]
  },
  {
   "cell_type": "code",
   "execution_count": 13,
   "id": "b9d49a83-33a4-40c5-a53f-a34daa17549b",
   "metadata": {
    "execution": {
     "iopub.execute_input": "2023-04-09T03:33:31.540358Z",
     "iopub.status.busy": "2023-04-09T03:33:31.540358Z",
     "iopub.status.idle": "2023-04-09T03:33:31.554831Z",
     "shell.execute_reply": "2023-04-09T03:33:31.554831Z",
     "shell.execute_reply.started": "2023-04-09T03:33:31.540358Z"
    },
    "tags": []
   },
   "outputs": [],
   "source": [
    "# In observational studies, we pick objects that have been and have not been exposed to a condition and study the consequences of that exposure\n",
    "# Here the exposure was passive, the researches simply takes advantage of an event that has happened to make an analyses\n",
    "# without having any active involvement in the exposure\n",
    "\n",
    "# e.g. a researcher cannot select 100 healthy people and ask them to smoke cigarettes, in order to study lung cancer incidence\n",
    "# In experimental studies, assigning is often unethical.\n",
    "# Vice versa, when assignments are unethical, observational studies are chosen over experimental studies."
   ]
  },
  {
   "cell_type": "markdown",
   "id": "dfd1c19e-541c-4a1f-b8ab-144dcf3e9d3c",
   "metadata": {},
   "source": [
    "## ___Power and Bias___\n",
    "-----------"
   ]
  },
  {
   "cell_type": "code",
   "execution_count": 14,
   "id": "082bad02-f0d3-431e-838e-f0b3cf1e9723",
   "metadata": {
    "execution": {
     "iopub.execute_input": "2023-04-09T03:41:48.012371Z",
     "iopub.status.busy": "2023-04-09T03:41:48.012371Z",
     "iopub.status.idle": "2023-04-09T03:41:48.027783Z",
     "shell.execute_reply": "2023-04-09T03:41:48.027783Z",
     "shell.execute_reply.started": "2023-04-09T03:41:48.012371Z"
    },
    "tags": []
   },
   "outputs": [],
   "source": [
    "# In general, more data yield more information\n",
    "# the method of data collection is very important\n",
    "# if the data collected in a study is not oriented towards answering the research question, then the results of analyses won't be very informative."
   ]
  },
  {
   "cell_type": "code",
   "execution_count": null,
   "id": "f5aa09b0-fc9d-4703-a712-2728376a31b3",
   "metadata": {},
   "outputs": [],
   "source": [
    "# Power analyses is a process by which we can assess whether a given study design is likely to yield meaningful findings.\n",
    "# Bias is another issue that can result when the measurements are systematically off-target or a chosen sample is not\n",
    "# representative of the population of interest. Bias is a problem is any type of studies, but observational studies are more vulnerable to it, \n",
    "# since the researcher has little to no power in the \"experimental design\""
   ]
  }
 ],
 "metadata": {
  "kernelspec": {
   "display_name": "Python 3 (ipykernel)",
   "language": "python",
   "name": "python3"
  },
  "language_info": {
   "codemirror_mode": {
    "name": "ipython",
    "version": 3
   },
   "file_extension": ".py",
   "mimetype": "text/x-python",
   "name": "python",
   "nbconvert_exporter": "python",
   "pygments_lexer": "ipython3",
   "version": "3.11.3"
  }
 },
 "nbformat": 4,
 "nbformat_minor": 5
}

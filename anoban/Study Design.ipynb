{
 "cells": [
  {
   "cell_type": "markdown",
   "id": "34149c48-6467-475f-942d-77a6c8f3c3bd",
   "metadata": {},
   "source": [
    "# ___Study Design___\n",
    "--------------"
   ]
  },
  {
   "cell_type": "code",
   "execution_count": 1,
   "id": "55b46a2b-1867-439a-bfb5-2106a97334d6",
   "metadata": {
    "execution": {
     "iopub.execute_input": "2023-04-08T12:31:33.623377Z",
     "iopub.status.busy": "2023-04-08T12:31:33.623377Z",
     "iopub.status.idle": "2023-04-08T12:31:33.641242Z",
     "shell.execute_reply": "2023-04-08T12:31:33.641242Z",
     "shell.execute_reply.started": "2023-04-08T12:31:33.623377Z"
    },
    "tags": []
   },
   "outputs": [],
   "source": [
    "# There are a wise variety of study designs staring from exploratory analyses of pre-existing datasets to highly planned efforts \n",
    "# to collecting & analyszing data to answer specific questions."
   ]
  },
  {
   "cell_type": "code",
   "execution_count": 2,
   "id": "d92c5264-7378-45c4-b880-f79a8fde74c6",
   "metadata": {
    "execution": {
     "iopub.execute_input": "2023-04-08T12:32:51.240024Z",
     "iopub.status.busy": "2023-04-08T12:32:51.240024Z",
     "iopub.status.idle": "2023-04-08T12:32:51.254074Z",
     "shell.execute_reply": "2023-04-08T12:32:51.254074Z",
     "shell.execute_reply.started": "2023-04-08T12:32:51.240024Z"
    },
    "tags": []
   },
   "outputs": [],
   "source": [
    "# Study design encompasses everything in the preparation for data-driven research.\n",
    "# There many fileds have very different ideas and strategies about study design."
   ]
  },
  {
   "cell_type": "code",
   "execution_count": 3,
   "id": "6bc781a6-a866-4073-9615-6eb253f0450c",
   "metadata": {
    "execution": {
     "iopub.execute_input": "2023-04-08T12:35:48.719352Z",
     "iopub.status.busy": "2023-04-08T12:35:48.719352Z",
     "iopub.status.idle": "2023-04-08T12:35:48.729121Z",
     "shell.execute_reply": "2023-04-08T12:35:48.729121Z",
     "shell.execute_reply.started": "2023-04-08T12:35:48.719352Z"
    },
    "tags": []
   },
   "outputs": [],
   "source": [
    "# Study designs in various fields\n",
    "    # Clinical trials for drugs & medical treatments\n",
    "    # Reliability and Q/A studies for products\n",
    "    # Observational studies for human health\n",
    "    # Public opinions / or other surveys\n",
    "    # Market research studies\n",
    "    # Argrcultural field trials (testing herbicides, fertilizers, pesticides, growth promoters ..etc)"
   ]
  },
  {
   "cell_type": "markdown",
   "id": "1432286c-a42c-46e3-a955-ee1e7f3ebea9",
   "metadata": {},
   "source": [
    "## ___Types of Research Studies___\n",
    "-----------------"
   ]
  },
  {
   "cell_type": "code",
   "execution_count": 4,
   "id": "58f011ba-2149-4ffb-901f-959ec9433b75",
   "metadata": {
    "execution": {
     "iopub.execute_input": "2023-04-08T12:37:19.140357Z",
     "iopub.status.busy": "2023-04-08T12:37:19.139344Z",
     "iopub.status.idle": "2023-04-08T12:37:19.143068Z",
     "shell.execute_reply": "2023-04-08T12:37:19.143068Z",
     "shell.execute_reply.started": "2023-04-08T12:37:19.140357Z"
    },
    "tags": []
   },
   "outputs": [],
   "source": [
    "# Exploratory vs confirmatory studies\n",
    "# Comparative vs non-comparative studies\n",
    "# Observational vs experimental studies"
   ]
  },
  {
   "cell_type": "markdown",
   "id": "4a8ccc61-fce5-475b-ba34-7e1c079a0361",
   "metadata": {},
   "source": [
    "## ___Confirmatory vs Exploratory research___\n",
    "----------------------"
   ]
  },
  {
   "cell_type": "code",
   "execution_count": null,
   "id": "edc01a49-5b5d-4a14-9664-1c938f704489",
   "metadata": {},
   "outputs": [],
   "source": []
  }
 ],
 "metadata": {
  "kernelspec": {
   "display_name": "Python 3 (ipykernel)",
   "language": "python",
   "name": "python3"
  },
  "language_info": {
   "codemirror_mode": {
    "name": "ipython",
    "version": 3
   },
   "file_extension": ".py",
   "mimetype": "text/x-python",
   "name": "python",
   "nbconvert_exporter": "python",
   "pygments_lexer": "ipython3",
   "version": "3.11.3"
  }
 },
 "nbformat": 4,
 "nbformat_minor": 5
}

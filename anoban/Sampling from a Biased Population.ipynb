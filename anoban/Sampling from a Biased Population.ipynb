{
 "cells": [
  {
   "cell_type": "markdown",
   "id": "bf2f3930-bb27-4381-800c-93aacafd9d6b",
   "metadata": {},
   "source": [
    "# ___Sampling from a Biased Population___\n",
    "-----------------"
   ]
  },
  {
   "cell_type": "code",
   "execution_count": null,
   "id": "cf2dcdf2-a850-4c8f-9c1a-4bb7f26d3ec9",
   "metadata": {},
   "outputs": [],
   "source": []
  }
 ],
 "metadata": {
  "kernelspec": {
   "display_name": "Python 3 (ipykernel)",
   "language": "python",
   "name": "python3"
  },
  "language_info": {
   "codemirror_mode": {
    "name": "ipython",
    "version": 3
   },
   "file_extension": ".py",
   "mimetype": "text/x-python",
   "name": "python",
   "nbconvert_exporter": "python",
   "pygments_lexer": "ipython3",
   "version": "3.11.3"
  }
 },
 "nbformat": 4,
 "nbformat_minor": 5
}

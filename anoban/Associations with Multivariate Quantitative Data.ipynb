{
 "cells": [
  {
   "cell_type": "code",
   "execution_count": 1,
   "id": "a4768a1c-40eb-4b2e-ab4b-647ea1f95353",
   "metadata": {
    "tags": []
   },
   "outputs": [],
   "source": [
    "import numpy as np\n",
    "import pandas as pd\n",
    "from collections import Counter\n",
    "import matplotlib.pyplot as plt"
   ]
  },
  {
   "cell_type": "markdown",
   "id": "2deb165a-1ddc-47d2-a282-542408f4e868",
   "metadata": {},
   "source": [
    "# ___Associations with Multivariate Quantitative Data___\n",
    "-------------"
   ]
  },
  {
   "cell_type": "code",
   "execution_count": 2,
   "id": "bdc36180-828d-4ed5-b699-ada2203862a3",
   "metadata": {
    "tags": []
   },
   "outputs": [],
   "source": [
    "# Consider a survey on students of a university\n",
    "# We measure a set of characteristics\n",
    "    # BMI\n",
    "    # Blood pressure\n",
    "    # Cholestrol level"
   ]
  },
  {
   "cell_type": "code",
   "execution_count": 3,
   "id": "52f25a62-b6d4-476e-809b-c4b1cb9f0fac",
   "metadata": {
    "tags": []
   },
   "outputs": [],
   "source": [
    "# Data collected in this survey will be a multivariate quantitative data.\n",
    "# Multivariate since we have more than one variable.\n",
    "# Quantitative since the variables are quantitative."
   ]
  },
  {
   "cell_type": "code",
   "execution_count": null,
   "id": "fb6c8974-3146-4060-8ea7-b34efc987a8c",
   "metadata": {},
   "outputs": [],
   "source": []
  }
 ],
 "metadata": {
  "kernelspec": {
   "display_name": "Python 3 (ipykernel)",
   "language": "python",
   "name": "python3"
  },
  "language_info": {
   "codemirror_mode": {
    "name": "ipython",
    "version": 3
   },
   "file_extension": ".py",
   "mimetype": "text/x-python",
   "name": "python",
   "nbconvert_exporter": "python",
   "pygments_lexer": "ipython3",
   "version": "3.11.3"
  }
 },
 "nbformat": 4,
 "nbformat_minor": 5
}

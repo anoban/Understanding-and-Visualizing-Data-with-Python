{
 "cells": [
  {
   "cell_type": "markdown",
   "id": "09cec11e-9067-4e2d-aa75-31e883eb00dd",
   "metadata": {},
   "source": [
    "# ***Statistics***\n",
    "-------------"
   ]
  },
  {
   "cell_type": "code",
   "execution_count": 1,
   "id": "be7efc0d-8f10-42fa-9efa-8e27abc00eb6",
   "metadata": {
    "execution": {
     "iopub.execute_input": "2023-04-06T03:32:33.590587Z",
     "iopub.status.busy": "2023-04-06T03:32:33.590587Z",
     "iopub.status.idle": "2023-04-06T03:32:33.594669Z",
     "shell.execute_reply": "2023-04-06T03:32:33.594669Z",
     "shell.execute_reply.started": "2023-04-06T03:32:33.590587Z"
    },
    "tags": []
   },
   "outputs": [],
   "source": [
    "# Statistics is a methodological subject encompassing all aspects of learning from data.\n",
    "# Field of statistics -> Statistics.\n",
    "# Statistic -> a numerical / graphical representation of a collection of data."
   ]
  },
  {
   "cell_type": "code",
   "execution_count": 2,
   "id": "e26b1c91-4306-4bd1-8287-46a0c9955e7d",
   "metadata": {
    "execution": {
     "iopub.execute_input": "2023-04-06T03:33:45.402833Z",
     "iopub.status.busy": "2023-04-06T03:33:45.402833Z",
     "iopub.status.idle": "2023-04-06T03:33:45.409844Z",
     "shell.execute_reply": "2023-04-06T03:33:45.409844Z",
     "shell.execute_reply.started": "2023-04-06T03:33:45.402833Z"
    },
    "tags": []
   },
   "outputs": [],
   "source": [
    "# Examples of statistic\n",
    "    # Average score in an examination.\n",
    "    # Minmum temperature in Palo Alto in January 2023.\n",
    "    # Proportion of people who are retired in Las Vegas."
   ]
  },
  {
   "cell_type": "code",
   "execution_count": 3,
   "id": "14ee29ee-5fae-4015-ae6c-b166f5dd05fe",
   "metadata": {
    "execution": {
     "iopub.execute_input": "2023-04-06T03:35:40.550623Z",
     "iopub.status.busy": "2023-04-06T03:35:40.550623Z",
     "iopub.status.idle": "2023-04-06T03:35:40.560499Z",
     "shell.execute_reply": "2023-04-06T03:35:40.560499Z",
     "shell.execute_reply.started": "2023-04-06T03:35:40.550623Z"
    },
    "tags": []
   },
   "outputs": [],
   "source": [
    "# Field of statistic is an academic discipline that focuses on discerning information from data."
   ]
  },
  {
   "cell_type": "markdown",
   "id": "ddcc2663-342f-44ae-938b-dc68261f2fed",
   "metadata": {},
   "source": [
    "### ***Statistics as the art of summarizing data***\n",
    "------------------------------"
   ]
  },
  {
   "cell_type": "code",
   "execution_count": 6,
   "id": "62e72f84-7e0d-478b-b457-039aa80c7de6",
   "metadata": {
    "execution": {
     "iopub.execute_input": "2023-04-06T03:40:26.711321Z",
     "iopub.status.busy": "2023-04-06T03:40:26.711321Z",
     "iopub.status.idle": "2023-04-06T03:40:26.721129Z",
     "shell.execute_reply": "2023-04-06T03:40:26.721129Z",
     "shell.execute_reply.started": "2023-04-06T03:40:26.711321Z"
    },
    "tags": []
   },
   "outputs": [],
   "source": [
    "# Data can be overwhelming.\n",
    "# Making sense of data involves reduction & summarization.\n",
    "# Reduction helps the dataset comprehensible to the human observer.\n",
    "# Summarization depends primarily on the goals of data consumer to be meaningful.\n",
    "# Data can also be misleading.\n",
    "# In general insights from data are far from accurate.\n",
    "# There's typically a margin of error that suggests the degree of discrepancy that could be between the real population and the studied sample."
   ]
  },
  {
   "cell_type": "code",
   "execution_count": 7,
   "id": "cd1bcbf6-300a-4ed6-a9e8-cb939a8e7b95",
   "metadata": {
    "execution": {
     "iopub.execute_input": "2023-04-06T03:40:26.900336Z",
     "iopub.status.busy": "2023-04-06T03:40:26.899318Z",
     "iopub.status.idle": "2023-04-06T03:40:26.903077Z",
     "shell.execute_reply": "2023-04-06T03:40:26.903077Z",
     "shell.execute_reply.started": "2023-04-06T03:40:26.900336Z"
    },
    "tags": []
   },
   "outputs": [],
   "source": [
    "# Statistics helps in decision making."
   ]
  },
  {
   "cell_type": "markdown",
   "id": "0c6ca03d-9703-4933-a24c-8849fb58e49c",
   "metadata": {},
   "source": [
    "### ***Statistics as the science of variation***\n",
    "------------------------------"
   ]
  },
  {
   "cell_type": "code",
   "execution_count": 12,
   "id": "55883e34-1403-4d80-b9cf-438e365c7008",
   "metadata": {
    "execution": {
     "iopub.execute_input": "2023-04-06T03:43:37.083608Z",
     "iopub.status.busy": "2023-04-06T03:43:37.083608Z",
     "iopub.status.idle": "2023-04-06T03:43:37.086734Z",
     "shell.execute_reply": "2023-04-06T03:43:37.086734Z",
     "shell.execute_reply.started": "2023-04-06T03:43:37.083608Z"
    },
    "tags": []
   },
   "outputs": [],
   "source": [
    "# Focuses on the most typical (central) values\n",
    "# e.g. mean, median, mode"
   ]
  },
  {
   "cell_type": "code",
   "execution_count": 13,
   "id": "5c4aec9b-3330-48d3-a677-da8c67f4194f",
   "metadata": {
    "execution": {
     "iopub.execute_input": "2023-04-06T03:43:37.365788Z",
     "iopub.status.busy": "2023-04-06T03:43:37.365788Z",
     "iopub.status.idle": "2023-04-06T03:43:37.382432Z",
     "shell.execute_reply": "2023-04-06T03:43:37.382432Z",
     "shell.execute_reply.started": "2023-04-06T03:43:37.365788Z"
    },
    "tags": []
   },
   "outputs": [],
   "source": [
    "# With emphasis on understanding the variation in the data.\n",
    "# e.g. Average American has a credit card debt around $ 7,000.    (a central value)\n",
    "# 8.6 % of Americans have a credit card debit over $ 67,000.      (variability)"
   ]
  },
  {
   "cell_type": "markdown",
   "id": "3e5cf780-781b-44c1-8e96-21b6e8e8d2a8",
   "metadata": {},
   "source": [
    "### ***Statistics as the art of forecasting***\n",
    "------------------------------"
   ]
  },
  {
   "cell_type": "code",
   "execution_count": 16,
   "id": "98f7fb2b-fb46-498a-9ab2-5acac0d3cc46",
   "metadata": {
    "execution": {
     "iopub.execute_input": "2023-04-06T03:47:16.507278Z",
     "iopub.status.busy": "2023-04-06T03:47:16.507278Z",
     "iopub.status.idle": "2023-04-06T03:47:16.519303Z",
     "shell.execute_reply": "2023-04-06T03:47:16.519303Z",
     "shell.execute_reply.started": "2023-04-06T03:47:16.507278Z"
    },
    "tags": []
   },
   "outputs": [],
   "source": [
    "# Forecasting / predictions.\n",
    "# Cannot predict the future with absolute certainty\n",
    "# Still can predict sufficiently accurately with enough information."
   ]
  },
  {
   "cell_type": "code",
   "execution_count": 17,
   "id": "e006e727-ebac-4f11-82d6-510066bdc8a8",
   "metadata": {
    "execution": {
     "iopub.execute_input": "2023-04-06T03:47:16.648347Z",
     "iopub.status.busy": "2023-04-06T03:47:16.648347Z",
     "iopub.status.idle": "2023-04-06T03:47:16.655641Z",
     "shell.execute_reply": "2023-04-06T03:47:16.655641Z",
     "shell.execute_reply.started": "2023-04-06T03:47:16.648347Z"
    },
    "tags": []
   },
   "outputs": [],
   "source": [
    "# These require measurements\n",
    "# Some of these parameters can be measured with high accuracy -> age, height, weight\n",
    "# Others are quite difficult to pin down quantitatively -> mood, political stance, personality, blood pressure - (rapidly changes)"
   ]
  },
  {
   "cell_type": "markdown",
   "id": "8df44982-0bf6-4dc5-bff1-1b4724911512",
   "metadata": {},
   "source": [
    "### ***Statistics as the basis for principled data collection***\n",
    "------------------------------"
   ]
  },
  {
   "cell_type": "code",
   "execution_count": 18,
   "id": "11bd0367-46cd-4454-a28c-f9802e16acef",
   "metadata": {
    "execution": {
     "iopub.execute_input": "2023-04-06T03:50:34.704404Z",
     "iopub.status.busy": "2023-04-06T03:50:34.704404Z",
     "iopub.status.idle": "2023-04-06T03:50:34.713737Z",
     "shell.execute_reply": "2023-04-06T03:50:34.713737Z",
     "shell.execute_reply.started": "2023-04-06T03:50:34.704404Z"
    },
    "tags": []
   },
   "outputs": [],
   "source": [
    "# Data is often expensive and difficult to collect.\n",
    "# Resource limitations\n",
    "# e.g. Crash test data for motor vehicles -> testing involves destroying / damaging vehicles partly / completely.\n",
    "# In such cases one would prefer to collect as less data as possible.\n",
    "# But too little data alos means that the inferences may not be as good to make critical decisions.\n",
    "# Statistics provides a good layout to manage this tradeoff."
   ]
  },
  {
   "cell_type": "markdown",
   "id": "034e8e4f-5a0d-42f7-99b5-3dab1e653b6c",
   "metadata": {},
   "source": [
    "# ***Statistics and its Allied Fields***\n",
    "---------------------"
   ]
  },
  {
   "cell_type": "code",
   "execution_count": 19,
   "id": "4597676d-89d4-4dad-9ce2-d9e99babf8a3",
   "metadata": {
    "execution": {
     "iopub.execute_input": "2023-04-06T04:37:28.536735Z",
     "iopub.status.busy": "2023-04-06T04:37:28.536735Z",
     "iopub.status.idle": "2023-04-06T04:37:28.546890Z",
     "shell.execute_reply": "2023-04-06T04:37:28.546890Z",
     "shell.execute_reply.started": "2023-04-06T04:37:28.536735Z"
    },
    "tags": []
   },
   "outputs": [],
   "source": [
    "# Computer Science\n",
    "# Mathematics\n",
    "# Probability theory\n",
    "# Data Science"
   ]
  },
  {
   "cell_type": "code",
   "execution_count": null,
   "id": "8bf02373-14b3-47b9-81f7-058ddc815991",
   "metadata": {},
   "outputs": [],
   "source": []
  }
 ],
 "metadata": {
  "kernelspec": {
   "display_name": "Python 3 (ipykernel)",
   "language": "python",
   "name": "python3"
  },
  "language_info": {
   "codemirror_mode": {
    "name": "ipython",
    "version": 3
   },
   "file_extension": ".py",
   "mimetype": "text/x-python",
   "name": "python",
   "nbconvert_exporter": "python",
   "pygments_lexer": "ipython3",
   "version": "3.11.2"
  }
 },
 "nbformat": 4,
 "nbformat_minor": 5
}

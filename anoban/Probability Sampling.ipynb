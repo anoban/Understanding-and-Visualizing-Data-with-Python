{
 "cells": [
  {
   "cell_type": "markdown",
   "id": "3e034db0-0c2f-422d-9ce9-33888a94c3a5",
   "metadata": {},
   "source": [
    "# ___Probability Sampling___\n",
    "-----------------"
   ]
  },
  {
   "cell_type": "markdown",
   "id": "dd362df5-1983-403b-aeb8-6e6583ed2ca4",
   "metadata": {
    "tags": []
   },
   "source": [
    "## ___Simple Random Samping (SRS)___\n",
    "-----------------"
   ]
  },
  {
   "cell_type": "code",
   "execution_count": 1,
   "id": "ac76d090-33c6-4cbd-918a-ca6c0bff563f",
   "metadata": {
    "tags": []
   },
   "outputs": [],
   "source": [
    "# We start with a N population units (sampling frame), and randomly select n units from the frame.\n",
    "# n is the sample size\n",
    "# Every unit evaluated for sampling has a probability of n/N to get selected for the sample."
   ]
  },
  {
   "cell_type": "markdown",
   "id": "e5b689d2-d62b-4092-8120-5064d2925834",
   "metadata": {},
   "source": [
    "# ___$P(x)~=~(\\frac{n}{N})$___"
   ]
  },
  {
   "cell_type": "code",
   "execution_count": 3,
   "id": "24248a45-e9f4-4c46-8894-cce0ca7a1b93",
   "metadata": {},
   "outputs": [],
   "source": [
    "# This probability is same for every entity in the sampling frame.\n",
    "# This also means that all possible samples of size n are equally likely.\n",
    "# Statistical estimates made from a SRS are unbiased."
   ]
  },
  {
   "cell_type": "code",
   "execution_count": 4,
   "id": "607721ed-5281-4b36-af6f-dfc2bd265dae",
   "metadata": {
    "tags": []
   },
   "outputs": [],
   "source": [
    "# Imagine a SRS of 134 people selected from a population of 10,000 people.\n",
    "# Collecting data from this 134 people who were selected at random, can help us make representative inferences about the larger population."
   ]
  },
  {
   "cell_type": "code",
   "execution_count": 5,
   "id": "ff0a030d-4219-4788-aea5-6e8dd829379e",
   "metadata": {
    "tags": []
   },
   "outputs": [],
   "source": [
    "# SRS can be done with/with out replacements.\n",
    "\n",
    "# SRS with replacement\n",
    "# Here, entities selected once can get selected again.\n",
    "# Means that at every single sampling attempt the probability of selection is n/N\n",
    "\n",
    "# SRS without replacement\n",
    "# Here, entities selected once cannot be selected again.\n",
    "\n",
    "# DOUBT\n",
    "# Here, the probability of selection increases as we proceed with sampling (as the population size declines)\n",
    "# Because we are not returning the previously sampled individuals back to the population, thus the population size declines.\n",
    "# at i th sampling attempt, the probability of selection will be n/(N-i)"
   ]
  },
  {
   "cell_type": "code",
   "execution_count": 6,
   "id": "5f83b102-ee71-441b-b5e8-8496af6ea605",
   "metadata": {
    "tags": []
   },
   "outputs": [
    {
     "data": {
      "text/plain": [
       "3.0129557095510694e-06"
      ]
     },
     "execution_count": 6,
     "metadata": {},
     "output_type": "execute_result"
    }
   ],
   "source": [
    "# SRS is rarely used in real life\n",
    "# Because collecting a n representative entities from a large population can be prohibitively expensive.\n",
    "\n",
    "# Imagine sampling 1,000 random individuals from the whole population of USA.\n",
    "# Population of USA is 331.9 million\n",
    "\n",
    "1_000 / (331.9 * 1000_000)"
   ]
  },
  {
   "cell_type": "code",
   "execution_count": 7,
   "id": "0cac73e0-4395-46dd-9121-a255e68f6eb5",
   "metadata": {
    "tags": []
   },
   "outputs": [],
   "source": [
    "# Suppose we have to drive to the residencies of these 1,000 random people all over the USA,\n",
    "# imagine how expensive that expedition will be.\n",
    "# Thus, SRS is practically limited to smaller populations."
   ]
  },
  {
   "cell_type": "code",
   "execution_count": 8,
   "id": "da52ff9c-9c8a-444b-b6e4-3d7e227bed4d",
   "metadata": {
    "tags": []
   },
   "outputs": [],
   "source": [
    "# So, less expensive alternatives to SRS are needed for larger populations."
   ]
  },
  {
   "cell_type": "markdown",
   "id": "a6629aec-da22-40ec-8ad8-442549a3c670",
   "metadata": {},
   "source": [
    "## ___SRS and IID data___\n",
    "-----------------"
   ]
  },
  {
   "cell_type": "code",
   "execution_count": 1,
   "id": "db85a52d-c6fb-4982-bf9d-642013e3f115",
   "metadata": {},
   "outputs": [],
   "source": [
    "# IID observations are independent & identically distributed in the distributions where they come from.\n",
    "# SRS will generate IID data, theoretically.\n",
    "    # We select a sample\n",
    "    # Take the measurements from the entities in the sample\n",
    "# In theory, this should produce an IID sample.\n",
    "\n",
    "# All randomly sampled entities will give measurements that are independent, such that there's no connection between the units that are \n",
    "# randomly sampled.\n",
    "\n",
    "# These measurements from the entities in the sample are identically distributed.\n",
    "# That they represent a larger population of entities i.e the sampling frame.\n",
    "# The characteristics of the entities in the sample stisfactorily reflect the characteristics of entities in the larger population."
   ]
  },
  {
   "cell_type": "code",
   "execution_count": 2,
   "id": "c9ee3dbf-403f-4b69-b9a8-82ced128656a",
   "metadata": {
    "tags": []
   },
   "outputs": [],
   "source": [
    "# SO WE HAVE A REPRESENTATIVE RANDOMLY SELECTED SAMPLE OF UNITS THAT ARE INDEPENDENT OF ONE ANOTHER."
   ]
  },
  {
   "cell_type": "markdown",
   "id": "d198cbca-56d2-47b7-9561-fc1f8a26f26e",
   "metadata": {},
   "source": [
    "### ___SRS example.___"
   ]
  },
  {
   "cell_type": "code",
   "execution_count": 3,
   "id": "7a71ffb8-109d-4e59-a2dd-f8c03c8d52fc",
   "metadata": {
    "tags": []
   },
   "outputs": [],
   "source": [
    "# A customer service database contains 2,500 emails received from customers in 2018.\n",
    "# And the director of the customer services division has received several complaints on poor and slow customer services.\n",
    "# So, now he wants an estimate of how long does the customer service agents take to respond to emails from customers?\n",
    "\n",
    "# Unfortunately, the database did not record the reply time in the received email records. \n",
    "# A record of received email only has the time record for arrival.\n",
    "# To trace the time of reply, a staff needs to manually search for the given email and find the thread of that convesation\n",
    "# and note down the time of reply, marked in the reply email.\n",
    "\n",
    "# This is a very tediuos process, that will take a very long time for 2,500 emails.\n",
    "# So, the director asks the analytics team to sample just 150 emails, process them and find the estimate!"
   ]
  },
  {
   "cell_type": "code",
   "execution_count": 4,
   "id": "74f80cb1-27d6-484b-adf7-6f068dd459ee",
   "metadata": {
    "tags": []
   },
   "outputs": [],
   "source": [
    "# Sampling approaches\n",
    "\n",
    "# Naive approach\n",
    "# Just process the first 150 emails in the database.\n",
    "    # Likely be biases\n",
    "    # At the start, the customer service employees may have been inexperienced and took more time to respond\n",
    "    # Eventually they got better at their job, now they are able to respond faster.\n",
    "    # At the start, the company may have had very few customer service employees, so they might have took long to respond\n",
    "    # At the start, the email traffic may have been very small, so the employees could have responded very quickly\n",
    "# No randomness in selection here.\n",
    "# The selected entities are not representative of the whole 2,500 email response times.\n",
    "# This essentially is a nonprobability sampling.\n",
    "    \n",
    "# Alternative\n",
    "# Number the emails from 1 to 2,500\n",
    "# randomly pick a 150 using a random number generator.\n",
    "# Here every email has a known probability of selection\n",
    "# P(x) = n/N\n",
    "#      = 150 / 2500\n",
    "# This will produce a random representative sample (in theory)\n",
    "# The estimated mean response time will be an unbiased estimate of the mean response time of the whole set of 2,500 emails."
   ]
  },
  {
   "cell_type": "code",
   "execution_count": null,
   "id": "9924043f-b98e-4aa8-abe4-0bde91c1f283",
   "metadata": {},
   "outputs": [],
   "source": []
  },
  {
   "cell_type": "markdown",
   "id": "546e4348-fab4-4189-aa6a-0c8b64486772",
   "metadata": {},
   "source": [
    "## ___Complex Probability Sampling___\n",
    "---------------"
   ]
  },
  {
   "cell_type": "code",
   "execution_count": 5,
   "id": "b7711d7b-7d26-46ae-b1eb-ed2db42ed592",
   "metadata": {
    "tags": []
   },
   "outputs": [],
   "source": [
    "# Not every probability sample is an SRS\n",
    "# SRS have their own drawbacks. They are very expensive for larger populations.\n",
    "# This is where complex probability sampling helps."
   ]
  },
  {
   "cell_type": "code",
   "execution_count": 6,
   "id": "63ec274a-77cd-4c03-96c6-cc54a1938e2a",
   "metadata": {
    "tags": []
   },
   "outputs": [],
   "source": [
    "# SRS is used when the population is relatively small or\n",
    "# When the data needed is already available e.g in a database, or a cabinet full of files. (no need for data collection)\n",
    "# So we just have to sample it.\n",
    "# Here as well each entity in the population has equal likelihood of getting selected.\n",
    "\n",
    "# In complex sampling we use specific features of probability sample design to minimize the sampling costs.\n",
    "# The term complex sampling is used for anything more complicated than SRS."
   ]
  },
  {
   "cell_type": "markdown",
   "id": "5dd500be-3eee-44ac-bb96-7ac7f7991ac7",
   "metadata": {},
   "source": [
    "### ___Key features of complex sampling___\n",
    "--------------"
   ]
  },
  {
   "cell_type": "markdown",
   "id": "1d0feeec-b53f-47a1-8c77-22ffe8636bb1",
   "metadata": {},
   "source": [
    "## ___(1) Stratification___"
   ]
  },
  {
   "cell_type": "code",
   "execution_count": 7,
   "id": "fcac563d-5ad9-44a5-b53c-ac8668937b92",
   "metadata": {
    "tags": []
   },
   "outputs": [],
   "source": [
    "# The whole population is partitioned into different strata, based on a criteria\n",
    "# And each entity belongs to just one stratum.\n",
    "# This ensures the sample has a representative mix of entities from each stratum\n",
    "# And reduces the variances in survey estimates.\n",
    "\n",
    "# Consider a stadium with 4 quadrants.\n",
    "# We select 100 random audience from the stadium and by random chance all the 100 audience could have come from just one quadrant.\n",
    "# In that instance, our sample is not really representative of all the people in the stadium.\n",
    "# This is still a random, probability sample but not a representative one.\n",
    "\n",
    "# With stratification involved, we may have allocated a quota of 25 to each quardant and randomly selected 25 people from each quadrant\n",
    "# A more representative sample migh have resulted."
   ]
  },
  {
   "cell_type": "markdown",
   "id": "2c5c5dc1-7169-4f7a-9d88-6a2b818503c6",
   "metadata": {},
   "source": [
    "## ___(2) Cluster sampling___"
   ]
  },
  {
   "cell_type": "code",
   "execution_count": 8,
   "id": "30044ab8-58d9-49c1-b742-e3d13f7f830d",
   "metadata": {
    "tags": []
   },
   "outputs": [],
   "source": [
    "# In cluster sampling we might select clusters of populations.\n",
    "# e.g. counties in USA are sampled with a known probability of selection within a stratum.\n",
    "\n",
    "# x number of counties from Western United States  --> Cluster A\n",
    "# y number of counties from Mid-Western United States  --> Cluster B\n",
    "# z number of counties from Southern United States  --> Cluster C\n",
    "# etc..\n",
    "\n",
    "# Now we have a sample of counties that are representative of all the counties in USA.\n",
    "# We can visit these counties to select individuals or households.\n",
    "# The effort becomes more focused and coordinated, thus reduces costs.\n",
    "\n",
    "# Instead of visiting a select sample of households that are sampled completely randomly all over the USA,\n",
    "# this method saves a lot of costs by categorzing the sites spatially, such that one could vistit county by county selecting people\n",
    "\n",
    "# Now that we have a sample of counties -> which consists of clusters of counties (categorized based on their locality)\n",
    "# We can randomly sample households within those counties with a defined probability of selection.\n",
    "# e.g. get all the addresses in County x\n",
    "# and pick 100 addresses randomly & visit those huseholds to collect the measurements.\n",
    "# This part is very similar to SRS.\n",
    "\n",
    "# This employs a hierarchical approach to sampling.\n",
    "# Population -> Sample of counties -> For each county, a random sample of households."
   ]
  },
  {
   "cell_type": "markdown",
   "id": "555613c8-b6ed-4a76-8626-2d37bd485a6d",
   "metadata": {},
   "source": [
    "### ___Determinants of an entity's probability of selection in complex sampling___"
   ]
  },
  {
   "cell_type": "code",
   "execution_count": 9,
   "id": "a56c0b36-a0fc-4e9e-b3d9-ab3b1b8d59b7",
   "metadata": {
    "tags": []
   },
   "outputs": [],
   "source": [
    "# Number of clusters sampled from each stratum (e.g. counties selected from Eastern USA)\n",
    "\n",
    "# Total number of clusters in each stratum (e.g. all the counties in Southern USA)\n",
    "\n",
    "# Number of units ultimately sampled from each cluster (e.g. number of households from County A)\n",
    "\n",
    "# Total number of units in each cluster (e.g. all the households in County A)"
   ]
  },
  {
   "cell_type": "markdown",
   "id": "11c24d47-7668-4bf1-83d2-e130a795e86f",
   "metadata": {},
   "source": [
    "### ___Finding the probability of selection in Complex Sampling___"
   ]
  },
  {
   "cell_type": "code",
   "execution_count": 1,
   "id": "b8ac23a8-5155-4dc1-9077-5e8841cbb996",
   "metadata": {
    "tags": []
   },
   "outputs": [],
   "source": [
    "# Select \"a\" number of clusters from a stratum (population of clusters) \"A\"\n",
    "# Select \"b\" number of entities from a cluster \"B\"\n",
    "\n",
    "# Hierarchy level 1 ---> a from A\n",
    "# Hierarchy level 2 (lower) ---> b from B"
   ]
  },
  {
   "cell_type": "markdown",
   "id": "6201b527-5489-4991-b460-b8fe86dbf7a9",
   "metadata": {},
   "source": [
    "# ___$P(b)~=~(\\frac{a}{A}) \\cdot (\\frac{b}{B})$___"
   ]
  },
  {
   "cell_type": "code",
   "execution_count": 2,
   "id": "85c4d1eb-50cb-44cc-b233-b90d008dd16c",
   "metadata": {
    "tags": []
   },
   "outputs": [],
   "source": [
    "# A stratum -> Midwestern USA (A)\n",
    "# Randomly seleced counties in Midwestern USA -> (a)\n",
    "\n",
    "# For one selected county -> (B)  (B is one entity in a)\n",
    "# Randomly select b number of households. -> (b)                                                   "
   ]
  },
  {
   "cell_type": "markdown",
   "id": "08979e1b-150d-4aed-b9c9-5982ff1cf922",
   "metadata": {},
   "source": [
    "# ___Probability of selecting a cluster `a` at random from a stratum `A`$~=~P(a)~=~(\\frac{a}{A})$___"
   ]
  },
  {
   "cell_type": "markdown",
   "id": "f7eebc9a-fcc1-451e-a48c-f932371489fd",
   "metadata": {},
   "source": [
    "# ___Probability of selecting an entity `b` at random from a cluster `B`$~=~P(b)~=~(\\frac{b}{B})$___"
   ]
  },
  {
   "cell_type": "markdown",
   "id": "8a61cbd3-6fed-4ce4-bf6e-efec9c98cf60",
   "metadata": {},
   "source": [
    "## __Q__\n",
    "----------------\n",
    "In the northeastern region of the United States (a stratum), suppose that 20 counties (clusters) are sampled at random from a list of 300 counties, and 100 housing units (elements) are sampled from a purchased list of housing units in each sampled county. In the southeastern region of the United States, suppose that 10 counties are sampled at random from a list of 200 counties, and 100 housing units are sampled from a list of housing units in each county. What are the probabilities of selection for housing units in each of the two strata?\n",
    "\n",
    "1) 20/100 and 10/100\n",
    "2) 20/300 and 10/200\n",
    "3) 100/300 and 100/200\n",
    "4) We cannot determine the probabilities of selection from the information provided."
   ]
  },
  {
   "cell_type": "markdown",
   "id": "7321f943-d442-4003-8cda-36dcefd0a1b8",
   "metadata": {},
   "source": [
    "# ___$P(h_{NE})~=~(\\frac{100}{?}) \\cdot (\\frac{20}{300})$___\n",
    "# ___$P(h_{SE})~=~(\\frac{100}{?}) \\cdot (\\frac{10}{200})$___"
   ]
  },
  {
   "cell_type": "code",
   "execution_count": 3,
   "id": "c58c28b1-14a0-4ae2-a05a-19f500b44c0f",
   "metadata": {
    "tags": []
   },
   "outputs": [],
   "source": [
    "# 4 is the answer, since we do not know how many housing units were in the selected counties, we cannot compute the probabilities."
   ]
  },
  {
   "cell_type": "markdown",
   "id": "ad437ec8-3201-4055-be1b-62f4d04f8656",
   "metadata": {},
   "source": [
    "## ___Complex Sampling Example___"
   ]
  },
  {
   "cell_type": "code",
   "execution_count": 4,
   "id": "0d9c1548-5ae8-4a77-81dd-179ed459e119",
   "metadata": {
    "tags": []
   },
   "outputs": [],
   "source": [
    "# Let's use NHANES\n",
    "\n",
    "# Let's divide the USA into different regions, based on geography and population density. (stratification)\n",
    "# This division forms the stratification.\n",
    "# By allocating entities to these strata, we ensure representiveness.\n",
    "\n",
    "# Allocate a random sample of counties from each of the region (stratum)\n",
    "# This division forms clusters.\n",
    "# This reduces costs."
   ]
  },
  {
   "cell_type": "code",
   "execution_count": 5,
   "id": "15aec354-21ce-4707-a973-8044d0e78334",
   "metadata": {
    "tags": []
   },
   "outputs": [],
   "source": [
    "# Sample certain socio-demographic groups at high rates within counties\n",
    "# A phenomenon known as oversampling.\n",
    "# Cetrain demographics like mexicans, chinese or vietnamese may be overy represented by certain counties\n",
    "# And certain counties may represent extremes of socioeconomic hierarchy, like extremely poor households or rich households."
   ]
  },
  {
   "cell_type": "code",
   "execution_count": 6,
   "id": "f32d22ae-6cad-4fb1-8616-28acde84ed4b",
   "metadata": {
    "tags": []
   },
   "outputs": [],
   "source": [
    "# This might seem to introduce bias at first glance\n",
    "# Because different types of people are going to be represented in different proportions in the samples\n",
    "# And that's okay. We still have a probability design and this can be used to make representative inferences."
   ]
  },
  {
   "cell_type": "code",
   "execution_count": 7,
   "id": "492db70e-9029-47b4-a4cd-8bdf077ebabd",
   "metadata": {
    "tags": []
   },
   "outputs": [],
   "source": [
    "# The NHANES approach\n",
    "\n",
    "# Stage 1   -> The whole USA is divided into regions from which county clusters are sampled randomly.\n",
    "#              From each of these clusters, one county is randomly selected.\n",
    "# This step improves representativeness\n",
    "\n",
    "# Stage 2   -> From a given county multiple segments (areas) are randomly sampled.\n",
    "# This step reduces sampling expenses.\n",
    "\n",
    "# Stage 3   -> Select a random sample of households from the selected county area.\n",
    "\n",
    "# Stage 4   -> Visit the household and randomly select one member for measurements."
   ]
  },
  {
   "cell_type": "code",
   "execution_count": null,
   "id": "c4ff0968-bdd3-44c9-86ed-ae27c17aae74",
   "metadata": {},
   "outputs": [],
   "source": [
    "# At all 4 of the stages we know what the probability of selections are.\n",
    "# This ability to caculate the probability of selection for each entity at every step.\n",
    "# Ultimately we can compute the probability of being included for every single individual."
   ]
  }
 ],
 "metadata": {
  "kernelspec": {
   "display_name": "Python 3 (ipykernel)",
   "language": "python",
   "name": "python3"
  },
  "language_info": {
   "codemirror_mode": {
    "name": "ipython",
    "version": 3
   },
   "file_extension": ".py",
   "mimetype": "text/x-python",
   "name": "python",
   "nbconvert_exporter": "python",
   "pygments_lexer": "ipython3",
   "version": "3.11.3"
  }
 },
 "nbformat": 4,
 "nbformat_minor": 5
}

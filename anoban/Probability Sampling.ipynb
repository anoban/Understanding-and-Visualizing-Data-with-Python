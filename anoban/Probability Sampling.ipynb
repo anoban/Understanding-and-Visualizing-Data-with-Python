{
 "cells": [
  {
   "cell_type": "markdown",
   "id": "3e034db0-0c2f-422d-9ce9-33888a94c3a5",
   "metadata": {},
   "source": [
    "# ___Probability Sampling___\n",
    "-----------------"
   ]
  },
  {
   "cell_type": "markdown",
   "id": "e048855c-7032-42be-8b1c-f1fa1dd32727",
   "metadata": {},
   "source": [
    "- ### ___Simple Random Sampling (SRS)___\n",
    "- ### ___SRS and it's links to IID data___\n",
    "\n",
    "- ### ___Complex sampling for larger populations: samples with very specific design features.___\n",
    "    - Stratification\n",
    "    - Cluster sampling\n",
    "    - Weighting\n",
    "\n",
    "- ### ___Key benefits of probability sampling___"
   ]
  },
  {
   "cell_type": "markdown",
   "id": "be920df6-dd2e-4e80-ae56-1b20262088ba",
   "metadata": {},
   "source": [
    "-----------------\n",
    "----------------"
   ]
  },
  {
   "cell_type": "markdown",
   "id": "dd362df5-1983-403b-aeb8-6e6583ed2ca4",
   "metadata": {},
   "source": [
    "## ___Simple Random Samping $(SRS)$___\n",
    "-----------------"
   ]
  },
  {
   "cell_type": "code",
   "execution_count": 1,
   "id": "ac76d090-33c6-4cbd-918a-ca6c0bff563f",
   "metadata": {
    "tags": []
   },
   "outputs": [],
   "source": [
    "# We start with a N population units (sampling frame), and randomly select n units from the frame.\n",
    "# n is the sample size\n",
    "# every unit evaluated for sampling has a probability of n/N to get selected for the sample."
   ]
  },
  {
   "cell_type": "markdown",
   "id": "e5b689d2-d62b-4092-8120-5064d2925834",
   "metadata": {},
   "source": [
    "## ___$P(x)~=~(\\frac{n}{N})$___"
   ]
  },
  {
   "cell_type": "code",
   "execution_count": null,
   "id": "24248a45-e9f4-4c46-8894-cce0ca7a1b93",
   "metadata": {},
   "outputs": [],
   "source": [
    "# This probability is same for every entity in the sampling frame.\n",
    "# This also means that all possible samples of size n are equally likely.\n",
    "# Statistical estimates made from a SRS are unbiased."
   ]
  }
 ],
 "metadata": {
  "kernelspec": {
   "display_name": "Python 3 (ipykernel)",
   "language": "python",
   "name": "python3"
  },
  "language_info": {
   "codemirror_mode": {
    "name": "ipython",
    "version": 3
   },
   "file_extension": ".py",
   "mimetype": "text/x-python",
   "name": "python",
   "nbconvert_exporter": "python",
   "pygments_lexer": "ipython3",
   "version": "3.11.3"
  }
 },
 "nbformat": 4,
 "nbformat_minor": 5
}

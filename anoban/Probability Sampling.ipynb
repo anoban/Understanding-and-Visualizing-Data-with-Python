{
 "cells": [
  {
   "cell_type": "markdown",
   "id": "3e034db0-0c2f-422d-9ce9-33888a94c3a5",
   "metadata": {},
   "source": [
    "# ___Probability Sampling___\n",
    "-----------------"
   ]
  },
  {
   "cell_type": "markdown",
   "id": "dd362df5-1983-403b-aeb8-6e6583ed2ca4",
   "metadata": {},
   "source": [
    "## ___Simple Random Samping (SRS)___\n",
    "-----------------"
   ]
  },
  {
   "cell_type": "code",
   "execution_count": 1,
   "id": "ac76d090-33c6-4cbd-918a-ca6c0bff563f",
   "metadata": {
    "tags": []
   },
   "outputs": [],
   "source": [
    "# We start with a N population units (sampling frame), and randomly select n units from the frame.\n",
    "# n is the sample size\n",
    "# Every unit evaluated for sampling has a probability of n/N to get selected for the sample."
   ]
  },
  {
   "cell_type": "markdown",
   "id": "e5b689d2-d62b-4092-8120-5064d2925834",
   "metadata": {},
   "source": [
    "# ___$P(x)~=~(\\frac{n}{N})$___"
   ]
  },
  {
   "cell_type": "code",
   "execution_count": 3,
   "id": "24248a45-e9f4-4c46-8894-cce0ca7a1b93",
   "metadata": {},
   "outputs": [],
   "source": [
    "# This probability is same for every entity in the sampling frame.\n",
    "# This also means that all possible samples of size n are equally likely.\n",
    "# Statistical estimates made from a SRS are unbiased."
   ]
  },
  {
   "cell_type": "code",
   "execution_count": 4,
   "id": "607721ed-5281-4b36-af6f-dfc2bd265dae",
   "metadata": {
    "tags": []
   },
   "outputs": [],
   "source": [
    "# Imagine a SRS of 134 people selected from a population of 10,000 people.\n",
    "# Collecting data from this 134 people who were selected at random, can help us make representative inferences about the larger population."
   ]
  },
  {
   "cell_type": "code",
   "execution_count": 5,
   "id": "ff0a030d-4219-4788-aea5-6e8dd829379e",
   "metadata": {
    "tags": []
   },
   "outputs": [],
   "source": [
    "# SRS can be done with/with out replacements.\n",
    "\n",
    "# SRS with replacement\n",
    "# Here, entities selected once can get selected again.\n",
    "# Means that at every single sampling attempt the probability of selection is n/N\n",
    "\n",
    "# SRS without replacement\n",
    "# Here, entities selected once cannot be selected again.\n",
    "\n",
    "# DOUBT\n",
    "# Here, the probability of selection increases as we proceed with sampling (as the population size declines)\n",
    "# Because we are not returning the previously sampled individuals back to the population, thus the population size declines.\n",
    "# at i th sampling attempt, the probability of selection will be n/(N-i)"
   ]
  },
  {
   "cell_type": "code",
   "execution_count": 6,
   "id": "5f83b102-ee71-441b-b5e8-8496af6ea605",
   "metadata": {
    "tags": []
   },
   "outputs": [
    {
     "data": {
      "text/plain": [
       "3.0129557095510694e-06"
      ]
     },
     "execution_count": 6,
     "metadata": {},
     "output_type": "execute_result"
    }
   ],
   "source": [
    "# SRS is rarely used in real life\n",
    "# Because collecting a n representative entities from a large population can be prohibitively expensive.\n",
    "\n",
    "# Imagine sampling 1,000 random individuals from the whole population of USA.\n",
    "# Population of USA is 331.9 million\n",
    "\n",
    "1_000 / (331.9 * 1000_000)"
   ]
  },
  {
   "cell_type": "code",
   "execution_count": 7,
   "id": "0cac73e0-4395-46dd-9121-a255e68f6eb5",
   "metadata": {
    "tags": []
   },
   "outputs": [],
   "source": [
    "# Suppose we have to drive to the residencies of these 1,000 random people all over the USA,\n",
    "# imagine how expensive that expedition will be.\n",
    "# Thus, SRS is practically limited to smaller populations."
   ]
  },
  {
   "cell_type": "code",
   "execution_count": 8,
   "id": "da52ff9c-9c8a-444b-b6e4-3d7e227bed4d",
   "metadata": {
    "tags": []
   },
   "outputs": [],
   "source": [
    "# So, less expensive alternatives to SRS are needed for larger populations."
   ]
  },
  {
   "cell_type": "markdown",
   "id": "a6629aec-da22-40ec-8ad8-442549a3c670",
   "metadata": {},
   "source": [
    "## ___SRS and IID data___\n",
    "-----------------"
   ]
  },
  {
   "cell_type": "code",
   "execution_count": 1,
   "id": "db85a52d-c6fb-4982-bf9d-642013e3f115",
   "metadata": {},
   "outputs": [],
   "source": [
    "# IID observations are independent & identically distributed in the distributions where they come from.\n",
    "# SRS will generate IID data, theoretically.\n",
    "    # We select a sample\n",
    "    # Take the measurements from the entities in the sample\n",
    "# In theory, this should produce an IID sample.\n",
    "\n",
    "# All randomly sampled entities will give measurements that are independent, such that there's no connection between the units that are \n",
    "# randomly sampled.\n",
    "\n",
    "# These measurements from the entities in the sample are identically distributed.\n",
    "# That they represent a larger population of entities i.e the sampling frame.\n",
    "# The characteristics of the entities in the sample stisfactorily reflect the characteristics of entities in the larger population."
   ]
  },
  {
   "cell_type": "code",
   "execution_count": 2,
   "id": "c9ee3dbf-403f-4b69-b9a8-82ced128656a",
   "metadata": {
    "tags": []
   },
   "outputs": [],
   "source": [
    "# SO WE HAVE A REPRESENTATIVE RANDOMLY SELECTED SAMPLE OF UNITS THAT ARE INDEPENDENT OF ONE ANOTHER."
   ]
  },
  {
   "cell_type": "markdown",
   "id": "d198cbca-56d2-47b7-9561-fc1f8a26f26e",
   "metadata": {},
   "source": [
    "### ___SRS example.___"
   ]
  },
  {
   "cell_type": "code",
   "execution_count": 3,
   "id": "7a71ffb8-109d-4e59-a2dd-f8c03c8d52fc",
   "metadata": {
    "tags": []
   },
   "outputs": [],
   "source": [
    "# A customer service database contains 2,500 emails received from customers in 2018.\n",
    "# And the director of the customer services division has received several complaints on poor and slow customer services.\n",
    "# So, now he wants an estimate of how long does the customer service agents take to respond to emails from customers?\n",
    "\n",
    "# Unfortunately, the database did not record the reply time in the received email records. \n",
    "# A record of received email only has the time record for arrival.\n",
    "# To trace the time of reply, a staff needs to manually search for the given email and find the thread of that convesation\n",
    "# and note down the time of reply, marked in the reply email.\n",
    "\n",
    "# This is a very tediuos process, that will take a very long time for 2,500 emails.\n",
    "# So, the director asks the analytics team to sample just 150 emails, process them and find the estimate!"
   ]
  },
  {
   "cell_type": "code",
   "execution_count": null,
   "id": "74f80cb1-27d6-484b-adf7-6f068dd459ee",
   "metadata": {},
   "outputs": [],
   "source": [
    "# Sampling approaches\n",
    "\n",
    "# Naive approach\n",
    "# Just process the first 150 emails in the database.\n",
    "    # Likely be biases\n",
    "    # At the start, the customer service employees may have been inexperienced and took more time to respond\n",
    "    # Eventually they got better at their job, now they are able to respond faster.\n",
    "    # At the start, the company may have had very few customer service employees, so they might have took long to respond\n",
    "    # At the start, the email traffic may have been very small, so the employees could have responded very quickly\n",
    "# No randomness in selection here.\n",
    "# The selected entities are not representative of the whole 2,500 email response times.\n",
    "# This essentially is a nonprobability sampling.\n",
    "    \n",
    "# Alternative\n",
    "# Number the emails from 1 to 2,500\n",
    "# randomly pick a 150 using a random number generator.\n",
    "# Here every email has a known probability of selection\n",
    "# P(x) = n/N\n",
    "#      = 150 / 2500\n",
    "# This will produce a random representative sample (in theory)\n",
    "# The estimated mean response time will be an unbiased estimate of the mean response time of the whole set of 2,500 emails."
   ]
  }
 ],
 "metadata": {
  "kernelspec": {
   "display_name": "Python 3 (ipykernel)",
   "language": "python",
   "name": "python3"
  },
  "language_info": {
   "codemirror_mode": {
    "name": "ipython",
    "version": 3
   },
   "file_extension": ".py",
   "mimetype": "text/x-python",
   "name": "python",
   "nbconvert_exporter": "python",
   "pygments_lexer": "ipython3",
   "version": "3.11.3"
  }
 },
 "nbformat": 4,
 "nbformat_minor": 5
}

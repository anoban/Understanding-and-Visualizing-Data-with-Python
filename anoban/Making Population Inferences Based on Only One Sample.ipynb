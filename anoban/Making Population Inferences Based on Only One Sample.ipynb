{
 "cells": [
  {
   "cell_type": "code",
   "execution_count": 1,
   "id": "d08ab9da-2d59-4d5e-93c4-7eec10dbedee",
   "metadata": {
    "tags": []
   },
   "outputs": [],
   "source": [
    "import numpy as np\n",
    "from scipy import stats\n",
    "import matplotlib.pyplot as plt\n",
    "np.random.seed(3523 - 4 -28)"
   ]
  },
  {
   "cell_type": "markdown",
   "id": "28b131c5-1ced-45c1-8c5f-d4540fcde947",
   "metadata": {},
   "source": [
    "# ___Making Population Inferences Based on Only One Sample___\n",
    "----------------"
   ]
  },
  {
   "cell_type": "code",
   "execution_count": 1,
   "id": "e34cb6e5-d8d1-4a95-b058-c8f3484fa36d",
   "metadata": {
    "tags": []
   },
   "outputs": [],
   "source": [
    "# In practice, we cannot afford to make repetitive sampling attempts\n",
    "# This is not fiscally sensible and most of the time researches so not have the resources to do so.\n",
    "# In real life, we end up with just one sample, which we'll use to make inferences."
   ]
  },
  {
   "cell_type": "code",
   "execution_count": 2,
   "id": "98752d5a-bf8b-4896-a14f-008dd2068152",
   "metadata": {
    "tags": []
   },
   "outputs": [],
   "source": [
    "# There are two approaches to this.\n",
    "\n",
    "    # Confidence interval estimate for the parameter of interest\n",
    "    # Hypothesis testing about the parameter of interest"
   ]
  },
  {
   "cell_type": "code",
   "execution_count": 3,
   "id": "fe97704a-bae4-47bb-bb26-4729e59dfe81",
   "metadata": {
    "tags": []
   },
   "outputs": [],
   "source": [
    "# The term parameter of interest refers to mean, proportion, regression coefficient, odds ratio etc.."
   ]
  },
  {
   "cell_type": "code",
   "execution_count": 4,
   "id": "df939393-5dc7-434f-bb2b-9318c5a9258b",
   "metadata": {
    "tags": []
   },
   "outputs": [],
   "source": [
    "# ONE KEY ASSUMPTION WHEN MAKING INFERENCES IS THAT WE ASSUME NORMALITY IN THE SAMPLING DISTRIBUTION OF THE PARAMETER OF INTEREST."
   ]
  },
  {
   "cell_type": "code",
   "execution_count": null,
   "id": "068006d9-a983-4316-8a55-65e73d45dc17",
   "metadata": {},
   "outputs": [],
   "source": []
  },
  {
   "cell_type": "markdown",
   "id": "baba6099-2d5a-4824-b4f6-6634de6dd9aa",
   "metadata": {},
   "source": [
    "## ___What If The Sampling Distribution is not Approximately Normal?___\n",
    "-------------"
   ]
  },
  {
   "cell_type": "code",
   "execution_count": 5,
   "id": "fce12b07-83e9-46ca-9533-a3fbbedb7c23",
   "metadata": {
    "tags": []
   },
   "outputs": [],
   "source": [
    "# Will we be able to make sensible inferences in that case?\n",
    "# We'll discuss alternatives later in this specialization."
   ]
  },
  {
   "cell_type": "code",
   "execution_count": null,
   "id": "7d947594-cf88-4657-9f33-4895a4fbb7fd",
   "metadata": {},
   "outputs": [],
   "source": []
  },
  {
   "cell_type": "markdown",
   "id": "17d0b871-6eb0-4a65-b91a-8a2979e9a3fd",
   "metadata": {},
   "source": [
    "## ___Computing the Point Estimates___\n",
    "-----------------"
   ]
  },
  {
   "cell_type": "markdown",
   "id": "17781ccd-d524-4fe7-a1e7-12c69408c010",
   "metadata": {},
   "source": [
    "### ___1) We start by computing unbiased point estimates of the parameter of interest.___"
   ]
  },
  {
   "cell_type": "code",
   "execution_count": 7,
   "id": "8b1ded3e-2e28-46d6-b778-f54491e6735c",
   "metadata": {
    "tags": []
   },
   "outputs": [],
   "source": [
    "# Unbiased point estimates -> estimates whose mean is equal to mean of the true parameter of interest.\n",
    "# on other words, unbiased point estimates are estimates computed from repeated random sampling with the same sampling frame."
   ]
  },
  {
   "cell_type": "code",
   "execution_count": null,
   "id": "3af5d45f-2385-47c9-a78d-e1982eede8dd",
   "metadata": {},
   "outputs": [],
   "source": []
  },
  {
   "cell_type": "code",
   "execution_count": 36,
   "id": "0a89a323-01f4-4f5c-b112-a9f78cb3ec6d",
   "metadata": {
    "tags": []
   },
   "outputs": [],
   "source": [
    "population = np.random.normal(loc = 100, scale = 180, size = 1000_000)\n",
    "unbiased_sample_means = np.array([])\n",
    "biased_sample_means = np.array([])\n",
    "\n",
    "for i in range(1000):\n",
    "    unbiased_sample_means = np.append(unbiased_sample_means, np.random.choice(population, 1000, replace = True).mean())\n",
    "    biased_sample_means = np.append(biased_sample_means, population[i:(i + 1000)].mean())"
   ]
  },
  {
   "cell_type": "code",
   "execution_count": null,
   "id": "3f09b78c-a7cb-4c73-9b4f-374fbd2d9c5a",
   "metadata": {
    "tags": []
   },
   "outputs": [],
   "source": []
  },
  {
   "cell_type": "code",
   "execution_count": 40,
   "id": "c799447d-b412-4e04-bb7d-b9bf0a825e30",
   "metadata": {
    "tags": []
   },
   "outputs": [
    {
     "data": {
      "image/png": "[encoded data removed]",
      "text/plain": [
       "<Figure size 640x480 with 1 Axes>"
      ]
     },
     "metadata": {},
     "output_type": "display_data"
    }
   ],
   "source": [
    "plt.hist(unbiased_sample_means, rwidth = 0.9, color = \"red\", bins = 20, alpha = 0.6, label = \"Unbiased\")\n",
    "plt.hist(biased_sample_means, rwidth = 0.9, color = \"blue\", bins = 20, alpha = 0.7, label = \"Biased\")\n",
    "plt.vlines(x = population.mean(), ymin = 0, ymax = 170, color = \"black\")\n",
    "plt.legend()\n",
    "plt.show()"
   ]
  },
  {
   "cell_type": "code",
   "execution_count": 38,
   "id": "fe35474a-76f8-474f-9658-d41150582d26",
   "metadata": {
    "tags": []
   },
   "outputs": [],
   "source": [
    "# Black line is the true population mean.\n",
    "# The biased sample distribution has shifted its mean to the left, because we sampled within the first 2000 values of a 1,000,000 value\n",
    "# normal distribution!\n",
    "# However, the random sampling has an average mean that is reflective of the population mean."
   ]
  },
  {
   "cell_type": "code",
   "execution_count": 41,
   "id": "16dd2114-a842-46c8-9264-2b7a87ab072d",
   "metadata": {
    "tags": []
   },
   "outputs": [],
   "source": [
    "# When the sample is biased, the estimated parameter is likely to differ significantly from the true population parameter.\n",
    "\n",
    "# WE WANT THE ESTIMATE THAT WE ARE COMPUTING TO BE UNBIASED WITH RESPECT TO THE SAMPLE DESIGN.\n",
    "# WE WANT THE ESTIMATE OF THE POPULATION PARAMETER TO BE UNBIASED, WITH REGARDS TO THE SAMPLE DESIGN EMPLOYED TO GARNER THE DATA."
   ]
  },
  {
   "cell_type": "code",
   "execution_count": 42,
   "id": "aad3b707-16e9-44a6-a1e1-a723b2af7297",
   "metadata": {
    "tags": []
   },
   "outputs": [],
   "source": [
    "# IF SAMPLE DESIGN INVOLVED GROUPS WITH UNEQUAL PROBABILITIES OF SAMPLING, THIS REQUIRES THE USE OF WEIGHTS WHEN COMPUTING POINT ESTIMATES.\n",
    "# IF WE FAIL TO USE THE WEIGHTS WHEN THE SAMPLING INVOLVED UNEQUAL PROBABILITIES OF SELECTION, OUR SAMPLING DISTRIBUTION MIGHT BECOME\n",
    "# SHIFTED."
   ]
  },
  {
   "cell_type": "markdown",
   "id": "9f84f316-7fc9-4a0e-9c2d-7454b8c63ca3",
   "metadata": {},
   "source": [
    "### ___2) Estimate the Sampling Variance Associated with the Point Estimates___"
   ]
  },
  {
   "cell_type": "code",
   "execution_count": 43,
   "id": "93bd5629-f16f-4769-a530-07c289b96f93",
   "metadata": {
    "tags": []
   },
   "outputs": [],
   "source": [
    "# Technicall we need to draw many samples to compute this variance.\n",
    "# In practice, we do not have that lavish resources.\n",
    "# Thus, we need to estimate the variance based on one sample."
   ]
  },
  {
   "cell_type": "code",
   "execution_count": 44,
   "id": "961c5ecf-74e5-4380-8660-0103fe481393",
   "metadata": {
    "tags": []
   },
   "outputs": [],
   "source": [
    "# Much like we needing to find an unbiased point estimate, we also need to find an unbiased sampling variance.\n",
    "# AN UNBIASED SAMPLING VARIANCE CORRECTLY DESCRIBES THE VARIANCE IN THE SAMPLING DISTRIBUTION UNDER THE EMPLOYED SAMPLING DESIGN.\n",
    "# NOTE THAT THIS SAMPLING VARIANCE IS DEPENDENT ON THE SAMPLING DESIGN."
   ]
  },
  {
   "cell_type": "code",
   "execution_count": null,
   "id": "8d3e2a90-1bfd-4897-b3b7-3b99b12baafa",
   "metadata": {},
   "outputs": [],
   "source": []
  },
  {
   "cell_type": "code",
   "execution_count": 48,
   "id": "39b4bbc6-d4d0-4756-b377-6a0eda2d710b",
   "metadata": {
    "tags": []
   },
   "outputs": [],
   "source": [
    "population = np.random.randint(0, 1000, 10_000)\n",
    "sample_means = []\n",
    "\n",
    "for i in range(1000):\n",
    "    sample_means.append(np.random.choice(population, size = 1000).mean())"
   ]
  },
  {
   "cell_type": "code",
   "execution_count": 49,
   "id": "3f243f38-f52c-4d2e-b1fa-427e81ebdc6e",
   "metadata": {
    "tags": []
   },
   "outputs": [
    {
     "data": {
      "text/plain": [
       "499.1997"
      ]
     },
     "execution_count": 49,
     "metadata": {},
     "output_type": "execute_result"
    }
   ],
   "source": [
    "population.mean()"
   ]
  },
  {
   "cell_type": "code",
   "execution_count": 50,
   "id": "5e265b26-4aca-4bb7-863f-74e60972154b",
   "metadata": {
    "tags": []
   },
   "outputs": [
    {
     "data": {
      "text/plain": [
       "499.052853"
      ]
     },
     "execution_count": 50,
     "metadata": {},
     "output_type": "execute_result"
    }
   ],
   "source": [
    "np.mean(sample_means)"
   ]
  },
  {
   "cell_type": "code",
   "execution_count": 52,
   "id": "5585f1c5-b4c8-49a9-980b-5d19ad05da20",
   "metadata": {
    "tags": []
   },
   "outputs": [
    {
     "data": {
      "text/plain": [
       "8.94746623918699"
      ]
     },
     "execution_count": 52,
     "metadata": {},
     "output_type": "execute_result"
    }
   ],
   "source": [
    "# variance in the point estimates\n",
    "# std = sqrt(variance)\n",
    "\n",
    "np.std(sample_means)"
   ]
  },
  {
   "cell_type": "markdown",
   "id": "c4ea5808-ee98-4bc2-acf4-7dff31f3cf39",
   "metadata": {},
   "source": [
    "# ___Standard Error of the Point Estimate = $\\sqrt{variance}$___"
   ]
  },
  {
   "cell_type": "code",
   "execution_count": 5,
   "id": "52329172-1d2a-41dc-9d80-4eb9e15ec99a",
   "metadata": {
    "tags": []
   },
   "outputs": [],
   "source": [
    "# STANDARD ERROR IS JUST THE STANDARD DEVIATION OF THE SAMPLING DISTRIBUTION."
   ]
  },
  {
   "cell_type": "code",
   "execution_count": null,
   "id": "63ce4882-2e30-4f8d-a2c3-dcbb9cc55357",
   "metadata": {},
   "outputs": [],
   "source": []
  },
  {
   "cell_type": "markdown",
   "id": "1fec74e8-8088-4dc8-897c-c7a8808a2ce4",
   "metadata": {},
   "source": [
    "## ___Forming a Confidence Interval___"
   ]
  },
  {
   "cell_type": "code",
   "execution_count": 54,
   "id": "057c18b6-a64b-4aae-8dfd-21106ce67886",
   "metadata": {
    "tags": []
   },
   "outputs": [],
   "source": [
    "# confidence interval = best estimate +- margin of error\n",
    "# This margin of error accomodates the sampling error (variance in our hypothetical sampling distribution)"
   ]
  },
  {
   "cell_type": "code",
   "execution_count": 55,
   "id": "dfab60d6-279b-4f2b-aca2-1cf6091234bc",
   "metadata": {
    "tags": []
   },
   "outputs": [],
   "source": [
    "# best estimate = unbiased point estimate\n",
    "# margin of error = a few estimated standard errors\n",
    "# \"a few\" because we allow one standard error on either side."
   ]
  },
  {
   "cell_type": "code",
   "execution_count": 3,
   "id": "84bd63d7-f69e-4800-b9f6-26055d5ab869",
   "metadata": {
    "tags": []
   },
   "outputs": [],
   "source": [
    "# \"a few\" ->\n",
    "            # a multiplier from the appropriate distribution based on the desired confidence level and sample design."
   ]
  },
  {
   "cell_type": "markdown",
   "id": "ebb4af71-c8d3-465e-b762-19a7210f1ad8",
   "metadata": {},
   "source": [
    "--------------\n",
    "## ___Confidence interval = best estimate $\\pm$ margin of error___\n",
    "-------------"
   ]
  },
  {
   "cell_type": "markdown",
   "id": "399d7703-ed7f-46c5-b2cb-a046ef5e3350",
   "metadata": {},
   "source": [
    "### ___95% confidence level &rarr; 0.05 significance___"
   ]
  },
  {
   "cell_type": "code",
   "execution_count": 6,
   "id": "b7ba21c6-ef17-4dcf-a06a-5c1ea2f53724",
   "metadata": {},
   "outputs": [],
   "source": [
    "# What this means is that,\n",
    "# 95% of the intervals constructed this way will cover the true population parameters.\n",
    "\n",
    "# e.g\n",
    "# take the best estimate, add/substract n times the standard error, 95% of the intervals constructed this way will cover the true parameter"
   ]
  },
  {
   "cell_type": "code",
   "execution_count": 8,
   "id": "316193fa-0251-4573-98dd-2b67cd621e40",
   "metadata": {
    "tags": []
   },
   "outputs": [],
   "source": [
    "population = np.random.randint(low = 100, high = 1000, size = 1000_000)\n",
    "pop_mean = population.mean()"
   ]
  },
  {
   "cell_type": "code",
   "execution_count": 15,
   "id": "d2d2d6fc-7de8-4ea6-99a2-91ddac23cf8d",
   "metadata": {
    "tags": []
   },
   "outputs": [
    {
     "data": {
      "text/plain": [
       "550.030674"
      ]
     },
     "execution_count": 15,
     "metadata": {},
     "output_type": "execute_result"
    }
   ],
   "source": [
    "pop_mean"
   ]
  },
  {
   "cell_type": "code",
   "execution_count": 36,
   "id": "93a68bf5-7601-41ba-a41a-ce4109f27963",
   "metadata": {
    "tags": []
   },
   "outputs": [],
   "source": [
    "# lets make 100 random samples.\n",
    "sample_size = 1000\n",
    "sample_means = []\n",
    "\n",
    "for i in range(100):\n",
    "    rands = np.random.randint(low = 0, high = sample_size, size = sample_size)\n",
    "    sample_means.append(population[rands].mean())\n",
    "\n",
    "# margin of error = 2 * stderr\n",
    "# the multiplier here (\"few times\") is 2 here.\n",
    "stderr = np.std(sample_means) * 2"
   ]
  },
  {
   "cell_type": "code",
   "execution_count": 48,
   "id": "310b5b39-3032-43ae-acaa-643b38e7c552",
   "metadata": {
    "tags": []
   },
   "outputs": [
    {
     "data": {
      "image/png": "[encoded data removed]",
      "text/plain": [
       "<Figure size 500x1000 with 1 Axes>"
      ]
     },
     "metadata": {},
     "output_type": "display_data"
    }
   ],
   "source": [
    "fig, axes = plt.subplots()\n",
    "fig.set_size_inches(5, 10)\n",
    "for (i, stat) in enumerate(sample_means):\n",
    "    axes.plot([stat - stderr, stat + stderr], [i, i], color = \"red\")\n",
    "    axes.plot(stat , i, mfc = \"blue\", mec = \"black\", linestyle = \"none\", marker = \"o\", ms = 2.5)\n",
    "axes.vlines(x = pop_mean, ymin = -5, ymax = 105, color = \"black\")\n",
    "plt.show()"
   ]
  },
  {
   "cell_type": "code",
   "execution_count": 49,
   "id": "c3cafd0d-a19f-4aa2-b3ed-18d7cef9caa5",
   "metadata": {
    "tags": []
   },
   "outputs": [],
   "source": [
    "# Here we have the summaries (mean and standard deviations of 100 samples of size 1000)\n",
    "# sample means are shown as blue dots.\n",
    "# the horizontal bars indicate the confidence intervals -> sample mean +- (2 * stddev of population)\n",
    "\n",
    "# as we can see almost all of these intervals cover the population parameter (mean), shown in the black line!."
   ]
  },
  {
   "cell_type": "code",
   "execution_count": null,
   "id": "c354e289-04f0-4b9e-86ba-6398ade338e4",
   "metadata": {},
   "outputs": [],
   "source": []
  },
  {
   "cell_type": "code",
   "execution_count": 50,
   "id": "e240e014-9642-44c8-9526-c501e67443d8",
   "metadata": {
    "tags": []
   },
   "outputs": [],
   "source": [
    "# In confidence intervals it is important to get all the 3 pieces right to make correct inferences.\n",
    "\n",
    "# if the best estimate is not an unbiased estimate,\n",
    "# or if the margin of error does not use the correct multiplier,\n",
    "# or if the standard error (standard deviation) used in the computation of margin of error is not unbiased,\n",
    "\n",
    "# The confidence interval will not have the advertised coverage.\n",
    "# e.g even if we call it a 95% confidence interval, it might only cover the population parameter 90% or 87.765% of the time!"
   ]
  },
  {
   "cell_type": "code",
   "execution_count": 51,
   "id": "18042e54-b49d-4f06-a1f7-b55efb5702bd",
   "metadata": {
    "tags": []
   },
   "outputs": [],
   "source": [
    "# Intervals give us a range of reasonable values for a specific population parameter.\n",
    "# If the hypothesized value for a population parameter (sample estimate) lies outside the confidence interval,\n",
    "# we do not have sufficient statistical evidence to support that value at the given level of significance."
   ]
  },
  {
   "cell_type": "code",
   "execution_count": null,
   "id": "3f911b73-5d35-41d4-b3c7-57390147ec0f",
   "metadata": {},
   "outputs": [],
   "source": []
  },
  {
   "cell_type": "markdown",
   "id": "4dd311bb-c957-4c6d-bfa7-7f6b11481bc6",
   "metadata": {},
   "source": [
    "## ___Hypothesis testing about the parameter of interest___\n",
    "-------------"
   ]
  },
  {
   "cell_type": "code",
   "execution_count": 52,
   "id": "02f6375d-15ae-42df-9b2c-bfab665db84f",
   "metadata": {
    "tags": []
   },
   "outputs": [],
   "source": [
    "# This is the second method for making population inferences based on only one sample.\n",
    "\n",
    "# Hypothesis:\n",
    "\n",
    "# Could the value of the population parameter be ___________ ? ---> hypothesis or null value\n",
    "# Is the point estimate (sample estimate) close to this null value or far away?"
   ]
  },
  {
   "cell_type": "markdown",
   "id": "880ab000-4422-4c2a-a72f-401ebbfeb974",
   "metadata": {},
   "source": [
    "## ___Standard error of a point estimate = Standard deviation of the sampling distribution___"
   ]
  },
  {
   "cell_type": "code",
   "execution_count": 53,
   "id": "0251333b-1019-4fa9-b1f1-2938bc501448",
   "metadata": {
    "tags": []
   },
   "outputs": [],
   "source": [
    "# A very common form of test statistic ofr these kind of hypothesis testing is, "
   ]
  },
  {
   "cell_type": "markdown",
   "id": "1b160138-1c40-4e57-abe0-0ef25d317578",
   "metadata": {},
   "source": [
    "## ___Test statistic = $\\frac{(estimate~-~null~value)}{standard~error}$___"
   ]
  },
  {
   "cell_type": "code",
   "execution_count": 54,
   "id": "e1adac82-e576-4432-85bf-07d4ec76ce05",
   "metadata": {
    "tags": []
   },
   "outputs": [],
   "source": [
    "# This gives an idea about how far away our estimate is from the null hypothesis value.\n",
    "# i.e how much evidence we have against that paricular null value?"
   ]
  },
  {
   "cell_type": "code",
   "execution_count": null,
   "id": "d89ef273-d852-4eea-8981-04450ec48b10",
   "metadata": {},
   "outputs": [],
   "source": [
    "# If the null is "
   ]
  }
 ],
 "metadata": {
  "kernelspec": {
   "display_name": "Python 3 (ipykernel)",
   "language": "python",
   "name": "python3"
  },
  "language_info": {
   "codemirror_mode": {
    "name": "ipython",
    "version": 3
   },
   "file_extension": ".py",
   "mimetype": "text/x-python",
   "name": "python",
   "nbconvert_exporter": "python",
   "pygments_lexer": "ipython3",
   "version": "3.11.3"
  }
 },
 "nbformat": 4,
 "nbformat_minor": 5
}

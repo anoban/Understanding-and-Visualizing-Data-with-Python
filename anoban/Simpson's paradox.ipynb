{
 "cells": [
  {
   "cell_type": "code",
   "execution_count": 3,
   "id": "7ed59ad2-d80e-4bbc-a164-f57ec6d80ddf",
   "metadata": {
    "tags": []
   },
   "outputs": [],
   "source": [
    "import pandas as pd"
   ]
  },
  {
   "cell_type": "markdown",
   "id": "6446bd8b-05c5-4af0-be17-5f9efb434b14",
   "metadata": {},
   "source": [
    "# ___Simpson's paradox___\n",
    "---------"
   ]
  },
  {
   "cell_type": "code",
   "execution_count": 1,
   "id": "0f4440b3-2776-4c18-93cc-fa71a4ad1e9a",
   "metadata": {
    "tags": []
   },
   "outputs": [],
   "source": [
    "# Let's consider this Coursera specialization as an example.\n",
    "\n",
    "# What if the chances for completing a second course in the specialization for students who havew already completed another course \n",
    "# from this specialization is higher for males than for females?\n",
    "\n",
    "# What if more males enroll in the full specialization, while females tend to take each course as a free-standing course?"
   ]
  },
  {
   "cell_type": "code",
   "execution_count": 2,
   "id": "eec58aba-a09e-41b1-9d8b-847bf1a250c3",
   "metadata": {
    "tags": []
   },
   "outputs": [],
   "source": [
    "# What might actually be happening is that, \n",
    "# there might be different rates of course 2 completion for those enrolled in a specialization and for those taking freestanding courses.\n",
    "# and the gender ratio may also be different in those two contexts."
   ]
  },
  {
   "cell_type": "code",
   "execution_count": 15,
   "id": "8e1e9bb8-5e28-4f90-975d-a2c436b0a88b",
   "metadata": {
    "tags": []
   },
   "outputs": [],
   "source": [
    "coursera = pd.DataFrame({\"Specialization\": [55/70, 25/30, 80/100], \"Courses\": [10/20, 17/30, 27/50],\n",
    "                        \"Total\": [65/90, 41/60, None]}, index = [\"Men\", \"Women\", \"Total\"])"
   ]
  },
  {
   "cell_type": "code",
   "execution_count": 16,
   "id": "fb62b569-2f76-4f9e-a099-083470c79129",
   "metadata": {
    "tags": []
   },
   "outputs": [
    {
     "data": {
      "text/html": [
       "<div>\n",
       "<style scoped>\n",
       "    .dataframe tbody tr th:only-of-type {\n",
       "        vertical-align: middle;\n",
       "    }\n",
       "\n",
       "    .dataframe tbody tr th {\n",
       "        vertical-align: top;\n",
       "    }\n",
       "\n",
       "    .dataframe thead th {\n",
       "        text-align: right;\n",
       "    }\n",
       "</style>\n",
       "<table border=\"1\" class=\"dataframe\">\n",
       "  <thead>\n",
       "    <tr style=\"text-align: right;\">\n",
       "      <th></th>\n",
       "      <th>Specialization</th>\n",
       "      <th>Courses</th>\n",
       "      <th>Total</th>\n",
       "    </tr>\n",
       "  </thead>\n",
       "  <tbody>\n",
       "    <tr>\n",
       "      <th>Men</th>\n",
       "      <td>78.571429</td>\n",
       "      <td>50.000000</td>\n",
       "      <td>72.222222</td>\n",
       "    </tr>\n",
       "    <tr>\n",
       "      <th>Women</th>\n",
       "      <td>83.333333</td>\n",
       "      <td>56.666667</td>\n",
       "      <td>68.333333</td>\n",
       "    </tr>\n",
       "    <tr>\n",
       "      <th>Total</th>\n",
       "      <td>80.000000</td>\n",
       "      <td>54.000000</td>\n",
       "      <td>NaN</td>\n",
       "    </tr>\n",
       "  </tbody>\n",
       "</table>\n",
       "</div>"
      ],
      "text/plain": [
       "       Specialization    Courses      Total\n",
       "Men         78.571429  50.000000  72.222222\n",
       "Women       83.333333  56.666667  68.333333\n",
       "Total       80.000000  54.000000        NaN"
      ]
     },
     "execution_count": 16,
     "metadata": {},
     "output_type": "execute_result"
    }
   ],
   "source": [
    "# percentages\n",
    "\n",
    "coursera * 100"
   ]
  },
  {
   "cell_type": "code",
   "execution_count": 17,
   "id": "65a2ea4d-e1b8-451d-97d2-487e3020d859",
   "metadata": {
    "tags": []
   },
   "outputs": [],
   "source": [
    "# Notice that completion rate is higher for women in both categories (freestanding courses & specialization) compared to men.\n",
    "# However, glancing at the gender wise totals one might get an impression that males have a higher rate of completion than females.\n",
    "# But the way the courses are taken hides the true direction of association between the gender & course completion."
   ]
  },
  {
   "cell_type": "markdown",
   "id": "e2023115-d6ba-4894-a6e7-3e39f34cfd0b",
   "metadata": {},
   "source": [
    "## ___Confounding variables___\n",
    "---------------"
   ]
  },
  {
   "cell_type": "code",
   "execution_count": 18,
   "id": "56b16e08-731e-429a-80b5-26f4923af486",
   "metadata": {
    "tags": []
   },
   "outputs": [],
   "source": [
    "# The method of taking the course is considered a confounding variable.\n",
    "# A confounding variable is an external influence that changes the relationship between the independent & the dependent variable.\n",
    "# It often works by affecting the causal relationship independent variable has on the dependent variable.\n",
    "# This effect can be inflicted by obscuring/hiding/enhancing the relationship."
   ]
  },
  {
   "cell_type": "code",
   "execution_count": 19,
   "id": "e3c5f788-ed52-48a7-b45d-ac0f211e111a",
   "metadata": {
    "tags": []
   },
   "outputs": [],
   "source": [
    "# Suppose we are interested in learning how a physical activity regimen affects body weight?\n",
    "# Other factors like diet, age and gender also has the capacity to affect the body weight\n",
    "# and come into play when assessing the relationship between the regimen & body weight."
   ]
  },
  {
   "cell_type": "code",
   "execution_count": null,
   "id": "1bd1eed7-27da-4abe-a905-b1e024997354",
   "metadata": {},
   "outputs": [],
   "source": [
    "# If one does not control such factors, the relationship may become exaggerated or reduced.\n",
    "# This also highlights that correlation != causation\n",
    "# There might be many external factors in play that could affect the causation.\n",
    "# Therefore, one should not place too much importance on correlation when studying causation."
   ]
  }
 ],
 "metadata": {
  "kernelspec": {
   "display_name": "Python 3 (ipykernel)",
   "language": "python",
   "name": "python3"
  },
  "language_info": {
   "codemirror_mode": {
    "name": "ipython",
    "version": 3
   },
   "file_extension": ".py",
   "mimetype": "text/x-python",
   "name": "python",
   "nbconvert_exporter": "python",
   "pygments_lexer": "ipython3",
   "version": "3.11.3"
  }
 },
 "nbformat": 4,
 "nbformat_minor": 5
}

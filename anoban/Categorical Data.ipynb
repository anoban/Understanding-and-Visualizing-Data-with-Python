{
 "cells": [
  {
   "cell_type": "code",
   "execution_count": 43,
   "id": "349743d9-6874-4350-89d6-9b41c84e0652",
   "metadata": {
    "execution": {
     "iopub.execute_input": "2023-04-09T06:56:43.496220Z",
     "iopub.status.busy": "2023-04-09T06:56:43.496220Z",
     "iopub.status.idle": "2023-04-09T06:56:45.384346Z",
     "shell.execute_reply": "2023-04-09T06:56:45.384346Z",
     "shell.execute_reply.started": "2023-04-09T06:56:43.496220Z"
    },
    "tags": []
   },
   "outputs": [],
   "source": [
    "import numpy as np\n",
    "import pandas as pd\n",
    "import matplotlib.pyplot as plt\n",
    "np.random.seed(2023 - 4 - 9)"
   ]
  },
  {
   "cell_type": "markdown",
   "id": "f44b0700-7ca2-40a9-987a-eb8a2550b93c",
   "metadata": {},
   "source": [
    "# ___Univariate Data___\n",
    "-----------------"
   ]
  },
  {
   "cell_type": "markdown",
   "id": "50f0582f-ad5e-41f9-9aca-75f4be5ae559",
   "metadata": {},
   "source": [
    "## ___Categorical Data___\n",
    "---------------"
   ]
  },
  {
   "cell_type": "code",
   "execution_count": 10,
   "id": "829c9d9f-829f-46ae-a3e5-95573c8a89b3",
   "metadata": {
    "execution": {
     "iopub.execute_input": "2023-04-09T06:31:48.204874Z",
     "iopub.status.busy": "2023-04-09T06:31:48.201858Z",
     "iopub.status.idle": "2023-04-09T06:31:48.208418Z",
     "shell.execute_reply": "2023-04-09T06:31:48.208418Z",
     "shell.execute_reply.started": "2023-04-09T06:31:48.204874Z"
    },
    "tags": []
   },
   "outputs": [],
   "source": [
    "# Categorical data simply classifies items into groups."
   ]
  },
  {
   "cell_type": "code",
   "execution_count": 11,
   "id": "5cb614b5-4e4a-44b8-a598-0a646cdee597",
   "metadata": {
    "execution": {
     "iopub.execute_input": "2023-04-09T06:31:48.210868Z",
     "iopub.status.busy": "2023-04-09T06:31:48.209769Z",
     "iopub.status.idle": "2023-04-09T06:31:48.304514Z",
     "shell.execute_reply": "2023-04-09T06:31:48.304514Z",
     "shell.execute_reply.started": "2023-04-09T06:31:48.210868Z"
    },
    "tags": []
   },
   "outputs": [],
   "source": [
    "# Let's make some synthetic data."
   ]
  },
  {
   "cell_type": "code",
   "execution_count": 38,
   "id": "818585ec-f449-4f85-a378-39edff40f04d",
   "metadata": {
    "execution": {
     "iopub.execute_input": "2023-04-09T06:54:33.875461Z",
     "iopub.status.busy": "2023-04-09T06:54:33.875461Z",
     "iopub.status.idle": "2023-04-09T06:54:33.881982Z",
     "shell.execute_reply": "2023-04-09T06:54:33.881982Z",
     "shell.execute_reply.started": "2023-04-09T06:54:33.875461Z"
    },
    "tags": []
   },
   "outputs": [],
   "source": [
    "ids = np.random.randint(62_220, 64_555, size = 5560)"
   ]
  },
  {
   "cell_type": "code",
   "execution_count": 39,
   "id": "19ae576a-872b-449c-afc5-ad8367e1e648",
   "metadata": {
    "execution": {
     "iopub.execute_input": "2023-04-09T06:54:34.240268Z",
     "iopub.status.busy": "2023-04-09T06:54:34.240268Z",
     "iopub.status.idle": "2023-04-09T06:54:34.251886Z",
     "shell.execute_reply": "2023-04-09T06:54:34.251886Z",
     "shell.execute_reply.started": "2023-04-09T06:54:34.240268Z"
    },
    "tags": []
   },
   "outputs": [],
   "source": [
    "mstat = np.random.randint(1, 9, size = 5560)"
   ]
  },
  {
   "cell_type": "code",
   "execution_count": 40,
   "id": "c60ff6b2-5aa5-4815-8ff9-335fda4e8f6b",
   "metadata": {
    "execution": {
     "iopub.execute_input": "2023-04-09T06:54:35.255666Z",
     "iopub.status.busy": "2023-04-09T06:54:35.255666Z",
     "iopub.status.idle": "2023-04-09T06:54:35.261643Z",
     "shell.execute_reply": "2023-04-09T06:54:35.261643Z",
     "shell.execute_reply.started": "2023-04-09T06:54:35.255666Z"
    },
    "tags": []
   },
   "outputs": [],
   "source": [
    "data = pd.DataFrame({\"ID\": ids, \"marital_status\": mstat})"
   ]
  },
  {
   "cell_type": "code",
   "execution_count": 35,
   "id": "5ec39623-b51b-4589-925e-eb18090534de",
   "metadata": {
    "execution": {
     "iopub.execute_input": "2023-04-09T06:52:30.917195Z",
     "iopub.status.busy": "2023-04-09T06:52:30.917195Z",
     "iopub.status.idle": "2023-04-09T06:52:30.931709Z",
     "shell.execute_reply": "2023-04-09T06:52:30.931709Z",
     "shell.execute_reply.started": "2023-04-09T06:52:30.917195Z"
    },
    "tags": []
   },
   "outputs": [],
   "source": [
    "# Marital status\n",
    "# 1 - married\n",
    "# 2 - widowed\n",
    "# 3 - divorced\n",
    "# 4 - separated\n",
    "# 5 - never married\n",
    "# 6 - living with partner\n",
    "# 7 - refused\n",
    "# 8 - don't know"
   ]
  },
  {
   "cell_type": "code",
   "execution_count": 36,
   "id": "f651c948-b9b9-4c79-870a-bd6f31ab180f",
   "metadata": {
    "execution": {
     "iopub.execute_input": "2023-04-09T06:52:31.278850Z",
     "iopub.status.busy": "2023-04-09T06:52:31.278850Z",
     "iopub.status.idle": "2023-04-09T06:52:31.294117Z",
     "shell.execute_reply": "2023-04-09T06:52:31.294117Z",
     "shell.execute_reply.started": "2023-04-09T06:52:31.278850Z"
    },
    "tags": []
   },
   "outputs": [],
   "source": [
    "lookup = {\n",
    "    1 : \"married\",\n",
    "    2 : \"widowed\",\n",
    "    3 : \"divorced\",\n",
    "    4 : \"separated\",\n",
    "    5 : \"never married\",\n",
    "    6 : \"living with partner\",\n",
    "    7 : \"refused\",\n",
    "    8 : \"don't know\"\n",
    "}\n"
   ]
  },
  {
   "cell_type": "code",
   "execution_count": 42,
   "id": "d3a8822c-d3f0-4158-afff-ee826188c754",
   "metadata": {
    "execution": {
     "iopub.execute_input": "2023-04-09T06:55:10.843638Z",
     "iopub.status.busy": "2023-04-09T06:55:10.843638Z",
     "iopub.status.idle": "2023-04-09T06:55:10.866004Z",
     "shell.execute_reply": "2023-04-09T06:55:10.866004Z",
     "shell.execute_reply.started": "2023-04-09T06:55:10.843638Z"
    },
    "tags": []
   },
   "outputs": [
    {
     "data": {
      "text/html": [
       "<div>\n",
       "<style scoped>\n",
       "    .dataframe tbody tr th:only-of-type {\n",
       "        vertical-align: middle;\n",
       "    }\n",
       "\n",
       "    .dataframe tbody tr th {\n",
       "        vertical-align: top;\n",
       "    }\n",
       "\n",
       "    .dataframe thead th {\n",
       "        text-align: right;\n",
       "    }\n",
       "</style>\n",
       "<table border=\"1\" class=\"dataframe\">\n",
       "  <thead>\n",
       "    <tr style=\"text-align: right;\">\n",
       "      <th></th>\n",
       "      <th>status</th>\n",
       "      <th>count</th>\n",
       "      <th>percent</th>\n",
       "    </tr>\n",
       "  </thead>\n",
       "  <tbody>\n",
       "    <tr>\n",
       "      <th>1</th>\n",
       "      <td>married</td>\n",
       "      <td>705</td>\n",
       "      <td>12.679856</td>\n",
       "    </tr>\n",
       "    <tr>\n",
       "      <th>2</th>\n",
       "      <td>widowed</td>\n",
       "      <td>681</td>\n",
       "      <td>12.248201</td>\n",
       "    </tr>\n",
       "    <tr>\n",
       "      <th>3</th>\n",
       "      <td>divorced</td>\n",
       "      <td>666</td>\n",
       "      <td>11.978417</td>\n",
       "    </tr>\n",
       "    <tr>\n",
       "      <th>4</th>\n",
       "      <td>separated</td>\n",
       "      <td>700</td>\n",
       "      <td>12.589928</td>\n",
       "    </tr>\n",
       "    <tr>\n",
       "      <th>5</th>\n",
       "      <td>never married</td>\n",
       "      <td>703</td>\n",
       "      <td>12.643885</td>\n",
       "    </tr>\n",
       "    <tr>\n",
       "      <th>6</th>\n",
       "      <td>living with partner</td>\n",
       "      <td>714</td>\n",
       "      <td>12.841727</td>\n",
       "    </tr>\n",
       "    <tr>\n",
       "      <th>7</th>\n",
       "      <td>refused</td>\n",
       "      <td>695</td>\n",
       "      <td>12.500000</td>\n",
       "    </tr>\n",
       "    <tr>\n",
       "      <th>8</th>\n",
       "      <td>don't know</td>\n",
       "      <td>696</td>\n",
       "      <td>12.517986</td>\n",
       "    </tr>\n",
       "  </tbody>\n",
       "</table>\n",
       "</div>"
      ],
      "text/plain": [
       "                status  count    percent\n",
       "1              married    705  12.679856\n",
       "2              widowed    681  12.248201\n",
       "3             divorced    666  11.978417\n",
       "4            separated    700  12.589928\n",
       "5        never married    703  12.643885\n",
       "6  living with partner    714  12.841727\n",
       "7              refused    695  12.500000\n",
       "8           don't know    696  12.517986"
      ]
     },
     "execution_count": 42,
     "metadata": {},
     "output_type": "execute_result"
    }
   ],
   "source": [
    "# Most common way to summarize categorical data is with a frequency table.\n",
    "# Divide by the total number of people and multiply by 100 to get the percentage.\n",
    "\n",
    "pd.DataFrame({\"status\": lookup.values(), \"count\": data.marital_status.value_counts(), \"percent\": data.marital_status.value_counts() / 55.6},\n",
    "            index = lookup.keys())"
   ]
  },
  {
   "cell_type": "markdown",
   "id": "f7a6e922-aadf-48bd-8fc0-1534ccb6ed6f",
   "metadata": {},
   "source": [
    "## ___Bar charts___\n",
    "-----------"
   ]
  },
  {
   "cell_type": "code",
   "execution_count": 50,
   "id": "714d8d07-098f-4170-a4e8-c04383b272f1",
   "metadata": {
    "execution": {
     "iopub.execute_input": "2023-04-09T07:00:05.366965Z",
     "iopub.status.busy": "2023-04-09T07:00:05.366965Z",
     "iopub.status.idle": "2023-04-09T07:00:05.486017Z",
     "shell.execute_reply": "2023-04-09T07:00:05.486017Z",
     "shell.execute_reply.started": "2023-04-09T07:00:05.366965Z"
    },
    "tags": []
   },
   "outputs": [
    {
     "data": {
      "image/png": "[encoded data removed]",
      "text/plain": [
       "<Figure size 640x480 with 1 Axes>"
      ]
     },
     "metadata": {},
     "output_type": "display_data"
    }
   ],
   "source": [
    "# Most common way to visualize categorical data is with a bar chart (Not histograms)\n",
    "\n",
    "plt.hist(data.marital_status, bins = 8, rwidth = 0.8)\n",
    "plt.show()"
   ]
  },
  {
   "cell_type": "code",
   "execution_count": null,
   "id": "0d2005b1-1c0b-4bfe-bfcb-654b944e1b4c",
   "metadata": {},
   "outputs": [],
   "source": [
    "# Instead of counts, one cound also show the percent frequency on the y axis."
   ]
  }
 ],
 "metadata": {
  "kernelspec": {
   "display_name": "Python 3 (ipykernel)",
   "language": "python",
   "name": "python3"
  },
  "language_info": {
   "codemirror_mode": {
    "name": "ipython",
    "version": 3
   },
   "file_extension": ".py",
   "mimetype": "text/x-python",
   "name": "python",
   "nbconvert_exporter": "python",
   "pygments_lexer": "ipython3",
   "version": "3.11.3"
  }
 },
 "nbformat": 4,
 "nbformat_minor": 5
}

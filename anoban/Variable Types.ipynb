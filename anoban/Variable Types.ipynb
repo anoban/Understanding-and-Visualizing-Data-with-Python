{
 "cells": [
  {
   "cell_type": "markdown",
   "id": "df09255b-7d77-4019-8ecf-c0f35351ce58",
   "metadata": {},
   "source": [
    "# ___Variable Types___\n",
    "-----------------"
   ]
  },
  {
   "cell_type": "code",
   "execution_count": 16,
   "id": "ea8aa370-8d3e-495d-9f9a-90a3ebb42c8f",
   "metadata": {
    "execution": {
     "iopub.execute_input": "2023-04-08T11:52:25.180732Z",
     "iopub.status.busy": "2023-04-08T11:52:25.180732Z",
     "iopub.status.idle": "2023-04-08T11:52:25.193325Z",
     "shell.execute_reply": "2023-04-08T11:52:25.193325Z",
     "shell.execute_reply.started": "2023-04-08T11:52:25.180732Z"
    },
    "tags": []
   },
   "outputs": [],
   "source": [
    "import numpy as np\n",
    "import pandas as pd\n",
    "np.random.seed(2023 - 4 - 8)\n",
    "pd.set_option(\"display.max_columns\", 100)"
   ]
  },
  {
   "cell_type": "code",
   "execution_count": 17,
   "id": "9c7f3aae-bff6-430a-8c8c-c48174526a67",
   "metadata": {
    "execution": {
     "iopub.execute_input": "2023-04-08T11:52:25.636752Z",
     "iopub.status.busy": "2023-04-08T11:52:25.636752Z",
     "iopub.status.idle": "2023-04-08T11:52:25.652302Z",
     "shell.execute_reply": "2023-04-08T11:52:25.652302Z",
     "shell.execute_reply.started": "2023-04-08T11:52:25.636752Z"
    },
    "tags": []
   },
   "outputs": [],
   "source": [
    "# Let's make a synthetic table"
   ]
  },
  {
   "cell_type": "code",
   "execution_count": 21,
   "id": "12bc9fa8-9eb2-4174-91e8-066a067bb8f9",
   "metadata": {
    "execution": {
     "iopub.execute_input": "2023-04-08T11:55:19.011103Z",
     "iopub.status.busy": "2023-04-08T11:55:19.011103Z",
     "iopub.status.idle": "2023-04-08T11:55:19.031873Z",
     "shell.execute_reply": "2023-04-08T11:55:19.031873Z",
     "shell.execute_reply.started": "2023-04-08T11:55:19.011103Z"
    },
    "tags": []
   },
   "outputs": [
    {
     "data": {
      "text/html": [
       "<div>\n",
       "<style scoped>\n",
       "    .dataframe tbody tr th:only-of-type {\n",
       "        vertical-align: middle;\n",
       "    }\n",
       "\n",
       "    .dataframe tbody tr th {\n",
       "        vertical-align: top;\n",
       "    }\n",
       "\n",
       "    .dataframe thead th {\n",
       "        text-align: right;\n",
       "    }\n",
       "</style>\n",
       "<table border=\"1\" class=\"dataframe\">\n",
       "  <thead>\n",
       "    <tr style=\"text-align: right;\">\n",
       "      <th></th>\n",
       "      <th>ID</th>\n",
       "      <th>BMI</th>\n",
       "      <th>Race</th>\n",
       "      <th>Age</th>\n",
       "      <th>Adult</th>\n",
       "    </tr>\n",
       "  </thead>\n",
       "  <tbody>\n",
       "    <tr>\n",
       "      <th>0</th>\n",
       "      <td>62187</td>\n",
       "      <td>23.40</td>\n",
       "      <td>1</td>\n",
       "      <td>34</td>\n",
       "      <td>1</td>\n",
       "    </tr>\n",
       "    <tr>\n",
       "      <th>1</th>\n",
       "      <td>62196</td>\n",
       "      <td>20.90</td>\n",
       "      <td>2</td>\n",
       "      <td>16</td>\n",
       "      <td>0</td>\n",
       "    </tr>\n",
       "    <tr>\n",
       "      <th>2</th>\n",
       "      <td>62180</td>\n",
       "      <td>18.99</td>\n",
       "      <td>3</td>\n",
       "      <td>39</td>\n",
       "      <td>1</td>\n",
       "    </tr>\n",
       "    <tr>\n",
       "      <th>3</th>\n",
       "      <td>62181</td>\n",
       "      <td>26.04</td>\n",
       "      <td>1</td>\n",
       "      <td>14</td>\n",
       "      <td>0</td>\n",
       "    </tr>\n",
       "    <tr>\n",
       "      <th>4</th>\n",
       "      <td>62163</td>\n",
       "      <td>25.94</td>\n",
       "      <td>2</td>\n",
       "      <td>16</td>\n",
       "      <td>0</td>\n",
       "    </tr>\n",
       "  </tbody>\n",
       "</table>\n",
       "</div>"
      ],
      "text/plain": [
       "      ID    BMI  Race  Age  Adult\n",
       "0  62187  23.40     1   34      1\n",
       "1  62196  20.90     2   16      0\n",
       "2  62180  18.99     3   39      1\n",
       "3  62181  26.04     1   14      0\n",
       "4  62163  25.94     2   16      0"
      ]
     },
     "execution_count": 21,
     "metadata": {},
     "output_type": "execute_result"
    }
   ],
   "source": [
    "data = pd.DataFrame({\"ID\": np.random.randint(62161, 62202, size = 5), \"BMI\": [23.4, 20.9, 18.99, 26.04, 25.94],\n",
    "              \"Race\": np.random.randint(1, 5, size = 5), \"Age\": np.random.randint(14, 40, size = 5)})\n",
    "\n",
    "data[\"Adult\"] = data.Age.apply(lambda age: 1 if age >= 18 else 0)\n",
    "\n",
    "data"
   ]
  },
  {
   "cell_type": "code",
   "execution_count": 20,
   "id": "e69a1272-2e27-4660-8273-17a7a707bd59",
   "metadata": {
    "execution": {
     "iopub.execute_input": "2023-04-08T11:54:05.482714Z",
     "iopub.status.busy": "2023-04-08T11:54:05.482714Z",
     "iopub.status.idle": "2023-04-08T11:54:05.496002Z",
     "shell.execute_reply": "2023-04-08T11:54:05.496002Z",
     "shell.execute_reply.started": "2023-04-08T11:54:05.482714Z"
    },
    "tags": []
   },
   "outputs": [],
   "source": [
    "# Race ->\n",
    "    # 1 - Mexican American\n",
    "    # 2 - Other Hispanic\n",
    "    # 3 - Non-hispanic white\n",
    "    # 4 - Non-hispanic black\n",
    "    # 5 - Other\n",
    "    \n",
    "# Adult ->\n",
    "    # 1 - If age >= 18\n",
    "    # 0 - otherwise"
   ]
  },
  {
   "cell_type": "markdown",
   "id": "3baa06ca-0ce2-4182-9e28-15407a560c92",
   "metadata": {},
   "source": [
    "## ___Can we reasonably compute the averages for BMI and Race?___"
   ]
  },
  {
   "cell_type": "code",
   "execution_count": 23,
   "id": "7ef67912-b47d-49b2-a7fe-df246f60c478",
   "metadata": {
    "execution": {
     "iopub.execute_input": "2023-04-08T11:57:10.836519Z",
     "iopub.status.busy": "2023-04-08T11:57:10.836519Z",
     "iopub.status.idle": "2023-04-08T11:57:10.854063Z",
     "shell.execute_reply": "2023-04-08T11:57:10.854063Z",
     "shell.execute_reply.started": "2023-04-08T11:57:10.836519Z"
    },
    "tags": []
   },
   "outputs": [
    {
     "name": "stdout",
     "output_type": "stream",
     "text": [
      "Average BMI is 23.05400\n"
     ]
    }
   ],
   "source": [
    "# For BMI, yes. It would be perfectly okay to calculate the average of BMI\n",
    "\n",
    "print(f\"Average BMI is {data.BMI.mean():.5f}\")"
   ]
  },
  {
   "cell_type": "code",
   "execution_count": 26,
   "id": "5c03b0a8-6dda-49a0-9613-e8aba4f818e8",
   "metadata": {
    "execution": {
     "iopub.execute_input": "2023-04-08T11:59:37.634395Z",
     "iopub.status.busy": "2023-04-08T11:59:37.634395Z",
     "iopub.status.idle": "2023-04-08T11:59:37.649728Z",
     "shell.execute_reply": "2023-04-08T11:59:37.649728Z",
     "shell.execute_reply.started": "2023-04-08T11:59:37.634395Z"
    },
    "tags": []
   },
   "outputs": [
    {
     "name": "stdout",
     "output_type": "stream",
     "text": [
      "Average of Race? is 1.80000\n"
     ]
    }
   ],
   "source": [
    "# However, for Race it won't make much sense to compute the average of race, since it is a numerically encoded categorical variable.\n",
    "# Average of Race will give no meaning.\n",
    "\n",
    "print(f\"Average of Race? is {data.Race.mean():.5f}\")"
   ]
  },
  {
   "cell_type": "code",
   "execution_count": 27,
   "id": "2a703ec5-a7d3-4527-81b6-6a6728071a28",
   "metadata": {
    "execution": {
     "iopub.execute_input": "2023-04-08T11:59:53.214462Z",
     "iopub.status.busy": "2023-04-08T11:59:53.214462Z",
     "iopub.status.idle": "2023-04-08T11:59:53.223811Z",
     "shell.execute_reply": "2023-04-08T11:59:53.223811Z",
     "shell.execute_reply.started": "2023-04-08T11:59:53.214462Z"
    },
    "tags": []
   },
   "outputs": [],
   "source": [
    "# What does this 1.800 suggest? ____________"
   ]
  },
  {
   "cell_type": "code",
   "execution_count": 28,
   "id": "62cd854a-8cde-4f0e-a8e8-53dc171d4036",
   "metadata": {
    "execution": {
     "iopub.execute_input": "2023-04-08T12:00:45.177104Z",
     "iopub.status.busy": "2023-04-08T12:00:45.177104Z",
     "iopub.status.idle": "2023-04-08T12:00:45.183812Z",
     "shell.execute_reply": "2023-04-08T12:00:45.183812Z",
     "shell.execute_reply.started": "2023-04-08T12:00:45.177104Z"
    },
    "tags": []
   },
   "outputs": [],
   "source": [
    "# However, there are some analytical methods that do take the averages of categorical variables like Race!."
   ]
  },
  {
   "cell_type": "markdown",
   "id": "3a93ad96-1d50-4dc0-8371-440533f4bfab",
   "metadata": {},
   "source": [
    "## ___Quantitative variables___\n",
    "-----------------"
   ]
  },
  {
   "cell_type": "code",
   "execution_count": 32,
   "id": "322ccec4-4f56-4176-9330-f97814f3c967",
   "metadata": {
    "execution": {
     "iopub.execute_input": "2023-04-08T12:07:27.067189Z",
     "iopub.status.busy": "2023-04-08T12:07:27.067189Z",
     "iopub.status.idle": "2023-04-08T12:07:27.077178Z",
     "shell.execute_reply": "2023-04-08T12:07:27.077178Z",
     "shell.execute_reply.started": "2023-04-08T12:07:27.067189Z"
    },
    "tags": []
   },
   "outputs": [],
   "source": [
    "# Numerical, measurable quantities, on which arithmetic operations can be sensibly made.\n",
    "# e.g. the BMI scores.\n",
    "\n",
    "# There are two types of quantitative variables ->\n",
    "        # Continuous\n",
    "        # Discrete"
   ]
  },
  {
   "cell_type": "code",
   "execution_count": 33,
   "id": "336602fa-926c-441d-acb0-552be7215d13",
   "metadata": {
    "execution": {
     "iopub.execute_input": "2023-04-08T12:07:27.239820Z",
     "iopub.status.busy": "2023-04-08T12:07:27.239820Z",
     "iopub.status.idle": "2023-04-08T12:07:27.245253Z",
     "shell.execute_reply": "2023-04-08T12:07:27.245253Z",
     "shell.execute_reply.started": "2023-04-08T12:07:27.239820Z"
    },
    "tags": []
   },
   "outputs": [],
   "source": [
    "# Continuous quantitative variables -> Could be any value within a range/interval -> too many possibilities\n",
    "        # e.g. floating point numbers (real numbers) between 0 and 10.\n",
    "        # BMI scores\n",
    "        # Height of a person\n",
    "        # Weight of a person"
   ]
  },
  {
   "cell_type": "code",
   "execution_count": 31,
   "id": "feeb3204-d91b-463a-a4ae-51100238dc31",
   "metadata": {
    "execution": {
     "iopub.execute_input": "2023-04-08T12:07:19.947886Z",
     "iopub.status.busy": "2023-04-08T12:07:19.947886Z",
     "iopub.status.idle": "2023-04-08T12:07:19.961174Z",
     "shell.execute_reply": "2023-04-08T12:07:19.961174Z",
     "shell.execute_reply.started": "2023-04-08T12:07:19.947886Z"
    },
    "tags": []
   },
   "outputs": [],
   "source": [
    "# Discrete quantitative variables -> Countable values, finite possibilities.\n",
    "        # e.g. Number of children in a household\n",
    "        # Number of wheels in an automobile\n",
    "        # A person's age in days"
   ]
  },
  {
   "cell_type": "markdown",
   "id": "da8f09dc-17e3-433f-b7f5-3d68f23d7871",
   "metadata": {},
   "source": [
    "## ___Qualitative or categorical variables___\n",
    "-----------------"
   ]
  },
  {
   "cell_type": "code",
   "execution_count": 34,
   "id": "35a05f5c-342f-4e48-bd44-33dd925b0269",
   "metadata": {
    "execution": {
     "iopub.execute_input": "2023-04-08T12:09:03.647800Z",
     "iopub.status.busy": "2023-04-08T12:09:03.647800Z",
     "iopub.status.idle": "2023-04-08T12:09:03.655512Z",
     "shell.execute_reply": "2023-04-08T12:09:03.655512Z",
     "shell.execute_reply.started": "2023-04-08T12:09:03.647800Z"
    },
    "tags": []
   },
   "outputs": [],
   "source": [
    "# Classifies items into groups\n",
    "# Categorical variables have two types ->\n",
    "        # Quantitative ordinal\n",
    "        # Quantitative nominal"
   ]
  },
  {
   "cell_type": "code",
   "execution_count": 35,
   "id": "b9303c67-13b9-40a7-afe2-82bc0525aab9",
   "metadata": {
    "execution": {
     "iopub.execute_input": "2023-04-08T12:12:04.509415Z",
     "iopub.status.busy": "2023-04-08T12:12:04.509415Z",
     "iopub.status.idle": "2023-04-08T12:12:04.520713Z",
     "shell.execute_reply": "2023-04-08T12:12:04.520713Z",
     "shell.execute_reply.started": "2023-04-08T12:12:04.509415Z"
    },
    "tags": []
   },
   "outputs": [],
   "source": [
    "# Quantitative ordinal -> A categorical variable with some sort of ordering / ranking.\n",
    "        # e.g. Age groups as 0 - 10, 11 - 20, 21 - 30\n",
    "        # Highest educational status as Middle school, High school diploma, Associate's degree, Bachelor's degree, Master's degree, Doctorate.\n",
    "        # Seniority in a university first years, second years, third years & fourth years"
   ]
  },
  {
   "cell_type": "code",
   "execution_count": 36,
   "id": "c745b3f7-bf13-47e3-9ce7-62f2287d0050",
   "metadata": {
    "execution": {
     "iopub.execute_input": "2023-04-08T12:15:21.654533Z",
     "iopub.status.busy": "2023-04-08T12:15:21.654533Z",
     "iopub.status.idle": "2023-04-08T12:15:21.664574Z",
     "shell.execute_reply": "2023-04-08T12:15:21.664574Z",
     "shell.execute_reply.started": "2023-04-08T12:15:21.654533Z"
    },
    "tags": []
   },
   "outputs": [],
   "source": [
    "# Quantitative nominal -> Has no ranking associated with it, composed of mere labels.\n",
    "        # Race of a group of people\n",
    "        # Birth place of a group of people\n",
    "        # Brands of the car a set of people own\n",
    "        # Marital status\n",
    "        # Sex"
   ]
  },
  {
   "cell_type": "code",
   "execution_count": 39,
   "id": "9589865d-022d-4fa6-9e36-b3b1c78a24f4",
   "metadata": {
    "execution": {
     "iopub.execute_input": "2023-04-08T12:19:00.821629Z",
     "iopub.status.busy": "2023-04-08T12:19:00.805892Z",
     "iopub.status.idle": "2023-04-08T12:19:00.824710Z",
     "shell.execute_reply": "2023-04-08T12:19:00.824710Z",
     "shell.execute_reply.started": "2023-04-08T12:19:00.821629Z"
    },
    "tags": []
   },
   "outputs": [],
   "source": [
    "# What type of variable is age of a 1,000 people ?\n",
    "        # Quantitative discrete or Quantitative continuous\n",
    "        # Because some might say their age is 14 and a half years ?"
   ]
  },
  {
   "cell_type": "code",
   "execution_count": 40,
   "id": "6a0ff835-359f-454f-9ed9-e5b780470d69",
   "metadata": {
    "execution": {
     "iopub.execute_input": "2023-04-08T12:19:01.010528Z",
     "iopub.status.busy": "2023-04-08T12:19:01.010528Z",
     "iopub.status.idle": "2023-04-08T12:19:01.020643Z",
     "shell.execute_reply": "2023-04-08T12:19:01.020643Z",
     "shell.execute_reply.started": "2023-04-08T12:19:01.010528Z"
    },
    "tags": []
   },
   "outputs": [],
   "source": [
    "# What type of variable is a person's marital status ?\n",
    "        # Can be unmarried, married, divorced\n",
    "        # Just three (finite number) options\n",
    "        # No ranking is possible among the options\n",
    "        # Nominal categorical variable"
   ]
  },
  {
   "cell_type": "code",
   "execution_count": null,
   "id": "e7842782-32ba-4f3e-9889-a11199392ffa",
   "metadata": {},
   "outputs": [],
   "source": []
  }
 ],
 "metadata": {
  "kernelspec": {
   "display_name": "Python 3 (ipykernel)",
   "language": "python",
   "name": "python3"
  },
  "language_info": {
   "codemirror_mode": {
    "name": "ipython",
    "version": 3
   },
   "file_extension": ".py",
   "mimetype": "text/x-python",
   "name": "python",
   "nbconvert_exporter": "python",
   "pygments_lexer": "ipython3",
   "version": "3.11.3"
  }
 },
 "nbformat": 4,
 "nbformat_minor": 5
}

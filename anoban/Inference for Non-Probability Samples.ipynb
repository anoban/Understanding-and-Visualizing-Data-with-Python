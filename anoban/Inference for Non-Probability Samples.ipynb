{
 "cells": [
  {
   "cell_type": "markdown",
   "id": "0eee3a34-cb1f-48bb-b76c-e6f39854a388",
   "metadata": {},
   "source": [
    "# ___Inference for Non-Probability Samples___\n",
    "---------------------"
   ]
  },
  {
   "cell_type": "code",
   "execution_count": 2,
   "id": "9029a351-d089-435f-9e9a-eef2c3f65601",
   "metadata": {},
   "outputs": [],
   "source": [
    "# What we have discussed hitherto is about how to make inferences about the population based on a single random probability\n",
    "# sample.\n",
    "# But what if our sample is a non-probability sample?"
   ]
  },
  {
   "cell_type": "code",
   "execution_count": 3,
   "id": "f2710da0-849e-4f8a-9d31-5537570ea768",
   "metadata": {
    "tags": []
   },
   "outputs": [],
   "source": [
    "# Non-probability samples do not give us the luxury of leveraging the sampling theory.\n",
    "# They do not let us leverage the sampling theory.\n",
    "# That is we cannot base our accuracy of inferences on the sampling distributions."
   ]
  },
  {
   "cell_type": "code",
   "execution_count": 4,
   "id": "736b18c1-964c-44eb-bd91-277be43b92bf",
   "metadata": {
    "tags": []
   },
   "outputs": [],
   "source": [
    "# Sampling theory is a set of concepts that allow us to make inferences about populations based on samples."
   ]
  },
  {
   "cell_type": "code",
   "execution_count": 6,
   "id": "68ecdeb4-c68f-4d80-978b-da4715a2428a",
   "metadata": {
    "tags": []
   },
   "outputs": [],
   "source": [
    "# There are two approaches to make inferences from non-probability samples.\n",
    "    # Quasi randomization.\n",
    "    # Population modelling."
   ]
  },
  {
   "cell_type": "code",
   "execution_count": null,
   "id": "53b75069-9c5f-490e-9420-97ea240ed0ac",
   "metadata": {},
   "outputs": [],
   "source": []
  },
  {
   "cell_type": "markdown",
   "id": "3e63ab9e-cf89-4bda-9085-b0eb9f3ed9eb",
   "metadata": {},
   "source": [
    "## ___Quasi randomization___\n",
    "------------"
   ]
  },
  {
   "cell_type": "code",
   "execution_count": 7,
   "id": "00512e31-d570-4e4a-b9fe-b968c50341d4",
   "metadata": {
    "tags": []
   },
   "outputs": [],
   "source": [
    "# Involves combining data from a non-probability sample with data from a probability sample that collecetd the same types of measures.\n",
    "# It is important that these two samples are independent and collected the same measures (focused on the same features)"
   ]
  },
  {
   "cell_type": "code",
   "execution_count": 9,
   "id": "268968ad-1319-42a2-b81d-7522bb716c6e",
   "metadata": {
    "tags": []
   },
   "outputs": [],
   "source": [
    "# e.g. assume we are measuring blood pressure, age, sex, ethnicity on a non-probability sample of volunteers,\n",
    "# our sample is biased and not representative of the larger population.\n",
    "\n",
    "# But we can get data from probability samples that collected same variables and combine it with our non-probability sample.\n",
    "# e.g. the NHANES data"
   ]
  },
  {
   "cell_type": "code",
   "execution_count": 13,
   "id": "ff92a5c1-2209-4f34-82c1-f0afb234e6a3",
   "metadata": {
    "tags": []
   },
   "outputs": [],
   "source": [
    "# So we have our non-probability sample with 2,000 records\n",
    "# we randomly select 2,000 records (a probability sample) from NHANES\n",
    "# and stack them one top of another."
   ]
  },
  {
   "cell_type": "code",
   "execution_count": 15,
   "id": "e194bdb5-5ae3-44fc-b41b-0445da3e9720",
   "metadata": {
    "tags": []
   },
   "outputs": [],
   "source": [
    "# Then we introduce a binary categorical label as a new column, to identify which sample a given record belongs to.\n",
    "# let's say if the label is 0, then that record came from the non-probability sample\n",
    "# if the label is 1, then that record came from the probability sample (NHANES)."
   ]
  },
  {
   "cell_type": "code",
   "execution_count": 16,
   "id": "b94542e5-e6c2-4319-888c-c930ce418274",
   "metadata": {
    "tags": []
   },
   "outputs": [],
   "source": [
    "# We may even be interested in a variable that was measured only in the non-probability sample.\n",
    "# So that variable will be absent in the probability sample (NHANES).\n",
    "\n",
    "# let's say NHANES didn't care to collect information about the participants' marital status, number of children, country of origin,\n",
    "# but we did."
   ]
  },
  {
   "cell_type": "code",
   "execution_count": 17,
   "id": "8fe1a06a-d89d-4db9-8d6c-221892228265",
   "metadata": {
    "tags": []
   },
   "outputs": [],
   "source": [
    "# Then we try to fit a logistic regression model to predict the probability of having 0 in the lables of non-probability sample.\n",
    "# in other words, the probability of being in the non-probability sample with the given set of other features that record has.\n",
    "# e.g. the probability of a 36 years old French woman with 145 mmHg blood pressure being in the non-probability sample."
   ]
  },
  {
   "cell_type": "code",
   "execution_count": 18,
   "id": "044d6c9c-5b1c-4be1-bb08-065c50b79de2",
   "metadata": {
    "tags": []
   },
   "outputs": [],
   "source": [
    "# In fitting that model, we'll weight the non-probability cases by 1, so we do not give them any differential weights.\n",
    "# We'll weight the probability cases by their survey weights. (i.e their probabilities of selection)"
   ]
  },
  {
   "cell_type": "code",
   "execution_count": 19,
   "id": "742fb33d-da89-485b-b130-2b8bbdff7fd4",
   "metadata": {
    "tags": []
   },
   "outputs": [],
   "source": [
    "# So, in essence, we try to simulate what's happening in the population based on the probability sample\n",
    "# and then we try to determine the probability of being in the non-probability sample, based on the model."
   ]
  },
  {
   "cell_type": "code",
   "execution_count": null,
   "id": "47cfb209-cc37-47aa-b892-f6519daecd0a",
   "metadata": {},
   "outputs": [],
   "source": []
  },
  {
   "cell_type": "markdown",
   "id": "87f8e879-6c54-48f3-99a0-3ae835e92d85",
   "metadata": {},
   "source": [
    "## ___The concept of quasi randomization___"
   ]
  },
  {
   "cell_type": "code",
   "execution_count": 20,
   "id": "cb07f553-aa5a-4afd-a9da-b43607c00cff",
   "metadata": {
    "tags": []
   },
   "outputs": [],
   "source": [
    "# We can predict the probability of being in the non-probability sample, within whatever population represented by the probability sample.\n",
    "# e.g being a volunteer, being a student of the professor who conducted the survey"
   ]
  },
  {
   "cell_type": "code",
   "execution_count": 21,
   "id": "69c8e824-2cff-4db7-ae56-cb7ba4db2b02",
   "metadata": {
    "tags": []
   },
   "outputs": [],
   "source": [
    "# This is what we get from stacking the two datasets together. We get a slice of overall population.\n",
    "# Then we predict the probability of an individual in the larger population appearing in the non-probability sample of volunteers."
   ]
  },
  {
   "cell_type": "code",
   "execution_count": 22,
   "id": "19a6c375-115b-41db-a0c1-06269883788e",
   "metadata": {
    "tags": []
   },
   "outputs": [],
   "source": [
    "# Once we have the predicted probabilities for being in the non-probability sample,\n",
    "# we treat the inverse of those probabilities as survey weights in standard weighted survey analyses."
   ]
  },
  {
   "cell_type": "code",
   "execution_count": 23,
   "id": "5ede6b42-e267-4d85-b55d-e7657eae9851",
   "metadata": {
    "tags": []
   },
   "outputs": [],
   "source": [
    "# This weight tells us how many people in the larger population will be represented by this type of individual.\n",
    "# We'll then use this weight in analyzing data from the non-probability sample."
   ]
  },
  {
   "cell_type": "code",
   "execution_count": null,
   "id": "5ddabd66-6e6f-45d0-a9d4-06f8b6fd68c9",
   "metadata": {},
   "outputs": [],
   "source": []
  },
  {
   "cell_type": "markdown",
   "id": "eb36a5b4-425f-4cd8-a400-d057d7bcdbf8",
   "metadata": {},
   "source": [
    "## ___How to calculate sampling variance?___"
   ]
  },
  {
   "cell_type": "code",
   "execution_count": 24,
   "id": "6a489b22-4c25-4068-9ecc-c97aea19be82",
   "metadata": {
    "tags": []
   },
   "outputs": [],
   "source": [
    "# In probability samples, one can use the probability distribution to calculate the sampling variance.\n",
    "# That technique is not applicable to this type of quasi randomization approach."
   ]
  },
  {
   "cell_type": "code",
   "execution_count": null,
   "id": "84cadb3b-4802-4db1-8c1b-35e78ad1e769",
   "metadata": {},
   "outputs": [],
   "source": []
  },
  {
   "cell_type": "code",
   "execution_count": null,
   "id": "2e66f921-5a92-48ab-a30c-5efa85559123",
   "metadata": {},
   "outputs": [],
   "source": []
  },
  {
   "cell_type": "markdown",
   "id": "8503b997-9635-4551-9262-2da1516d8508",
   "metadata": {},
   "source": [
    "## ___Population Modelling___\n",
    "----------------"
   ]
  },
  {
   "cell_type": "code",
   "execution_count": null,
   "id": "cd85db52-e761-491f-a5f3-a98a8b1b1fe8",
   "metadata": {},
   "outputs": [],
   "source": [
    "# Use predictive modelling to predict aggregate sample quantities (usually totals) on key variables of interest for population\n",
    "# units not included in the non-probability sample.\n",
    "\n",
    "# Suppose we hahve a dataset that contains information about everyone in the population, that also includes general auxiliary information\n",
    "# on everyone in that population.\n",
    "\n",
    "# In our non-prob sample, we only collect measurements for a specific small subset of the population.\n",
    "# This collects some variables that are absent in the larger population data.\n",
    "# So, when combined, records from the population will have missing values for these columns.\n",
    "# "
   ]
  }
 ],
 "metadata": {
  "kernelspec": {
   "display_name": "Python 3 (ipykernel)",
   "language": "python",
   "name": "python3"
  },
  "language_info": {
   "codemirror_mode": {
    "name": "ipython",
    "version": 3
   },
   "file_extension": ".py",
   "mimetype": "text/x-python",
   "name": "python",
   "nbconvert_exporter": "python",
   "pygments_lexer": "ipython3",
   "version": "3.11.3"
  }
 },
 "nbformat": 4,
 "nbformat_minor": 5
}

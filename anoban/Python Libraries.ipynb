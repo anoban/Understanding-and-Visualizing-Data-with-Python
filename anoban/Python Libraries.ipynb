{
 "cells": [
  {
   "cell_type": "markdown",
   "id": "6189897b-a679-43b8-a90b-0d80b9ee134c",
   "metadata": {},
   "source": [
    "# ___Python libraries___\n",
    "------------"
   ]
  },
  {
   "cell_type": "code",
   "execution_count": 1,
   "id": "54ff52cf-3433-429b-bb8c-e5d82706398d",
   "metadata": {
    "tags": []
   },
   "outputs": [],
   "source": [
    "import numpy as np\n",
    "import pandas as pd\n",
    "import scipy\n",
    "import matplotlib.pyplot as plt"
   ]
  },
  {
   "cell_type": "markdown",
   "id": "95b0fc86-0357-448f-993a-2169abaa3974",
   "metadata": {},
   "source": [
    "## ___NumPy___"
   ]
  },
  {
   "cell_type": "code",
   "execution_count": 4,
   "id": "b4524f4f-e425-44b3-896f-d3ab57a5c7e9",
   "metadata": {
    "tags": []
   },
   "outputs": [
    {
     "data": {
      "text/plain": [
       "array([7.07106781, 7.14142843, 7.21110255, 7.28010989, 7.34846923,\n",
       "       7.41619849, 7.48331477, 7.54983444, 7.61577311, 7.68114575,\n",
       "       7.74596669, 7.81024968, 7.87400787, 7.93725393, 8.        ,\n",
       "       8.06225775, 8.1240384 , 8.18535277, 8.24621125, 8.30662386,\n",
       "       8.36660027, 8.42614977, 8.48528137, 8.54400375, 8.60232527,\n",
       "       8.66025404, 8.71779789, 8.77496439, 8.83176087, 8.88819442,\n",
       "       8.94427191, 9.        , 9.05538514, 9.11043358, 9.16515139,\n",
       "       9.21954446, 9.2736185 , 9.32737905, 9.38083152, 9.43398113,\n",
       "       9.48683298, 9.53939201, 9.59166305, 9.64365076, 9.69535971,\n",
       "       9.74679434, 9.79795897, 9.8488578 , 9.89949494, 9.94987437])"
      ]
     },
     "execution_count": 4,
     "metadata": {},
     "output_type": "execute_result"
    }
   ],
   "source": [
    "np.array([np.sqrt(i) for i in range(50, 100)], dtype = np.float64)"
   ]
  },
  {
   "cell_type": "code",
   "execution_count": 6,
   "id": "6601e6d9-e057-4719-af0b-62dcbfaa6c89",
   "metadata": {
    "tags": []
   },
   "outputs": [],
   "source": [
    "squares = np.array([[i for i in range(100)], [i * i for i in range(100)]])"
   ]
  },
  {
   "cell_type": "code",
   "execution_count": 9,
   "id": "b42b8424-61e3-43fc-b5bc-ea564a037fa0",
   "metadata": {
    "tags": []
   },
   "outputs": [
    {
     "data": {
      "text/plain": [
       "array([ 0,  1,  2,  3,  4,  5,  6,  7,  8,  9, 10, 11, 12, 13, 14, 15, 16,\n",
       "       17, 18, 19, 20, 21, 22, 23, 24, 25, 26, 27, 28, 29, 30, 31, 32, 33,\n",
       "       34, 35, 36, 37, 38, 39, 40, 41, 42, 43, 44, 45, 46, 47, 48, 49, 50,\n",
       "       51, 52, 53, 54, 55, 56, 57, 58, 59, 60, 61, 62, 63, 64, 65, 66, 67,\n",
       "       68, 69, 70, 71, 72, 73, 74, 75, 76, 77, 78, 79, 80, 81, 82, 83, 84,\n",
       "       85, 86, 87, 88, 89, 90, 91, 92, 93, 94, 95, 96, 97, 98, 99])"
      ]
     },
     "execution_count": 9,
     "metadata": {},
     "output_type": "execute_result"
    }
   ],
   "source": [
    "squares[0]"
   ]
  },
  {
   "cell_type": "code",
   "execution_count": 12,
   "id": "61595ac7-be67-45b3-8f41-286c47e70708",
   "metadata": {
    "tags": []
   },
   "outputs": [
    {
     "data": {
      "text/plain": [
       "array([   0,    1,    4,    9,   16,   25,   36,   49,   64,   81,  100,\n",
       "        121,  144,  169,  196,  225,  256,  289,  324,  361,  400,  441,\n",
       "        484,  529,  576,  625,  676,  729,  784,  841,  900,  961, 1024,\n",
       "       1089, 1156, 1225, 1296, 1369, 1444, 1521, 1600, 1681, 1764, 1849,\n",
       "       1936, 2025, 2116, 2209, 2304, 2401, 2500, 2601, 2704, 2809, 2916,\n",
       "       3025, 3136, 3249, 3364, 3481, 3600, 3721, 3844, 3969, 4096, 4225,\n",
       "       4356, 4489, 4624, 4761, 4900, 5041, 5184, 5329, 5476, 5625, 5776,\n",
       "       5929, 6084, 6241, 6400, 6561, 6724, 6889, 7056, 7225, 7396, 7569,\n",
       "       7744, 7921, 8100, 8281, 8464, 8649, 8836, 9025, 9216, 9409, 9604,\n",
       "       9801])"
      ]
     },
     "execution_count": 12,
     "metadata": {},
     "output_type": "execute_result"
    }
   ],
   "source": [
    "squares[1, :]"
   ]
  },
  {
   "cell_type": "code",
   "execution_count": 15,
   "id": "a7d1c9a1-2042-423d-a04b-a6946097a9b9",
   "metadata": {
    "tags": []
   },
   "outputs": [
    {
     "data": {
      "text/plain": [
       "True"
      ]
     },
     "execution_count": 15,
     "metadata": {},
     "output_type": "execute_result"
    }
   ],
   "source": [
    "all(squares[1, :] == squares[1])"
   ]
  },
  {
   "cell_type": "code",
   "execution_count": 16,
   "id": "0e50a614-09cf-4706-81c8-23f84e220a13",
   "metadata": {
    "tags": []
   },
   "outputs": [],
   "source": [
    "tuples = np.array([(i, i * i) for i in range(100)])"
   ]
  },
  {
   "cell_type": "code",
   "execution_count": 19,
   "id": "d0a9d43e-7cd6-45a5-8bac-f3fb39dd38bf",
   "metadata": {
    "tags": []
   },
   "outputs": [
    {
     "data": {
      "text/plain": [
       "array([0, 0])"
      ]
     },
     "execution_count": 19,
     "metadata": {},
     "output_type": "execute_result"
    }
   ],
   "source": [
    "tuples[0]"
   ]
  },
  {
   "cell_type": "code",
   "execution_count": 23,
   "id": "e8098d2e-c50e-473e-8c27-ed240ab06c27",
   "metadata": {
    "tags": []
   },
   "outputs": [
    {
     "data": {
      "text/plain": [
       "array([[ 0,  0],\n",
       "       [ 1,  1],\n",
       "       [ 2,  4],\n",
       "       [ 3,  9],\n",
       "       [ 4, 16],\n",
       "       [ 5, 25],\n",
       "       [ 6, 36],\n",
       "       [ 7, 49],\n",
       "       [ 8, 64],\n",
       "       [ 9, 81]])"
      ]
     },
     "execution_count": 23,
     "metadata": {},
     "output_type": "execute_result"
    }
   ],
   "source": [
    "tuples[:10]"
   ]
  },
  {
   "cell_type": "code",
   "execution_count": 21,
   "id": "eff1f08f-fd61-4234-8a52-99208eadb1c5",
   "metadata": {
    "tags": []
   },
   "outputs": [
    {
     "data": {
      "text/plain": [
       "array([ 0,  1,  2,  3,  4,  5,  6,  7,  8,  9, 10, 11, 12, 13, 14, 15, 16,\n",
       "       17, 18, 19, 20, 21, 22, 23, 24, 25, 26, 27, 28, 29, 30, 31, 32, 33,\n",
       "       34, 35, 36, 37, 38, 39, 40, 41, 42, 43, 44, 45, 46, 47, 48, 49, 50,\n",
       "       51, 52, 53, 54, 55, 56, 57, 58, 59, 60, 61, 62, 63, 64, 65, 66, 67,\n",
       "       68, 69, 70, 71, 72, 73, 74, 75, 76, 77, 78, 79, 80, 81, 82, 83, 84,\n",
       "       85, 86, 87, 88, 89, 90, 91, 92, 93, 94, 95, 96, 97, 98, 99])"
      ]
     },
     "execution_count": 21,
     "metadata": {},
     "output_type": "execute_result"
    }
   ],
   "source": [
    "tuples[:, 0]"
   ]
  },
  {
   "cell_type": "code",
   "execution_count": 24,
   "id": "32d8b7be-e63b-4eea-ad38-a8e3d2de1dd1",
   "metadata": {
    "tags": []
   },
   "outputs": [
    {
     "data": {
      "text/plain": [
       "array([   0,    1,    4,    9,   16,   25,   36,   49,   64,   81,  100,\n",
       "        121,  144,  169,  196,  225,  256,  289,  324,  361,  400,  441,\n",
       "        484,  529,  576,  625,  676,  729,  784,  841,  900,  961, 1024,\n",
       "       1089, 1156, 1225, 1296, 1369, 1444, 1521, 1600, 1681, 1764, 1849,\n",
       "       1936, 2025, 2116, 2209, 2304, 2401, 2500, 2601, 2704, 2809, 2916,\n",
       "       3025, 3136, 3249, 3364, 3481, 3600, 3721, 3844, 3969, 4096, 4225,\n",
       "       4356, 4489, 4624, 4761, 4900, 5041, 5184, 5329, 5476, 5625, 5776,\n",
       "       5929, 6084, 6241, 6400, 6561, 6724, 6889, 7056, 7225, 7396, 7569,\n",
       "       7744, 7921, 8100, 8281, 8464, 8649, 8836, 9025, 9216, 9409, 9604,\n",
       "       9801])"
      ]
     },
     "execution_count": 24,
     "metadata": {},
     "output_type": "execute_result"
    }
   ],
   "source": [
    "tuples[:, 1]"
   ]
  },
  {
   "cell_type": "code",
   "execution_count": 27,
   "id": "869f5675-4923-42cd-872f-e8551392657b",
   "metadata": {
    "tags": []
   },
   "outputs": [
    {
     "data": {
      "text/plain": [
       "array([[4, 4, 4, 4, 4, 4, 4, 4, 4, 4, 4, 4],\n",
       "       [4, 4, 4, 4, 4, 4, 4, 4, 4, 4, 4, 4]])"
      ]
     },
     "execution_count": 27,
     "metadata": {},
     "output_type": "execute_result"
    }
   ],
   "source": [
    "np.full(shape = (2, 12), fill_value = 4)"
   ]
  },
  {
   "cell_type": "markdown",
   "id": "ddfa6d56-9efd-4fa1-95b1-1aabf068ba58",
   "metadata": {},
   "source": [
    "## ___SciPy___"
   ]
  },
  {
   "cell_type": "code",
   "execution_count": 28,
   "id": "40cd7fe4-d4f2-40d9-8cc6-efd0ba86bb25",
   "metadata": {
    "tags": []
   },
   "outputs": [
    {
     "data": {
      "text/plain": [
       "array([15.21066356,  6.36924338,  5.20330723, 11.26031226, 11.51351643,\n",
       "        8.85906033, 11.98094657,  3.07646889, 14.78339689,  6.57384171,\n",
       "       11.84876828, 10.26995109,  8.47567525,  9.78329856,  3.27050048,\n",
       "       10.28016044,  2.86287285, -0.15464979, 19.93140277,  9.04603032,\n",
       "       16.5595278 , 13.42653103,  4.46053682,  2.9156544 ,  8.73679977,\n",
       "        7.84527351,  6.63166208, 10.56590682,  9.04850905, 16.34172243,\n",
       "       13.18284984, 20.91493612, 12.84432524,  0.7993179 , 16.15126898,\n",
       "        0.85078775, 10.06125054,  1.55286949,  8.9847512 , 10.50746403,\n",
       "        8.9699462 ,  7.2590729 , 13.76193818,  3.33519104,  9.4553673 ,\n",
       "       11.91057376,  8.71839557,  5.97451882, 13.68663154, 11.87644404,\n",
       "       14.45555544, 16.65388786, 14.84304124,  5.76540624, 10.15198806,\n",
       "        2.25694222,  6.72033969, 12.60265937, 10.97495944, 17.56662859,\n",
       "       13.1262827 , 12.27886207,  5.83095492,  8.62139842,  5.06334423,\n",
       "        7.9955695 , 14.95670973,  1.13487308,  3.30268657, 10.9394224 ,\n",
       "        8.9079111 , 13.01803196, 11.21613055,  0.18603909,  6.68490404,\n",
       "        8.43192864,  5.35080992,  9.05204461, 12.00767669,  8.23247248,\n",
       "       13.13652708,  3.38377502, 17.26911593, 16.26459319, 25.85807388,\n",
       "       11.75711727, 16.6848959 ,  8.81564323,  5.12662562,  7.79216421,\n",
       "       11.35969704, 22.61961329,  6.16430193,  6.87362066,  4.78440312,\n",
       "       11.40658049, 15.92283096,  2.62853051,  5.49111667, 14.05595649])"
      ]
     },
     "execution_count": 28,
     "metadata": {},
     "output_type": "execute_result"
    }
   ],
   "source": [
    "scipy.stats.norm.rvs(loc = 10, scale = 5, size = 100)"
   ]
  },
  {
   "cell_type": "code",
   "execution_count": 30,
   "id": "c572e54f-6789-49fb-b618-bd9d7038523b",
   "metadata": {
    "tags": []
   },
   "outputs": [],
   "source": [
    "x = scipy.stats.t.rvs(size = 1000, df = 11)"
   ]
  },
  {
   "cell_type": "code",
   "execution_count": 31,
   "id": "41f1437e-e937-4039-8401-c8d0217abd69",
   "metadata": {
    "tags": []
   },
   "outputs": [
    {
     "data": {
      "text/plain": [
       "DescribeResult(nobs=1000, minmax=(-3.8938950268073547, 4.132028299433391), mean=-0.004939607666726025, variance=1.2710430608461682, skewness=-0.045328034401980424, kurtosis=0.6456830410955265)"
      ]
     },
     "execution_count": 31,
     "metadata": {},
     "output_type": "execute_result"
    }
   ],
   "source": [
    "scipy.stats.describe(x)"
   ]
  },
  {
   "cell_type": "code",
   "execution_count": null,
   "id": "71f56fbf-5a5b-424b-b97c-784957cd1eaa",
   "metadata": {},
   "outputs": [],
   "source": []
  }
 ],
 "metadata": {
  "kernelspec": {
   "display_name": "Python 3 (ipykernel)",
   "language": "python",
   "name": "python3"
  },
  "language_info": {
   "codemirror_mode": {
    "name": "ipython",
    "version": 3
   },
   "file_extension": ".py",
   "mimetype": "text/x-python",
   "name": "python",
   "nbconvert_exporter": "python",
   "pygments_lexer": "ipython3",
   "version": "3.11.3"
  }
 },
 "nbformat": 4,
 "nbformat_minor": 5
}

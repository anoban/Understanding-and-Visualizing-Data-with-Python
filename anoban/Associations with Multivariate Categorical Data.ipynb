{
 "cells": [
  {
   "cell_type": "code",
   "execution_count": 38,
   "id": "393dbf48-9c79-4c71-8276-5212a41cd8b4",
   "metadata": {
    "tags": []
   },
   "outputs": [],
   "source": [
    "import numpy as np\n",
    "import pandas as pd\n",
    "from collections import Counter\n",
    "import matplotlib.pyplot as plt"
   ]
  },
  {
   "cell_type": "markdown",
   "id": "74fb188b-c7ec-46dc-b649-8328dbb5bdfc",
   "metadata": {},
   "source": [
    "# ___Associations with Multivariate Categorical Data___\n",
    "-----------------"
   ]
  },
  {
   "cell_type": "markdown",
   "id": "531e09c4-a177-42ce-ab16-d20aa37dd5ef",
   "metadata": {},
   "source": [
    "## ___Multivariate Categorical Data___"
   ]
  },
  {
   "cell_type": "code",
   "execution_count": 1,
   "id": "a02dccfd-b40c-405f-aa70-12c5cb10767b",
   "metadata": {
    "tags": []
   },
   "outputs": [],
   "source": [
    "# Imagine a survey;\n",
    "# You aks the public a set of questions.\n",
    "    # Gender?\n",
    "    # Marital status?\n",
    "    \n",
    "# In this case the collcted data is bivariate (the simplest type of multivariate)"
   ]
  },
  {
   "cell_type": "code",
   "execution_count": 2,
   "id": "05199686-190a-4164-a39a-77e951f45a2c",
   "metadata": {
    "tags": []
   },
   "outputs": [],
   "source": [
    "# We can add more questions though,\n",
    "    # Highest educational status\n",
    "    # Age grouping"
   ]
  },
  {
   "cell_type": "code",
   "execution_count": 3,
   "id": "b154589f-d797-4691-b0e7-db083cbad41f",
   "metadata": {
    "tags": []
   },
   "outputs": [],
   "source": [
    "# Multivariate data is inherently more complex to make sense of by observation, compared to univariate data.\n",
    "# Tabulation (frequency tables) can help us make sense of distributions in multivariate data."
   ]
  },
  {
   "cell_type": "code",
   "execution_count": 8,
   "id": "c8610185-76b9-4ff9-bab5-af302df120b6",
   "metadata": {
    "tags": []
   },
   "outputs": [],
   "source": [
    "countries = pd.read_csv(r\"./countries.csv\")"
   ]
  },
  {
   "cell_type": "code",
   "execution_count": 10,
   "id": "d0e1e84f-2037-4804-abce-6e919c6c0c76",
   "metadata": {
    "tags": []
   },
   "outputs": [
    {
     "data": {
      "text/html": [
       "<div>\n",
       "<style scoped>\n",
       "    .dataframe tbody tr th:only-of-type {\n",
       "        vertical-align: middle;\n",
       "    }\n",
       "\n",
       "    .dataframe tbody tr th {\n",
       "        vertical-align: top;\n",
       "    }\n",
       "\n",
       "    .dataframe thead th {\n",
       "        text-align: right;\n",
       "    }\n",
       "</style>\n",
       "<table border=\"1\" class=\"dataframe\">\n",
       "  <thead>\n",
       "    <tr style=\"text-align: right;\">\n",
       "      <th></th>\n",
       "      <th>country</th>\n",
       "      <th>g77_and_oecd_countries</th>\n",
       "      <th>income_3groups</th>\n",
       "      <th>income_groups</th>\n",
       "      <th>is--country</th>\n",
       "      <th>iso3166_1_alpha2</th>\n",
       "      <th>iso3166_1_alpha3</th>\n",
       "      <th>iso3166_1_numeric</th>\n",
       "      <th>iso3166_2</th>\n",
       "      <th>landlocked</th>\n",
       "      <th>...</th>\n",
       "      <th>name</th>\n",
       "      <th>un_sdg_ldc</th>\n",
       "      <th>un_sdg_region</th>\n",
       "      <th>un_state</th>\n",
       "      <th>unhcr_region</th>\n",
       "      <th>unicef_region</th>\n",
       "      <th>unicode_region_subtag</th>\n",
       "      <th>west_and_rest</th>\n",
       "      <th>world_4region</th>\n",
       "      <th>world_6region</th>\n",
       "    </tr>\n",
       "  </thead>\n",
       "  <tbody>\n",
       "    <tr>\n",
       "      <th>0</th>\n",
       "      <td>abkh</td>\n",
       "      <td>others</td>\n",
       "      <td>NaN</td>\n",
       "      <td>NaN</td>\n",
       "      <td>True</td>\n",
       "      <td>NaN</td>\n",
       "      <td>NaN</td>\n",
       "      <td>NaN</td>\n",
       "      <td>NaN</td>\n",
       "      <td>NaN</td>\n",
       "      <td>...</td>\n",
       "      <td>Abkhazia</td>\n",
       "      <td>NaN</td>\n",
       "      <td>NaN</td>\n",
       "      <td>False</td>\n",
       "      <td>NaN</td>\n",
       "      <td>NaN</td>\n",
       "      <td>NaN</td>\n",
       "      <td>NaN</td>\n",
       "      <td>europe</td>\n",
       "      <td>europe_central_asia</td>\n",
       "    </tr>\n",
       "    <tr>\n",
       "      <th>1</th>\n",
       "      <td>abw</td>\n",
       "      <td>others</td>\n",
       "      <td>high_income</td>\n",
       "      <td>high_income</td>\n",
       "      <td>True</td>\n",
       "      <td>AW</td>\n",
       "      <td>ABW</td>\n",
       "      <td>533.0</td>\n",
       "      <td>NaN</td>\n",
       "      <td>coastline</td>\n",
       "      <td>...</td>\n",
       "      <td>Aruba</td>\n",
       "      <td>un_not_least_developed</td>\n",
       "      <td>un_latin_america_and_the_caribbean</td>\n",
       "      <td>False</td>\n",
       "      <td>unhcr_americas</td>\n",
       "      <td>NaN</td>\n",
       "      <td>AW</td>\n",
       "      <td>NaN</td>\n",
       "      <td>americas</td>\n",
       "      <td>america</td>\n",
       "    </tr>\n",
       "    <tr>\n",
       "      <th>2</th>\n",
       "      <td>afg</td>\n",
       "      <td>g77</td>\n",
       "      <td>low_income</td>\n",
       "      <td>low_income</td>\n",
       "      <td>True</td>\n",
       "      <td>AF</td>\n",
       "      <td>AFG</td>\n",
       "      <td>4.0</td>\n",
       "      <td>NaN</td>\n",
       "      <td>landlocked</td>\n",
       "      <td>...</td>\n",
       "      <td>Afghanistan</td>\n",
       "      <td>un_least_developed</td>\n",
       "      <td>un_central_and_southern_asia</td>\n",
       "      <td>True</td>\n",
       "      <td>unhcr_asia_pacific</td>\n",
       "      <td>sa</td>\n",
       "      <td>AF</td>\n",
       "      <td>rest</td>\n",
       "      <td>asia</td>\n",
       "      <td>south_asia</td>\n",
       "    </tr>\n",
       "    <tr>\n",
       "      <th>3</th>\n",
       "      <td>ago</td>\n",
       "      <td>g77</td>\n",
       "      <td>middle_income</td>\n",
       "      <td>lower_middle_income</td>\n",
       "      <td>True</td>\n",
       "      <td>AO</td>\n",
       "      <td>AGO</td>\n",
       "      <td>24.0</td>\n",
       "      <td>NaN</td>\n",
       "      <td>coastline</td>\n",
       "      <td>...</td>\n",
       "      <td>Angola</td>\n",
       "      <td>un_least_developed</td>\n",
       "      <td>un_sub_saharan_africa</td>\n",
       "      <td>True</td>\n",
       "      <td>unhcr_southern_africa</td>\n",
       "      <td>ssa</td>\n",
       "      <td>AO</td>\n",
       "      <td>rest</td>\n",
       "      <td>africa</td>\n",
       "      <td>sub_saharan_africa</td>\n",
       "    </tr>\n",
       "    <tr>\n",
       "      <th>4</th>\n",
       "      <td>aia</td>\n",
       "      <td>others</td>\n",
       "      <td>NaN</td>\n",
       "      <td>NaN</td>\n",
       "      <td>True</td>\n",
       "      <td>AI</td>\n",
       "      <td>AIA</td>\n",
       "      <td>660.0</td>\n",
       "      <td>NaN</td>\n",
       "      <td>coastline</td>\n",
       "      <td>...</td>\n",
       "      <td>Anguilla</td>\n",
       "      <td>un_not_least_developed</td>\n",
       "      <td>un_latin_america_and_the_caribbean</td>\n",
       "      <td>False</td>\n",
       "      <td>unhcr_americas</td>\n",
       "      <td>NaN</td>\n",
       "      <td>AI</td>\n",
       "      <td>NaN</td>\n",
       "      <td>americas</td>\n",
       "      <td>america</td>\n",
       "    </tr>\n",
       "  </tbody>\n",
       "</table>\n",
       "<p>5 rows × 23 columns</p>\n",
       "</div>"
      ],
      "text/plain": [
       "  country g77_and_oecd_countries income_3groups        income_groups   \n",
       "0    abkh                 others            NaN                  NaN  \\\n",
       "1     abw                 others    high_income          high_income   \n",
       "2     afg                    g77     low_income           low_income   \n",
       "3     ago                    g77  middle_income  lower_middle_income   \n",
       "4     aia                 others            NaN                  NaN   \n",
       "\n",
       "   is--country iso3166_1_alpha2 iso3166_1_alpha3  iso3166_1_numeric iso3166_2   \n",
       "0         True              NaN              NaN                NaN       NaN  \\\n",
       "1         True               AW              ABW              533.0       NaN   \n",
       "2         True               AF              AFG                4.0       NaN   \n",
       "3         True               AO              AGO               24.0       NaN   \n",
       "4         True               AI              AIA              660.0       NaN   \n",
       "\n",
       "   landlocked  ...         name              un_sdg_ldc   \n",
       "0         NaN  ...     Abkhazia                     NaN  \\\n",
       "1   coastline  ...        Aruba  un_not_least_developed   \n",
       "2  landlocked  ...  Afghanistan      un_least_developed   \n",
       "3   coastline  ...       Angola      un_least_developed   \n",
       "4   coastline  ...     Anguilla  un_not_least_developed   \n",
       "\n",
       "                        un_sdg_region un_state           unhcr_region   \n",
       "0                                 NaN    False                    NaN  \\\n",
       "1  un_latin_america_and_the_caribbean    False         unhcr_americas   \n",
       "2        un_central_and_southern_asia     True     unhcr_asia_pacific   \n",
       "3               un_sub_saharan_africa     True  unhcr_southern_africa   \n",
       "4  un_latin_america_and_the_caribbean    False         unhcr_americas   \n",
       "\n",
       "  unicef_region  unicode_region_subtag west_and_rest world_4region   \n",
       "0           NaN                    NaN           NaN        europe  \\\n",
       "1           NaN                     AW           NaN      americas   \n",
       "2            sa                     AF          rest          asia   \n",
       "3           ssa                     AO          rest        africa   \n",
       "4           NaN                     AI           NaN      americas   \n",
       "\n",
       "         world_6region  \n",
       "0  europe_central_asia  \n",
       "1              america  \n",
       "2           south_asia  \n",
       "3   sub_saharan_africa  \n",
       "4              america  \n",
       "\n",
       "[5 rows x 23 columns]"
      ]
     },
     "execution_count": 10,
     "metadata": {},
     "output_type": "execute_result"
    }
   ],
   "source": [
    "countries.head()"
   ]
  },
  {
   "cell_type": "code",
   "execution_count": 29,
   "id": "c6ea02e4-1c96-4b25-a9dc-1cba7ab72562",
   "metadata": {
    "tags": []
   },
   "outputs": [
    {
     "data": {
      "text/plain": [
       "Index(['country', 'g77_and_oecd_countries', 'income_3groups', 'income_groups',\n",
       "       'is--country', 'iso3166_1_alpha2', 'iso3166_1_alpha3',\n",
       "       'iso3166_1_numeric', 'iso3166_2', 'landlocked', 'latitude', 'longitude',\n",
       "       'main_religion_2008', 'name', 'un_sdg_ldc', 'un_sdg_region', 'un_state',\n",
       "       'unhcr_region', 'unicef_region', 'unicode_region_subtag',\n",
       "       'west_and_rest', 'world_4region', 'world_6region'],\n",
       "      dtype='object')"
      ]
     },
     "execution_count": 29,
     "metadata": {},
     "output_type": "execute_result"
    }
   ],
   "source": [
    "countries.columns"
   ]
  },
  {
   "cell_type": "code",
   "execution_count": 15,
   "id": "c44ed621-e979-41c3-9edc-bca428f6251b",
   "metadata": {
    "tags": []
   },
   "outputs": [
    {
     "data": {
      "text/plain": [
       "Counter({'high_income': 80,\n",
       "         'low_income': 31,\n",
       "         'lower_middle_income': 47,\n",
       "         'upper_middle_income': 60})"
      ]
     },
     "execution_count": 15,
     "metadata": {},
     "output_type": "execute_result"
    }
   ],
   "source": [
    "# Frequency table\n",
    "\n",
    "Counter(countries.income_groups.dropna())"
   ]
  },
  {
   "cell_type": "markdown",
   "id": "16e4703a-0679-4cc8-8555-00ec8d0b6d55",
   "metadata": {},
   "source": [
    "## ___Research question: What factors influence the national income of countries?___\n",
    "---------------------"
   ]
  },
  {
   "cell_type": "code",
   "execution_count": 23,
   "id": "a8edd60b-95fb-447b-92af-06734cabb347",
   "metadata": {
    "tags": []
   },
   "outputs": [],
   "source": [
    "# To discern the influence of one factor on another, one needs to filter the first by the groups in the second\n",
    "# and prepare summaries\n",
    "\n",
    "# Let's see the influence of being a western nation on income\n",
    "\n",
    "west = countries.query(\"west_and_rest == 'west'\").income_groups.dropna()\n",
    "rest = countries.query(\"west_and_rest == 'rest'\").income_groups.dropna()"
   ]
  },
  {
   "cell_type": "code",
   "execution_count": 26,
   "id": "0a403c96-6fdf-4a43-8c1f-960fd4968890",
   "metadata": {
    "tags": []
   },
   "outputs": [
    {
     "data": {
      "text/plain": [
       "Counter({'high_income': 25})"
      ]
     },
     "execution_count": 26,
     "metadata": {},
     "output_type": "execute_result"
    }
   ],
   "source": [
    "# There are literally no western country below the high_income margin.\n",
    "\n",
    "Counter(west)"
   ]
  },
  {
   "cell_type": "code",
   "execution_count": 27,
   "id": "9853a4ae-f2f1-424f-b739-e93f84cd2410",
   "metadata": {
    "tags": []
   },
   "outputs": [
    {
     "data": {
      "text/plain": [
       "Counter({'low_income': 31,\n",
       "         'lower_middle_income': 47,\n",
       "         'upper_middle_income': 58,\n",
       "         'high_income': 33})"
      ]
     },
     "execution_count": 27,
     "metadata": {},
     "output_type": "execute_result"
    }
   ],
   "source": [
    "# The summary for non-western nations.\n",
    "\n",
    "Counter(rest)"
   ]
  },
  {
   "cell_type": "code",
   "execution_count": 30,
   "id": "ed841206-da90-4739-b0ab-833b8a7de029",
   "metadata": {
    "tags": []
   },
   "outputs": [
    {
     "data": {
      "text/plain": [
       "array([False,  True])"
      ]
     },
     "execution_count": 30,
     "metadata": {},
     "output_type": "execute_result"
    }
   ],
   "source": [
    "countries.un_state.unique()"
   ]
  },
  {
   "cell_type": "code",
   "execution_count": 40,
   "id": "caf08ea7-03ce-4704-8fef-ce85f1f8cd63",
   "metadata": {
    "tags": []
   },
   "outputs": [],
   "source": [
    "# The influence of world region on being a UN member state \n",
    "\n",
    "un_members = countries.query(\"un_state == True\").world_6region.dropna()\n",
    "non_members = countries.query(\"un_state == False\").world_6region.dropna()"
   ]
  },
  {
   "cell_type": "code",
   "execution_count": 52,
   "id": "f2c67aa6-29ab-4492-8304-56e2f2171de1",
   "metadata": {
    "tags": []
   },
   "outputs": [
    {
     "data": {
      "text/plain": [
       "array(['europe_central_asia', 'america', 'south_asia',\n",
       "       'sub_saharan_africa', 'middle_east_north_africa',\n",
       "       'east_asia_pacific'], dtype=object)"
      ]
     },
     "execution_count": 52,
     "metadata": {},
     "output_type": "execute_result"
    }
   ],
   "source": [
    "countries.world_6region.dropna().unique()"
   ]
  },
  {
   "cell_type": "code",
   "execution_count": 64,
   "id": "8ef7658a-7a5b-4e24-9b4a-e917f48fbb00",
   "metadata": {
    "tags": []
   },
   "outputs": [
    {
     "data": {
      "image/png": "[encoded data removed]",
      "text/plain": [
       "<Figure size 2000x500 with 6 Axes>"
      ]
     },
     "metadata": {},
     "output_type": "display_data"
    }
   ],
   "source": [
    "# Visualize this info in bar charts\n",
    "\n",
    "regions = countries.world_6region.dropna().unique()\n",
    "\n",
    "fig, *axes = plt.subplots(ncols = len(regions), sharey = True)\n",
    "fig.set_size_inches(20, 5)\n",
    "\n",
    "for (i, region) in enumerate(regions):\n",
    "    data = countries.query(\"world_6region == @region\").un_state.dropna().value_counts()\n",
    "    axes[0][i].bar(x = data.index, height = data.values)\n",
    "    axes[0][i].set_title(region)\n",
    "\n",
    "plt.show()"
   ]
  },
  {
   "cell_type": "code",
   "execution_count": null,
   "id": "1bd65186-8b65-40a8-9051-64e17d662079",
   "metadata": {
    "tags": []
   },
   "outputs": [],
   "source": [
    "# There are also mosaic charts where each group is denoted by a shape whose area is proportional to it's frequency\n",
    "# Less informative and more confusing\n",
    "# Similar to Excel's Treemap charts in apperance."
   ]
  }
 ],
 "metadata": {
  "kernelspec": {
   "display_name": "Python 3 (ipykernel)",
   "language": "python",
   "name": "python3"
  },
  "language_info": {
   "codemirror_mode": {
    "name": "ipython",
    "version": 3
   },
   "file_extension": ".py",
   "mimetype": "text/x-python",
   "name": "python",
   "nbconvert_exporter": "python",
   "pygments_lexer": "ipython3",
   "version": "3.11.3"
  }
 },
 "nbformat": 4,
 "nbformat_minor": 5
}

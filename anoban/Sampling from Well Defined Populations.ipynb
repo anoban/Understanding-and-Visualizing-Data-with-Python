{
 "cells": [
  {
   "cell_type": "markdown",
   "id": "b9d39482-3c9e-4732-9dde-1c8095366462",
   "metadata": {},
   "source": [
    "# ___Sampling from Well Defined Populations___\n",
    "------------------"
   ]
  },
  {
   "cell_type": "code",
   "execution_count": 1,
   "id": "c3eacd3c-34ac-40e1-8e0e-d52507692976",
   "metadata": {
    "tags": []
   },
   "outputs": [],
   "source": [
    "# Where exactly does the data come from?"
   ]
  },
  {
   "cell_type": "code",
   "execution_count": 1,
   "id": "1866408b-f722-49a3-b712-a368b8ba9660",
   "metadata": {
    "tags": []
   },
   "outputs": [],
   "source": [
    "# Random sampling\n",
    "\n",
    "# Sampling alleviates the need to measure evry single entity in the population, in order to make infereences about the population.\n",
    "# A technique to study populations.\n",
    "# In order to make definitive inferences about a population, one must first define that population of interest in concrete terms."
   ]
  },
  {
   "cell_type": "markdown",
   "id": "689b6d41-2fa0-4ba7-861f-ff3e63ef684e",
   "metadata": {},
   "source": [
    "## ___Who/what are we targetting?___\n",
    "------------------------"
   ]
  },
  {
   "cell_type": "code",
   "execution_count": 5,
   "id": "6f5a361f-af0b-4a77-8d0f-9526113f6f66",
   "metadata": {
    "tags": []
   },
   "outputs": [],
   "source": [
    "# Is it birds?\n",
    "# Is it sea gulls?\n",
    "# Is it male sea gulls?\n",
    "# Is it adult male sea gulls?"
   ]
  },
  {
   "cell_type": "markdown",
   "id": "61be719b-c8e3-4fd3-bbd3-429563390922",
   "metadata": {
    "tags": []
   },
   "source": [
    "## ___The definition of the population needs to be very specific.___\n",
    "------------"
   ]
  },
  {
   "cell_type": "code",
   "execution_count": 7,
   "id": "a8d45097-4f0b-4921-9fe8-098f6ea23303",
   "metadata": {
    "tags": []
   },
   "outputs": [],
   "source": [
    "# This does not stop here.\n",
    "# We should address timeframes\n",
    "# At what time do we do the sampling?\n",
    "# From 2000 to 2005\n",
    "# Or from April 2000 to January 2004\n",
    "# Or from 12 January 2007 to 23 August 2009"
   ]
  },
  {
   "cell_type": "markdown",
   "id": "c1dda702-e2e2-45f7-a7a6-cbbb195438ee",
   "metadata": {},
   "source": [
    "## ___And where does this measurements/sampling takes place?___\n",
    "-------------------"
   ]
  },
  {
   "cell_type": "code",
   "execution_count": 8,
   "id": "0b3d351b-c397-4f60-a118-41aea52d91df",
   "metadata": {
    "tags": []
   },
   "outputs": [],
   "source": [
    "# Gulf of Mexico?\n",
    "# Western half of Gulf of Mexico?\n",
    "# Within 5 nautical miles radius from the Californian coast, in Gulf of Mexico.?"
   ]
  },
  {
   "cell_type": "markdown",
   "id": "9e9a2ea7-d61f-4626-95a3-3fc57f007406",
   "metadata": {
    "tags": []
   },
   "source": [
    "----------------\n",
    "## ___WRITE THE DEFINITION OF THE TARGET POPULATION DOWN ON A PAPER.___\n",
    "----------------"
   ]
  },
  {
   "cell_type": "markdown",
   "id": "4b989cd1-bb38-49cd-a592-cba775b30bae",
   "metadata": {},
   "source": [
    "## ___Making Inferential Statements About the Target Population___\n",
    "-----------"
   ]
  },
  {
   "cell_type": "code",
   "execution_count": 9,
   "id": "36b6c243-7220-4e7d-b937-cfa0ba9ab6a8",
   "metadata": {
    "tags": []
   },
   "outputs": [],
   "source": [
    "# Option 1 -> Conduct a census/survey (addressing every single entity of interest in the defined population)\n",
    "    # This is very expensive on both temporal & monetary grounds.\n",
    "\n",
    "# Option 2 -> Select a scientific probability sample from the target population and study all the units in that sample\n",
    "\n",
    "# Option 3 -> Select a non-probability sample from the target population and attempt to measure all the entities in that sample."
   ]
  },
  {
   "cell_type": "markdown",
   "id": "5c904283-696d-48a7-9de4-1d88a6acd4a6",
   "metadata": {},
   "source": [
    "### ___Option 1 -> Conduct a census/survey (addressing every single entity of interest in the defined population)___\n",
    "------------"
   ]
  },
  {
   "cell_type": "code",
   "execution_count": 6,
   "id": "561af0a6-f76b-4765-a8c5-d6369b5703ea",
   "metadata": {
    "tags": []
   },
   "outputs": [],
   "source": [
    "# Easier for smaller populations.\n",
    "# Very expensive for larger populations.\n",
    "\n",
    "# Requires a careful evaluation of\n",
    "    # How much it would cost to measure all the entities?\n",
    "    # What data sources are already available? (like do we really need to measure evrybody or could we use the existing information?)"
   ]
  },
  {
   "cell_type": "markdown",
   "id": "b98ee236-5c96-45bf-ab52-41ecb48cf824",
   "metadata": {},
   "source": [
    "### ___Option 2 -> Probability Sampling___\n",
    "----------------"
   ]
  },
  {
   "cell_type": "code",
   "execution_count": null,
   "id": "17e4afba-50ad-421d-9156-4d33049498cc",
   "metadata": {},
   "outputs": [],
   "source": []
  }
 ],
 "metadata": {
  "kernelspec": {
   "display_name": "Python 3 (ipykernel)",
   "language": "python",
   "name": "python3"
  },
  "language_info": {
   "codemirror_mode": {
    "name": "ipython",
    "version": 3
   },
   "file_extension": ".py",
   "mimetype": "text/x-python",
   "name": "python",
   "nbconvert_exporter": "python",
   "pygments_lexer": "ipython3",
   "version": "3.11.3"
  }
 },
 "nbformat": 4,
 "nbformat_minor": 5
}

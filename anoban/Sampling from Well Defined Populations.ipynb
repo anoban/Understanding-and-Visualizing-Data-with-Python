{
 "cells": [
  {
   "cell_type": "markdown",
   "id": "b9d39482-3c9e-4732-9dde-1c8095366462",
   "metadata": {},
   "source": [
    "# ___Sampling from Well Defined Populations___\n",
    "------------------"
   ]
  },
  {
   "cell_type": "code",
   "execution_count": 1,
   "id": "c3eacd3c-34ac-40e1-8e0e-d52507692976",
   "metadata": {
    "tags": []
   },
   "outputs": [],
   "source": [
    "# Where exactly does the data come from?"
   ]
  },
  {
   "cell_type": "code",
   "execution_count": 1,
   "id": "1866408b-f722-49a3-b712-a368b8ba9660",
   "metadata": {
    "tags": []
   },
   "outputs": [],
   "source": [
    "# Random sampling\n",
    "\n",
    "# Sampling alleviates the need to measure evry single entity in the population, in order to make infereences about the population.\n",
    "# A technique to study populations.\n",
    "# In order to make definitive inferences about a population, one must first define that population of interest in concrete terms."
   ]
  },
  {
   "cell_type": "markdown",
   "id": "689b6d41-2fa0-4ba7-861f-ff3e63ef684e",
   "metadata": {},
   "source": [
    "## ___Who/what are we targetting?___\n",
    "------------------------"
   ]
  },
  {
   "cell_type": "code",
   "execution_count": 5,
   "id": "6f5a361f-af0b-4a77-8d0f-9526113f6f66",
   "metadata": {
    "tags": []
   },
   "outputs": [],
   "source": [
    "# Is it birds?\n",
    "# Is it sea gulls?\n",
    "# Is it male sea gulls?\n",
    "# Is it adult male sea gulls?"
   ]
  },
  {
   "cell_type": "markdown",
   "id": "61be719b-c8e3-4fd3-bbd3-429563390922",
   "metadata": {
    "tags": []
   },
   "source": [
    "## ___The definition of the population needs to be very specific.___\n",
    "------------"
   ]
  },
  {
   "cell_type": "code",
   "execution_count": 7,
   "id": "a8d45097-4f0b-4921-9fe8-098f6ea23303",
   "metadata": {
    "tags": []
   },
   "outputs": [],
   "source": [
    "# This does not stop here.\n",
    "# We should address timeframes\n",
    "# At what time do we do the sampling?\n",
    "# From 2000 to 2005\n",
    "# Or from April 2000 to January 2004\n",
    "# Or from 12 January 2007 to 23 August 2009"
   ]
  },
  {
   "cell_type": "markdown",
   "id": "c1dda702-e2e2-45f7-a7a6-cbbb195438ee",
   "metadata": {},
   "source": [
    "## ___And where does this measurements/sampling takes place?___\n",
    "-------------------"
   ]
  },
  {
   "cell_type": "code",
   "execution_count": 8,
   "id": "0b3d351b-c397-4f60-a118-41aea52d91df",
   "metadata": {
    "tags": []
   },
   "outputs": [],
   "source": [
    "# Gulf of Mexico?\n",
    "# Western half of Gulf of Mexico?\n",
    "# Within 5 nautical miles radius from the Californian coast, in Gulf of Mexico.?"
   ]
  },
  {
   "cell_type": "markdown",
   "id": "9e9a2ea7-d61f-4626-95a3-3fc57f007406",
   "metadata": {
    "tags": []
   },
   "source": [
    "----------------\n",
    "## ___WRITE THE DEFINITION OF THE TARGET POPULATION DOWN ON A PAPER.___\n",
    "----------------"
   ]
  },
  {
   "cell_type": "markdown",
   "id": "4b989cd1-bb38-49cd-a592-cba775b30bae",
   "metadata": {},
   "source": [
    "## ___Making Inferential Statements About the Target Population___\n",
    "-----------"
   ]
  },
  {
   "cell_type": "code",
   "execution_count": 9,
   "id": "36b6c243-7220-4e7d-b937-cfa0ba9ab6a8",
   "metadata": {
    "tags": []
   },
   "outputs": [],
   "source": [
    "# Option 1 -> Conduct a census/survey (addressing every single entity of interest in the defined population)\n",
    "    # This is very expensive on both temporal & monetary grounds.\n",
    "\n",
    "# Option 2 -> Select a scientific probability sample from the target population and study all the units in that sample\n",
    "\n",
    "# Option 3 -> Select a non-probability sample from the target population and attempt to measure all the entities in that sample."
   ]
  },
  {
   "cell_type": "markdown",
   "id": "5c904283-696d-48a7-9de4-1d88a6acd4a6",
   "metadata": {},
   "source": [
    "### ___Option 1: Conduct a census/survey (addressing every single entity of interest in the defined population)___\n",
    "------------"
   ]
  },
  {
   "cell_type": "code",
   "execution_count": 12,
   "id": "561af0a6-f76b-4765-a8c5-d6369b5703ea",
   "metadata": {
    "tags": []
   },
   "outputs": [],
   "source": [
    "# Easier for smaller populations.\n",
    "# Very expensive for larger populations.\n",
    "\n",
    "# Requires a careful evaluation of\n",
    "    # How much it would cost to measure all the entities?\n",
    "    # What data sources are already available? (like, do we really need to measure everybody or could we use the existing information?)"
   ]
  },
  {
   "cell_type": "markdown",
   "id": "b98ee236-5c96-45bf-ab52-41ecb48cf824",
   "metadata": {},
   "source": [
    "### ___Option 2: Probability Sampling___\n",
    "----------------"
   ]
  },
  {
   "cell_type": "code",
   "execution_count": 17,
   "id": "17e4afba-50ad-421d-9156-4d33049498cc",
   "metadata": {},
   "outputs": [],
   "source": [
    "# Here we construct a list of all units in the population. -> defined as a sampling frame\n",
    "# e.g. If we are to study the adult male Pacific seagulls (Larus pacificus) in the eastern coast of Australia, staring at 4.34 km from \n",
    "# x point, extending to 76.698 kms along the coastline.\n",
    "\n",
    "# Sampling frame -> The whole Larus pacificus population within the above specified range."
   ]
  },
  {
   "cell_type": "code",
   "execution_count": 18,
   "id": "c87fdcc5-76c1-4226-90a0-b86dc4c63f5f",
   "metadata": {
    "tags": []
   },
   "outputs": [],
   "source": [
    "# Next we determine a probability of selection for every unit on that list\n",
    "# In a random sampling, how likely it is for this entity to get selected in the sample.\n",
    "# This must be a known non-zero value."
   ]
  },
  {
   "cell_type": "code",
   "execution_count": 19,
   "id": "fd001249-a532-430e-a6e5-c4201908b131",
   "metadata": {
    "tags": []
   },
   "outputs": [],
   "source": [
    "# Then select units from the sampling frame at random.\n",
    "# Where, the sampling rate for the different entities is determined by the probability."
   ]
  },
  {
   "cell_type": "code",
   "execution_count": 20,
   "id": "8186d56b-7d5b-444f-a75d-bdf4aa5d5ab0",
   "metadata": {
    "tags": []
   },
   "outputs": [],
   "source": [
    "# Finally, we attempt to take measurements from the randomly sampled subset.\n",
    "# This is where we get the data for analyses."
   ]
  },
  {
   "cell_type": "markdown",
   "id": "e0925c9e-da95-4416-8706-a6a5fa027e14",
   "metadata": {},
   "source": [
    "### ___Option 3: Non-probability Sampling___\n",
    "------------------"
   ]
  },
  {
   "cell_type": "code",
   "execution_count": 21,
   "id": "ea4e3b0d-815f-4b6a-9507-17a6213a1060",
   "metadata": {
    "tags": []
   },
   "outputs": [],
   "source": [
    "# Non probability sampling generally does not involve the random selection of individuals.\n",
    "# This is a key drawback.\n",
    "# In addition, the probabilities of selection cannot be determined, which makes making representative inferences more difficult."
   ]
  },
  {
   "cell_type": "code",
   "execution_count": 23,
   "id": "0b287b33-8ce3-4720-9727-49c065f436f8",
   "metadata": {
    "tags": []
   },
   "outputs": [],
   "source": [
    "# e.g.\n",
    "\n",
    "# Opt-in web surveys -> These are surveys where the participants take part in the survey on their own will.\n",
    "# So, the sample we get is a willing subset from the whole population, not necessarily representative of the entire population.\n",
    "\n",
    "# quota sampling -> researchers try to collect as many participanst as they can, not beholding any criteria for selection\n",
    "# selection continues, until the specified quota is met.\n",
    "\n",
    "# snowball sampling -> where researchers recruit a set of people, who in-turn bring in their friends, rlatives etc, on their free will.\n",
    "# here, the people brough into the sample have a lot in common, not really a random subset of the population\n",
    "# and usually, the reasearchers have little/no control over who are brough into the sample.\n",
    "\n",
    "# convenient sampling -> you might go out in the steet, and engage whoever willing to, in a conversation to collect the information.\n",
    "# if you are a teacher, you might use your students, colleagues, co-workers ..etc..\n",
    "# this also diminishes the representativeness of the sample."
   ]
  },
  {
   "cell_type": "code",
   "execution_count": 24,
   "id": "d8380426-a7ff-4009-873f-814e3298ba54",
   "metadata": {
    "tags": []
   },
   "outputs": [],
   "source": [
    "# The main problem with non-probability sampling is that it lacks a ground that is necessary to emphasize the credibility of our \n",
    "# analyses and the representativeness of the sample.\n",
    "# this has a very high potential of bias."
   ]
  },
  {
   "cell_type": "markdown",
   "id": "f1ea74e4-3dcd-402f-a80e-f2830ac41840",
   "metadata": {},
   "source": [
    "---------------------------\n",
    "---------------------------"
   ]
  },
  {
   "cell_type": "code",
   "execution_count": null,
   "id": "6ea0207e-efd5-4a24-b904-8a9b298158dc",
   "metadata": {},
   "outputs": [],
   "source": [
    "# With probability sampling, known probabilities of selection for all units allow us to make unbiased statements \n",
    "# about both the population fetures and the uncertainty in survey estimates."
   ]
  },
  {
   "cell_type": "code",
   "execution_count": 25,
   "id": "9f7d68fb-547c-4082-9e00-edbcb25dfa74",
   "metadata": {
    "tags": []
   },
   "outputs": [],
   "source": [
    "# random selection of entities from the predefined sampling frame protects us from biases in the sampling mechanism.\n",
    "# and allows us to make reasonable/rational population inferences based on the sampling distributions."
   ]
  },
  {
   "cell_type": "code",
   "execution_count": 26,
   "id": "01ac7e4b-d8e9-4b92-a33e-171a09bdb8c2",
   "metadata": {
    "tags": []
   },
   "outputs": [],
   "source": [
    "# If we repeat the process of drawing a sample from the population many many times,\n",
    "# and computing the estimates for evry single sample we could hypothetically select, a distribution of estimates is going to emerge.\n",
    "# When making statements about the population, we want to base that on the distribution of samples.\n",
    "\n",
    "# In reality we would do the sampling only once,\n",
    "# if we are to repeat the sampling multiple times, we might as well study the entire population."
   ]
  },
  {
   "cell_type": "code",
   "execution_count": null,
   "id": "aab59f27-6118-4efb-8a36-1a725d4f0cdd",
   "metadata": {},
   "outputs": [],
   "source": [
    "# With very specific sample design, following scientific best practices, we can get representative, realistic and random\n",
    "# samples from larger populations.\n",
    "# Such samples have very important statistical properties."
   ]
  }
 ],
 "metadata": {
  "kernelspec": {
   "display_name": "Python 3 (ipykernel)",
   "language": "python",
   "name": "python3"
  },
  "language_info": {
   "codemirror_mode": {
    "name": "ipython",
    "version": 3
   },
   "file_extension": ".py",
   "mimetype": "text/x-python",
   "name": "python",
   "nbconvert_exporter": "python",
   "pygments_lexer": "ipython3",
   "version": "3.11.3"
  }
 },
 "nbformat": 4,
 "nbformat_minor": 5
}

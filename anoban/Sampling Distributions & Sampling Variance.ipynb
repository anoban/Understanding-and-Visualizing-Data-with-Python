{
 "cells": [
  {
   "cell_type": "code",
   "execution_count": 7,
   "id": "726f9cfb-54ac-48f1-9bdd-82b579a97461",
   "metadata": {
    "tags": []
   },
   "outputs": [],
   "source": [
    "import numpy as np\n",
    "import matplotlib.pyplot as plt\n",
    "np.random.seed(2023 - 4 - 26)"
   ]
  },
  {
   "cell_type": "markdown",
   "id": "48356bec-7c48-40bc-a331-c6b042d82bb7",
   "metadata": {},
   "source": [
    "# ___Sampling Distributions & Sampling Variance___\n",
    "--------------------"
   ]
  },
  {
   "cell_type": "code",
   "execution_count": null,
   "id": "668150e5-9140-4f92-95ec-e00189df94b9",
   "metadata": {},
   "outputs": [],
   "source": []
  },
  {
   "cell_type": "markdown",
   "id": "fd865ccb-0591-41d8-a907-57a5b7fed583",
   "metadata": {},
   "source": [
    "## ___Sampling Distribution___\n",
    "--------------"
   ]
  },
  {
   "cell_type": "code",
   "execution_count": null,
   "id": "9bd6e0a4-260e-48b2-b7fe-a4b4b8aadfcc",
   "metadata": {},
   "outputs": [],
   "source": []
  },
  {
   "cell_type": "code",
   "execution_count": 8,
   "id": "b7fb66f1-a33d-4ce3-8beb-192623017448",
   "metadata": {
    "tags": []
   },
   "outputs": [],
   "source": [
    "# Distribution is the dispersal of values in a variable of interest.\n",
    "# We generally assume that the values in a variable of interest follows a certain type of distribution, given that we measure the whole\n",
    "# population."
   ]
  },
  {
   "cell_type": "code",
   "execution_count": 9,
   "id": "30260a78-a084-4c4b-af07-d2d6d421c0f8",
   "metadata": {
    "tags": []
   },
   "outputs": [],
   "source": [
    "# When we make probability samples, to infer properties of the larger population, we base these inferences on a sampling distribution."
   ]
  },
  {
   "cell_type": "markdown",
   "id": "060d47e6-9f60-40cb-9d55-32436b06fab2",
   "metadata": {},
   "source": [
    "## ___Sampling distribution $\\neq$ Distribution of values on a variable of interest___"
   ]
  },
  {
   "cell_type": "code",
   "execution_count": 10,
   "id": "22d00096-f1dd-46c5-8ff3-9b619b5a7b04",
   "metadata": {
    "tags": []
   },
   "outputs": [],
   "source": [
    "# Sampling distribution is a distribution of survey estimates.\n",
    "# These survey estimates are the estimates we would get if we selected many random samples from the same sampling frame and \n",
    "# computed estimates from each of them."
   ]
  },
  {
   "cell_type": "code",
   "execution_count": 12,
   "id": "5c55a500-2cba-4a20-98fe-2e1ed9624039",
   "metadata": {
    "tags": []
   },
   "outputs": [],
   "source": [
    "rnums = np.random.randint(low = 10, high = 1_000_000_000, size = 1_000_000)"
   ]
  },
  {
   "cell_type": "code",
   "execution_count": 14,
   "id": "23498982-09d5-451e-9f90-389b9d535e02",
   "metadata": {
    "tags": []
   },
   "outputs": [
    {
     "data": {
      "text/plain": [
       "array([566842951,     74473,  97699711,  83586980,  57081234, 859558874,\n",
       "       607465403, 393796681,  30329838, 376010292])"
      ]
     },
     "execution_count": 14,
     "metadata": {},
     "output_type": "execute_result"
    }
   ],
   "source": [
    "np.random.choice(rnums, size = 10, replace = True)"
   ]
  },
  {
   "cell_type": "code",
   "execution_count": 16,
   "id": "3841ba62-d399-4543-8630-0683a84dffd9",
   "metadata": {
    "tags": []
   },
   "outputs": [],
   "source": [
    "n_sampling_attempts = 1000\n",
    "\n",
    "means = []\n",
    "stds = []\n",
    "medians = []\n",
    "\n",
    "for i in range(n_sampling_attempts):\n",
    "    sample = np.random.choice(rnums, size = 1000, replace = True)\n",
    "    means.append(sample.mean())\n",
    "    stds.append(sample.std())\n",
    "    medians.append(np.median(sample))"
   ]
  },
  {
   "cell_type": "code",
   "execution_count": 28,
   "id": "a40d4555-a6f4-4911-bb2d-c9c19b8b8e58",
   "metadata": {
    "tags": []
   },
   "outputs": [
    {
     "data": {
      "image/png": "[encoded data removed]",
      "text/plain": [
       "<Figure size 1500x600 with 3 Axes>"
      ]
     },
     "metadata": {},
     "output_type": "display_data"
    }
   ],
   "source": [
    "fig, (mean_axes, std_axes, median_axes) = plt.subplots(ncols= 3, sharey = True)\n",
    "fig.set_size_inches(15, 6)\n",
    "\n",
    "mean_axes.hist(means, bins = 100, color = \"red\", rwidth = 0.9)\n",
    "mean_axes.grid()\n",
    "mean_axes.set_axisbelow(True)\n",
    "\n",
    "std_axes.hist(stds, bins = 100, color = \"blue\", rwidth = 0.9)\n",
    "std_axes.grid()\n",
    "std_axes.set_axisbelow(True)\n",
    "\n",
    "median_axes.hist(medians, bins = 100, color = \"green\", rwidth = 0.9)\n",
    "median_axes.grid()\n",
    "median_axes.set_axisbelow(True)\n",
    "\n",
    "plt.show()"
   ]
  },
  {
   "cell_type": "code",
   "execution_count": 29,
   "id": "45dd15e4-7fd3-49a1-9496-1e0f74a29395",
   "metadata": {
    "tags": []
   },
   "outputs": [],
   "source": [
    "# The histograms above show the distributions of means, standard deviations and medians of 1000 random samples from the population.\n",
    "# The population was a random population and all the samples were made randomly."
   ]
  },
  {
   "cell_type": "markdown",
   "id": "d76b8f17-a999-4648-8751-a9a19b03078d",
   "metadata": {},
   "source": [
    "## ___Key properties of sampling distributions.___\n",
    "--------"
   ]
  },
  {
   "cell_type": "code",
   "execution_count": 30,
   "id": "430748c3-3ea0-48f1-a09d-f30a63230206",
   "metadata": {
    "tags": []
   },
   "outputs": [],
   "source": [
    "# These are hypothetical.\n",
    "# No one in reality, repeats the sampling process this many times to really create a sampling distribution,\n",
    "# for the cost of doing that, one could simply study the entire population.\n",
    "\n",
    "# If we were to draw thousands and thousands of probability samples, we will see a distribution of estimates.\n",
    "# These are very different in appearance compared to a distribution of values in a variable.\n",
    "# As the size of our random sample gets, the sampling distribution will start to look like a normal distribution.\n",
    "# (It does indeed look like normal distributions.) -> histograms above!."
   ]
  },
  {
   "cell_type": "code",
   "execution_count": null,
   "id": "12af96d3-e2f8-4863-bc31-e892beefcbb7",
   "metadata": {},
   "outputs": [],
   "source": []
  },
  {
   "cell_type": "markdown",
   "id": "78eacd10-e62d-4f95-9482-ad784d548a83",
   "metadata": {},
   "source": [
    "## ___Sampling Variance___\n",
    "--------------"
   ]
  },
  {
   "cell_type": "code",
   "execution_count": null,
   "id": "13a89626-0ba1-425b-a8e9-4c907443352b",
   "metadata": {},
   "outputs": [],
   "source": []
  },
  {
   "cell_type": "code",
   "execution_count": 31,
   "id": "5ab58f30-0d66-45f8-b689-4c6be472bf85",
   "metadata": {
    "tags": []
   },
   "outputs": [],
   "source": [
    "# Sampling variance is the variability in the estimates described by the sampling distribution.\n",
    "# This shows how variable are the estimates we obtained from the repetitive sampling attempts."
   ]
  },
  {
   "cell_type": "code",
   "execution_count": 32,
   "id": "95d2a404-7e2f-4c77-a445-9bc7f5d7b4a1",
   "metadata": {
    "tags": []
   },
   "outputs": [],
   "source": [
    "# Since we analyze one sample, and not the whole population,\n",
    "# the estimates from a single sample will not reflect the estimates of the population exactly.\n",
    "# even though the selection is totally random!\n",
    "# even though we want this to be representative, it is less likely to be very close to the estimates of the population!"
   ]
  },
  {
   "cell_type": "code",
   "execution_count": 33,
   "id": "ff80f1fb-8101-44e3-927e-ed5f1d7d453e",
   "metadata": {
    "tags": []
   },
   "outputs": [],
   "source": [
    "# This is what's called a sampling error.\n",
    "# Since we do not measure everyone in the population and only measure a small random subset of entities, the estimates\n",
    "# made from the sample won't be exactly equal to the estimates of the population."
   ]
  },
  {
   "cell_type": "code",
   "execution_count": 40,
   "id": "aabb18ed-15c0-4fb0-9a86-68f711dfaee8",
   "metadata": {
    "tags": []
   },
   "outputs": [
    {
     "name": "stdout",
     "output_type": "stream",
     "text": [
      "Mean of the population is 499665232.80249\n",
      "Standard deviation of the population is 288852479.10198\n",
      "Median of the population is 499591539.00\n"
     ]
    }
   ],
   "source": [
    "# e.g.\n",
    "\n",
    "print(f\"Mean of the population is {rnums.mean():.5f}\")\n",
    "print(f\"Standard deviation of the population is {rnums.std():.5f}\")\n",
    "print(f\"Median of the population is {np.median(rnums):.2f}\")"
   ]
  },
  {
   "cell_type": "code",
   "execution_count": 41,
   "id": "e05cdfb6-8c2f-47e3-aaf9-8f503ec22631",
   "metadata": {
    "tags": []
   },
   "outputs": [
    {
     "name": "stdout",
     "output_type": "stream",
     "text": [
      "Mean of a random sample of 1000 entities is 510861705.86600\n",
      "Standard deviation of a random sample of 1000 entities is 289036790.75862\n",
      "Median of a random sample of 1000 entities is 513572861.50\n"
     ]
    }
   ],
   "source": [
    "print(f\"Mean of a random sample of 1000 entities is {means[0]:.5f}\")\n",
    "print(f\"Standard deviation of a random sample of 1000 entities is {stds[0]:.5f}\")\n",
    "print(f\"Median of a random sample of 1000 entities is {medians[0]:.2f}\")"
   ]
  },
  {
   "cell_type": "code",
   "execution_count": 42,
   "id": "97c5528a-b3d2-4ad2-90e2-4c59e8a47161",
   "metadata": {
    "tags": []
   },
   "outputs": [],
   "source": [
    "# They are close, but not exactly equal!"
   ]
  },
  {
   "cell_type": "code",
   "execution_count": 51,
   "id": "fe6882bf-f0fa-43af-84f4-0c7002eab41a",
   "metadata": {
    "tags": []
   },
   "outputs": [
    {
     "data": {
      "text/plain": [
       "(500321930.630432, 499665232.802488)"
      ]
     },
     "execution_count": 51,
     "metadata": {},
     "output_type": "execute_result"
    }
   ],
   "source": [
    "# But when we get the averages from the sample distribution, they will be equal to the estimates of the population.\n",
    "# at least, very close.\n",
    "\n",
    "np.mean(means), rnums.mean()"
   ]
  },
  {
   "cell_type": "code",
   "execution_count": 52,
   "id": "2a00e14e-9f77-4e50-9ec6-31bcf96674e9",
   "metadata": {
    "tags": []
   },
   "outputs": [
    {
     "data": {
      "text/plain": [
       "(288607343.1772519, 288852479.1019796)"
      ]
     },
     "execution_count": 52,
     "metadata": {},
     "output_type": "execute_result"
    }
   ],
   "source": [
    "np.mean(stds), rnums.std()"
   ]
  },
  {
   "cell_type": "code",
   "execution_count": 53,
   "id": "a5a9eee5-39fa-48c7-b66c-86e0a4cdd135",
   "metadata": {
    "tags": []
   },
   "outputs": [
    {
     "data": {
      "text/plain": [
       "(500739497.9665, 500928321.0)"
      ]
     },
     "execution_count": 53,
     "metadata": {},
     "output_type": "execute_result"
    }
   ],
   "source": [
    "np.mean(medians), np.median(medians)"
   ]
  },
  {
   "cell_type": "code",
   "execution_count": 54,
   "id": "e34e9374-aa67-4d09-822c-0abca94d50c7",
   "metadata": {
    "tags": []
   },
   "outputs": [],
   "source": [
    "# these averages are as accurate as we can get.\n",
    "# and these are more accurate than the estimates made from a single sample."
   ]
  },
  {
   "cell_type": "code",
   "execution_count": 56,
   "id": "c2a1eaeb-bf74-4696-9c0b-f38463c04a49",
   "metadata": {
    "tags": []
   },
   "outputs": [
    {
     "data": {
      "text/plain": [
       "(9068067.8411162, 4020966.6785328346, 15563111.367159735)"
      ]
     },
     "execution_count": 56,
     "metadata": {},
     "output_type": "execute_result"
    }
   ],
   "source": [
    "# Since the sampling is random, the sampling error may vary greatly between samples.\n",
    "# e.g.\n",
    "\n",
    "np.std(means), np.std(stds), np.std(medians)"
   ]
  },
  {
   "cell_type": "code",
   "execution_count": 57,
   "id": "12276219-7d07-4295-8865-474100cbe940",
   "metadata": {
    "tags": []
   },
   "outputs": [],
   "source": [
    "# The variability in these sampling errors describe the variability in the sampling distribution.\n",
    "\n",
    "# If every sample estimate is equal to the population estimate, there will be no sampling error, no sampling variance."
   ]
  },
  {
   "cell_type": "code",
   "execution_count": null,
   "id": "4c44a8a0-4e44-4ac2-aec0-1b5cbd574385",
   "metadata": {},
   "outputs": [],
   "source": [
    "# With a lerger sample size, the sampling error will be less, (at least in theory.)\n",
    "# The closer and closer we get to measuring everybody in the population, the less error we will have.\n",
    "# The closer we get to measuring everybody in the population, the larger the sample becomes."
   ]
  },
  {
   "cell_type": "code",
   "execution_count": null,
   "id": "46731c40-7189-42b9-a5d8-f615963ace70",
   "metadata": {},
   "outputs": [],
   "source": [
    "# Larger samples mean less sampling error, less sampling variance\n",
    "# Thus more precise estimates, and more confidence in our inferential statements.\n",
    "# Getting a larger probability sample also increases expenses."
   ]
  },
  {
   "cell_type": "code",
   "execution_count": null,
   "id": "023a244c-2a72-4e35-8291-7f2213bb4a24",
   "metadata": {},
   "outputs": [],
   "source": []
  },
  {
   "cell_type": "code",
   "execution_count": 66,
   "id": "07acafe4-560a-4e56-a084-2acdb68c82c7",
   "metadata": {
    "tags": []
   },
   "outputs": [],
   "source": [
    "n_sampling_attempts = 1000\n",
    "\n",
    "means = []\n",
    "stds = []\n",
    "medians = []\n",
    "\n",
    "for i in range(n_sampling_attempts):\n",
    "    \n",
    "    # let's increase the sample size\n",
    "    sample = np.random.choice(rnums, size = 10_000, replace = True)\n",
    "    means.append(sample.mean())\n",
    "    stds.append(sample.std())\n",
    "    medians.append(np.median(sample))"
   ]
  },
  {
   "cell_type": "code",
   "execution_count": 67,
   "id": "de4ae24f-f76d-48c4-8a44-32bcb95cfa41",
   "metadata": {
    "tags": []
   },
   "outputs": [
    {
     "data": {
      "text/plain": [
       "(499696709.6903529, 499665232.802488)"
      ]
     },
     "execution_count": 67,
     "metadata": {},
     "output_type": "execute_result"
    }
   ],
   "source": [
    "np.mean(means), rnums.mean()"
   ]
  },
  {
   "cell_type": "code",
   "execution_count": 68,
   "id": "5935263c-8593-48ae-89ed-52994d8563a0",
   "metadata": {
    "tags": []
   },
   "outputs": [
    {
     "data": {
      "text/plain": [
       "(288809677.0092849, 288852479.1019796)"
      ]
     },
     "execution_count": 68,
     "metadata": {},
     "output_type": "execute_result"
    }
   ],
   "source": [
    "np.mean(stds), rnums.std()"
   ]
  },
  {
   "cell_type": "code",
   "execution_count": 69,
   "id": "ed36be97-5b7d-4d3a-a457-cc196e5c7502",
   "metadata": {
    "tags": []
   },
   "outputs": [
    {
     "data": {
      "text/plain": [
       "(499518787.0585, 499591539.0)"
      ]
     },
     "execution_count": 69,
     "metadata": {},
     "output_type": "execute_result"
    }
   ],
   "source": [
    "np.mean(medians), np.median(rnums)"
   ]
  },
  {
   "cell_type": "code",
   "execution_count": 70,
   "id": "1b785211-1799-439c-99eb-7cee4799d35d",
   "metadata": {
    "tags": []
   },
   "outputs": [],
   "source": [
    "# More sampling attempts always help.\n",
    "# But increasing attempts with smaller sample sizes is less prone to errors than increasing the sample size with lesser attempts.\n",
    "# The latter might exponentially increase the errors."
   ]
  },
  {
   "cell_type": "code",
   "execution_count": null,
   "id": "8c44a2bb-f188-4353-babc-4cdb31a44b57",
   "metadata": {},
   "outputs": [],
   "source": []
  },
  {
   "cell_type": "markdown",
   "id": "8eec673b-ef1e-4d32-8580-00f48ba749b5",
   "metadata": {},
   "source": [
    "## ___Importance of Sampling Variance___\n",
    "--------------"
   ]
  },
  {
   "cell_type": "code",
   "execution_count": 71,
   "id": "dca02b1e-5a2e-4599-a398-41fd4e6d74f4",
   "metadata": {
    "tags": []
   },
   "outputs": [],
   "source": [
    "# In reality we only have the resources to select one sample.\n",
    "# Sampling theory allows us to estimate population features based on just one sample.\n",
    "# This is why probability sampling is very important in making inferences about larger populations."
   ]
  },
  {
   "cell_type": "code",
   "execution_count": 72,
   "id": "af2c58f4-3dcc-4f0f-a369-3840a3df3770",
   "metadata": {
    "tags": []
   },
   "outputs": [],
   "source": [
    "# The magic of probability sampling is that,\n",
    "# given the sampling design, we can discern the probabilities,\n",
    "# with which we could evaluate the features of the sampling distribution."
   ]
  },
  {
   "cell_type": "code",
   "execution_count": null,
   "id": "cb2c7c1a-d5a9-4114-9923-494f53a84bab",
   "metadata": {},
   "outputs": [],
   "source": [
    "# Based on the sampling design, we can make statements about the variability in our estimates.\n",
    "# Using this we can say where all the estimates based on the given sampling design might fall.\n",
    "\n",
    "# We can make statements about the likely values of population parameters, accounting for the variabilities in sampling errors,\n",
    "# that arise from random probability sampling."
   ]
  }
 ],
 "metadata": {
  "kernelspec": {
   "display_name": "Python 3 (ipykernel)",
   "language": "python",
   "name": "python3"
  },
  "language_info": {
   "codemirror_mode": {
    "name": "ipython",
    "version": 3
   },
   "file_extension": ".py",
   "mimetype": "text/x-python",
   "name": "python",
   "nbconvert_exporter": "python",
   "pygments_lexer": "ipython3",
   "version": "3.11.3"
  }
 },
 "nbformat": 4,
 "nbformat_minor": 5
}

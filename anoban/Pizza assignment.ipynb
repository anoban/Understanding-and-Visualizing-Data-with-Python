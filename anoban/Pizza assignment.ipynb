{
 "cells": [
  {
   "cell_type": "markdown",
   "id": "81c69bc4-9084-4ce9-a61e-5b6530c43718",
   "metadata": {},
   "source": [
    "# ___Pizza Assignment___\n",
    "----------------"
   ]
  },
  {
   "cell_type": "markdown",
   "id": "7c9aa921-457e-4bcf-bc5c-b968724a8f14",
   "metadata": {},
   "source": [
    "## ___Objective:___"
   ]
  },
  {
   "cell_type": "markdown",
   "id": "e47b87b0-e6ad-421e-8dde-f9c4e6c9fb83",
   "metadata": {},
   "source": [
    "- You have been hired by a small pizza company\n",
    "- They want you to collect & study appropriate data to be used in their advertisement campaign\n",
    "- This campaign intends to be a comparison between this pizza company's product & their main competitors' products."
   ]
  },
  {
   "cell_type": "markdown",
   "id": "0c291f46-547c-46e1-b251-625508019f6b",
   "metadata": {},
   "source": [
    "### ___You are asked to prepare a summary for the company's CEO___\n",
    "\n",
    "- How they could conduct a study to support claims focusing on their company's strengths. be it,\n",
    "    - amount of toppings\n",
    "    - speed of service\n",
    "    - customer satisfaction\n",
    "    - etc..\n",
    "    \n",
    "- Include research questions or claims you propose, to consider the variables you selected for study as part of the study. (what to measure & how to measure it.)\n",
    "\n",
    "- Describe how would you summarize your data -> numerical & graphical summaries."
   ]
  },
  {
   "cell_type": "code",
   "execution_count": null,
   "id": "18785f42-4c0b-4ae2-84e6-1d2fa7dbae81",
   "metadata": {},
   "outputs": [],
   "source": []
  }
 ],
 "metadata": {
  "kernelspec": {
   "display_name": "Python 3 (ipykernel)",
   "language": "python",
   "name": "python3"
  },
  "language_info": {
   "codemirror_mode": {
    "name": "ipython",
    "version": 3
   },
   "file_extension": ".py",
   "mimetype": "text/x-python",
   "name": "python",
   "nbconvert_exporter": "python",
   "pygments_lexer": "ipython3",
   "version": "3.11.3"
  }
 },
 "nbformat": 4,
 "nbformat_minor": 5
}

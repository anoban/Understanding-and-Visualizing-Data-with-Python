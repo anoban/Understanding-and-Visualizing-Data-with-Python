{
 "cells": [
  {
   "cell_type": "code",
   "execution_count": 99,
   "id": "99d1a86f-5cf1-4827-a78b-5eeceec1aefc",
   "metadata": {
    "tags": []
   },
   "outputs": [],
   "source": [
    "import numpy as np\n",
    "import matplotlib.pyplot as plt\n",
    "from scipy import stats\n",
    "np.random.seed(2023 - 4 - 9)"
   ]
  },
  {
   "cell_type": "markdown",
   "id": "9fd59dcb-3012-40ad-a5ff-f690f2d5ef88",
   "metadata": {},
   "source": [
    "# ___Quantitative Data___\n",
    "-----------------"
   ]
  },
  {
   "cell_type": "code",
   "execution_count": 4,
   "id": "529dc663-5138-4cd7-a715-4e97c282db78",
   "metadata": {
    "tags": []
   },
   "outputs": [],
   "source": [
    "# Quantitative variables\n",
    "\n",
    "# Variables that have a numerical value on which one can perform numerical operations on.\n",
    "# e.g. height, weight, monthly income, population of counties."
   ]
  },
  {
   "cell_type": "markdown",
   "id": "d9d99ccf-81a7-4fb1-9786-66bb19974de5",
   "metadata": {},
   "source": [
    "## ___Discrete quantitative variables___"
   ]
  },
  {
   "cell_type": "code",
   "execution_count": 5,
   "id": "0d700965-3da8-4b46-a765-67bd8926e030",
   "metadata": {
    "tags": []
   },
   "outputs": [],
   "source": [
    "# Where the sample can only contain integer values.\n",
    "\n",
    "# e.g. shoe sizes, number of heads in 100 coin flips, number of students in departments."
   ]
  },
  {
   "cell_type": "markdown",
   "id": "ca7afd7c-3dfe-4d37-8399-d0f5c53f862b",
   "metadata": {},
   "source": [
    "## ___Continuous quantitative variables___"
   ]
  },
  {
   "cell_type": "code",
   "execution_count": 6,
   "id": "68a2cc29-45c6-4580-bde4-08067c43de01",
   "metadata": {
    "tags": []
   },
   "outputs": [],
   "source": [
    "# Samples can be any value, including real numbers and integers.\n",
    "\n",
    "# e.g. height, weight, BMI etc..."
   ]
  },
  {
   "cell_type": "markdown",
   "id": "7a9da541-60c3-450e-b1ac-c6ce50e4d6ae",
   "metadata": {},
   "source": [
    "## ___Histograms___"
   ]
  },
  {
   "cell_type": "code",
   "execution_count": 7,
   "id": "08a6acf9-1def-427a-aeef-c2bb7b2ccf4d",
   "metadata": {
    "tags": []
   },
   "outputs": [],
   "source": [
    "# Histograms are great tools for quickly visualizing quantitative variables.\n",
    "# In contrast to bar charts which have labels in ther x axes and frequencies in y axes,\n",
    "# histograms have bins in the x axes and frequencies in y axes.\n",
    "\n",
    "# These bins are numerical intervals inside which the frequencies are computed."
   ]
  },
  {
   "cell_type": "code",
   "execution_count": 12,
   "id": "134e17cd-87f8-4100-9a19-66e09d77b564",
   "metadata": {
    "tags": []
   },
   "outputs": [],
   "source": [
    "heights = np.random.normal(loc = 160, scale = 20, size = 1000)"
   ]
  },
  {
   "cell_type": "code",
   "execution_count": 19,
   "id": "97af72c5-78bb-43be-9fc5-e7b15e2dc720",
   "metadata": {
    "tags": []
   },
   "outputs": [
    {
     "data": {
      "image/png": "[encoded data removed]",
      "text/plain": [
       "<Figure size 640x480 with 1 Axes>"
      ]
     },
     "metadata": {},
     "output_type": "display_data"
    }
   ],
   "source": [
    "plt.hist(heights, bins = 20, rwidth = 0.9, color = \"maroon\")\n",
    "plt.xlabel(\"Height (cm)\")\n",
    "plt.ylabel(\"Frequency\")\n",
    "plt.show()"
   ]
  },
  {
   "cell_type": "code",
   "execution_count": 20,
   "id": "36b46e4d-5a4d-4e18-80ba-52a15710f0cd",
   "metadata": {
    "tags": []
   },
   "outputs": [],
   "source": [
    "# There are 4 main aspects to histograms.\n",
    "\n",
    "# Shape -> symmetric, bell shaped, left skewed, right skewed.\n",
    "# Center -> mean or median\n",
    "# Spread -> How far the data spreads? range, interquartile range (IQR), standard deviation, variance\n",
    "# Outliers -> data points that fall far from the central bulk of data."
   ]
  },
  {
   "cell_type": "code",
   "execution_count": 65,
   "id": "af709241-9bb3-494c-8f01-a304643512b0",
   "metadata": {
    "tags": []
   },
   "outputs": [],
   "source": [
    "# Shape\n",
    "\n",
    "# Our height data is roughly bell shaped.\n",
    "# Bell shaped distributions are very common in statistics.\n",
    "# It is also unimodal. (There's only one peak)\n",
    "# Since it is bell shaped, it is also symmetric."
   ]
  },
  {
   "cell_type": "code",
   "execution_count": 68,
   "id": "848fcab6-83bc-4cfd-a092-cf11edf2067c",
   "metadata": {
    "tags": []
   },
   "outputs": [
    {
     "name": "stdout",
     "output_type": "stream",
     "text": [
      "Mean height of the students is 159.95128 centimeters.\n",
      "Median height of the students is 160.16357 centimeters.\n"
     ]
    }
   ],
   "source": [
    "# Center\n",
    "\n",
    "print(f\"Mean height of the students is {heights.mean():.5f} centimeters.\")\n",
    "print(f\"Median height of the students is {np.median(heights):.5f} centimeters.\")"
   ]
  },
  {
   "cell_type": "code",
   "execution_count": 74,
   "id": "083eec98-702c-4672-90b8-9be72f19e6ba",
   "metadata": {
    "tags": []
   },
   "outputs": [
    {
     "name": "stdout",
     "output_type": "stream",
     "text": [
      "The maximum of students' heights is 221.542 centimeters.\n",
      "The minimum of students' heights is 99.772 centimeters.\n",
      "The range of students' heights is 121.770 centimeters.\n"
     ]
    }
   ],
   "source": [
    "# Spread\n",
    "\n",
    "print(f\"The maximum of students' heights is {heights.max():.3f} centimeters.\")\n",
    "print(f\"The minimum of students' heights is {heights.min():.3f} centimeters.\")\n",
    "print(f\"The range of students' heights is {(heights.max() - heights.min()):.3f} centimeters.\")"
   ]
  },
  {
   "cell_type": "code",
   "execution_count": null,
   "id": "394133b3-a462-421a-b3dc-ed27c3ad1217",
   "metadata": {},
   "outputs": [],
   "source": [
    "# Outliers\n",
    "\n",
    "# Looking at our height data, all the data points are quite contiguous, there are no apparent outliers."
   ]
  },
  {
   "cell_type": "markdown",
   "id": "75730a3a-ad5d-49c5-ad1c-74949eb2438a",
   "metadata": {},
   "source": [
    "## ___Bimodal histograms___"
   ]
  },
  {
   "cell_type": "code",
   "execution_count": 25,
   "id": "887771dd-07ff-43de-9afd-81f38ca5f15f",
   "metadata": {
    "tags": []
   },
   "outputs": [],
   "source": [
    "x = np.random.normal(loc = 100, scale = 20, size = 1000)\n",
    "bmodal = np.append(heights, x)"
   ]
  },
  {
   "cell_type": "code",
   "execution_count": 27,
   "id": "80444947-649e-4a40-8380-1d0ec2cff84f",
   "metadata": {
    "tags": []
   },
   "outputs": [
    {
     "data": {
      "image/png": "[encoded data removed]",
      "text/plain": [
       "<Figure size 640x480 with 1 Axes>"
      ]
     },
     "metadata": {},
     "output_type": "display_data"
    }
   ],
   "source": [
    "plt.hist(bmodal, bins = 20, rwidth = 0.9, color = \"maroon\")\n",
    "plt.xlabel(\"Height (cm)\")\n",
    "plt.ylabel(\"Frequency\")\n",
    "plt.show()"
   ]
  },
  {
   "cell_type": "code",
   "execution_count": 28,
   "id": "97d598a2-fb1d-4fc9-990e-e3ad6a36b042",
   "metadata": {
    "tags": []
   },
   "outputs": [],
   "source": [
    "# Above is a bimodal distribution, look at the two modes (peaks)"
   ]
  },
  {
   "cell_type": "markdown",
   "id": "f4ffccbb-e5c8-47e8-8830-bc9e9db5d2de",
   "metadata": {},
   "source": [
    "## ___Skewed histograms___"
   ]
  },
  {
   "cell_type": "code",
   "execution_count": 62,
   "id": "7d66a170-e0c8-4aee-998f-d7bbbad56a0f",
   "metadata": {
    "tags": []
   },
   "outputs": [],
   "source": [
    "x = np.random.normal(200, scale = 10, size = 4000)\n",
    "lskewed = np.append(heights, x)"
   ]
  },
  {
   "cell_type": "code",
   "execution_count": 63,
   "id": "5ba283f1-7359-4568-b7e3-485b76fcb7d6",
   "metadata": {
    "tags": []
   },
   "outputs": [
    {
     "data": {
      "image/png": "[encoded data removed]",
      "text/plain": [
       "<Figure size 640x480 with 1 Axes>"
      ]
     },
     "metadata": {},
     "output_type": "display_data"
    }
   ],
   "source": [
    "plt.hist(lskewed, bins = 20, rwidth = 0.9, color = \"maroon\")\n",
    "plt.xlabel(\"Height (cm)\")\n",
    "plt.ylabel(\"Frequency\")\n",
    "plt.show()"
   ]
  },
  {
   "cell_type": "code",
   "execution_count": 64,
   "id": "48ccce06-76e1-4550-a6bc-f43b15b62d58",
   "metadata": {
    "tags": []
   },
   "outputs": [],
   "source": [
    "# A left skewed distribution.\n",
    "# Skew is where the tail of the histogram is.\n",
    "# If the tail is on the left side, it is said to be left skewed.\n",
    "# If the tail is one the right side, it is said to be right skewed."
   ]
  },
  {
   "cell_type": "markdown",
   "id": "c3bc24d7-700a-4cb6-81b6-746730d4c143",
   "metadata": {},
   "source": [
    "## ___Outliers___"
   ]
  },
  {
   "cell_type": "code",
   "execution_count": 93,
   "id": "d61cb2b4-bd6f-40a8-9bd8-798e5e215529",
   "metadata": {
    "tags": []
   },
   "outputs": [],
   "source": [
    "x = np.random.randint(290, 330, size = 50)\n",
    "outliers = np.append(heights, x)"
   ]
  },
  {
   "cell_type": "code",
   "execution_count": 94,
   "id": "6f373ad8-bd11-4788-a117-a9bb7710242b",
   "metadata": {
    "tags": []
   },
   "outputs": [
    {
     "data": {
      "image/png": "[encoded data removed]",
      "text/plain": [
       "<Figure size 640x480 with 1 Axes>"
      ]
     },
     "metadata": {},
     "output_type": "display_data"
    }
   ],
   "source": [
    "plt.hist(outliers, bins = 20, rwidth = 0.9, color = \"maroon\")\n",
    "plt.xlabel(\"Height (cm)\")\n",
    "plt.ylabel(\"Frequency\")\n",
    "plt.show()"
   ]
  },
  {
   "cell_type": "markdown",
   "id": "c9f4156a-f713-45d5-9744-1a275c4f4cae",
   "metadata": {},
   "source": [
    "## ___Putting it all together___"
   ]
  },
  {
   "cell_type": "code",
   "execution_count": 98,
   "id": "5382b43e-0f22-4063-8ffa-d5aa3b065d9d",
   "metadata": {
    "tags": []
   },
   "outputs": [
    {
     "name": "stdout",
     "output_type": "stream",
     "text": [
      "The distribution of student heights is roughly bell shaped, unimodal and consequently symmetric with a center of 159.951 centimeters and range of 121.770 centimeters (99.772 - 221.542) without any apparent outliers.\n"
     ]
    }
   ],
   "source": [
    "print(f\"\"\"The distribution of student heights is roughly bell shaped, unimodal and consequently symmetric with a center of \\\n",
    "{heights.mean():.3f} centimeters and range of {(heights.max() - heights.min()):.3f} centimeters ({heights.min():.3f} - {heights.max():.3f}) \\\n",
    "without any apparent outliers.\"\"\")"
   ]
  },
  {
   "cell_type": "markdown",
   "id": "db41a1aa-a50e-4b08-98d0-2de1afb7de44",
   "metadata": {},
   "source": [
    "## ___Salaries in San Francisco___"
   ]
  },
  {
   "cell_type": "code",
   "execution_count": 110,
   "id": "7370fc72-2a4b-4f46-a8ae-6783cedccb2a",
   "metadata": {
    "tags": []
   },
   "outputs": [],
   "source": [
    "salaries = stats.skewnorm.rvs(500, size = 1000) * 10_000"
   ]
  },
  {
   "cell_type": "code",
   "execution_count": 111,
   "id": "a70d410b-55ac-4738-92a8-aefb82bab9ca",
   "metadata": {
    "tags": []
   },
   "outputs": [
    {
     "data": {
      "image/png": "[encoded data removed]",
      "text/plain": [
       "<Figure size 640x480 with 1 Axes>"
      ]
     },
     "metadata": {},
     "output_type": "display_data"
    }
   ],
   "source": [
    "plt.hist(salaries, bins = 50, rwidth = 0.9, color = \"red\")\n",
    "plt.xlabel(\"Salary ($)\")\n",
    "plt.ylabel(\"Frequency\")\n",
    "plt.show()"
   ]
  },
  {
   "cell_type": "code",
   "execution_count": 112,
   "id": "729fdbd3-000b-4f85-b06f-a62e727d0acf",
   "metadata": {
    "tags": []
   },
   "outputs": [],
   "source": [
    "# Shape\n",
    "\n",
    "# This distribution has two peaks (bimodal) and is right skewed and consequently asymmetric."
   ]
  },
  {
   "cell_type": "code",
   "execution_count": 115,
   "id": "00c1afd9-7d4a-4eb5-b136-ee645eede0ce",
   "metadata": {
    "tags": []
   },
   "outputs": [
    {
     "name": "stdout",
     "output_type": "stream",
     "text": [
      "Mean salary in San Francisco is 8068.957 $s.\n",
      "Median salary in San Francisco is 6858.435 $s.\n"
     ]
    }
   ],
   "source": [
    "# Center\n",
    "\n",
    "print(f\"Mean salary in San Francisco is {salaries.mean():.3f} $s.\")\n",
    "print(f\"Median salary in San Francisco is {np.median(salaries):.3f} $s.\")"
   ]
  },
  {
   "cell_type": "code",
   "execution_count": 116,
   "id": "43b6384b-9674-4372-b4b1-ff2887306cdf",
   "metadata": {
    "tags": []
   },
   "outputs": [],
   "source": [
    "# Unlike in a symmetric distribution (the heights) where the mean and median are pretty close,\n",
    "# In skewed distributions, they will be far apart.\n",
    "# The difference between them increases with the degree of skewedness."
   ]
  },
  {
   "cell_type": "code",
   "execution_count": 119,
   "id": "892ab92d-78f7-4c02-93ad-366f6e4b7e6a",
   "metadata": {
    "tags": []
   },
   "outputs": [
    {
     "name": "stdout",
     "output_type": "stream",
     "text": [
      "Maximum salary in San Francisco is 32765.0869 $.\n",
      "Minimum salary in San Francisco is 30.0049 $.\n",
      "Range of salaries in San Francisco is 32735.082 $.\n"
     ]
    }
   ],
   "source": [
    "# Spread\n",
    "\n",
    "print(f\"Maximum salary in San Francisco is {salaries.max():.4f} $.\")\n",
    "print(f\"Minimum salary in San Francisco is {salaries.min():.4f} $.\")\n",
    "print(f\"Range of salaries in San Francisco is {salaries.max() - salaries.min():.3f} $.\")"
   ]
  },
  {
   "cell_type": "code",
   "execution_count": 120,
   "id": "37987cd5-c8dc-4730-acef-7f01e83d814d",
   "metadata": {
    "tags": []
   },
   "outputs": [],
   "source": [
    "# Outliers\n",
    "\n",
    "# In skewed distributions, we typically see outliers.\n",
    "# Since this is a right skewed distribution, we can expect to see outliers on the higher end of the x axis.\n",
    "# If it is a left skewed distribution, outliers can be found in the lower end of the x axis."
   ]
  },
  {
   "cell_type": "code",
   "execution_count": 121,
   "id": "8b37c446-c982-43b2-b07f-ed2aeb8b707d",
   "metadata": {
    "tags": []
   },
   "outputs": [],
   "source": [
    "# Summary\n",
    "\n",
    "# Distribution of salaries in San Francisco is bimodal and right skewed. \n",
    "# centered at $ 8,068.\n",
    "# with most of the data falling in the range of $ 30 to $ 32,765\n",
    "# with outliers in the higher end."
   ]
  },
  {
   "cell_type": "markdown",
   "id": "56e8768d-b4b0-4db3-9b3f-ef31f04eac00",
   "metadata": {},
   "source": [
    "## ___Exam scores___"
   ]
  },
  {
   "cell_type": "code",
   "execution_count": 152,
   "id": "8a2c75ba-ea9f-4bfd-8def-f80955f991e3",
   "metadata": {
    "tags": []
   },
   "outputs": [],
   "source": [
    "# a defines the degree of skewedness.\n",
    "# positive for right skewed dists, negative for left skewed dists.\n",
    "\n",
    "scores = stats.skewnorm.rvs(a = -10, loc = 90, scale = 20, size = 1000)"
   ]
  },
  {
   "cell_type": "code",
   "execution_count": 153,
   "id": "93bdb0ae-2bef-49a9-8e4e-70675daac11b",
   "metadata": {
    "tags": []
   },
   "outputs": [
    {
     "data": {
      "image/png": "[encoded data removed]",
      "text/plain": [
       "<Figure size 640x480 with 1 Axes>"
      ]
     },
     "metadata": {},
     "output_type": "display_data"
    }
   ],
   "source": [
    "plt.hist(scores, color = \"blue\", rwidth = 0.9, bins = 20)\n",
    "plt.show()"
   ]
  },
  {
   "cell_type": "code",
   "execution_count": 154,
   "id": "e5b709b4-7843-4b10-8889-fe5e46188cf9",
   "metadata": {
    "tags": []
   },
   "outputs": [],
   "source": [
    "# Shape\n",
    "\n",
    "# Left skewed distribution, unimodal and asymmetric."
   ]
  },
  {
   "cell_type": "code",
   "execution_count": 156,
   "id": "28c0bc58-bd44-4225-9a95-91deaccbf194",
   "metadata": {
    "tags": []
   },
   "outputs": [
    {
     "name": "stdout",
     "output_type": "stream",
     "text": [
      "Mean score is 73.846\n",
      "Median score is 77.006\n"
     ]
    }
   ],
   "source": [
    "# Center\n",
    "\n",
    "print(f\"Mean score is {scores.mean():.3f}\")\n",
    "print(f\"Median score is {np.median(scores):.3f}\")"
   ]
  },
  {
   "cell_type": "code",
   "execution_count": 165,
   "id": "33723e32-5311-4567-93c9-7ce32403f2db",
   "metadata": {
    "tags": []
   },
   "outputs": [
    {
     "name": "stdout",
     "output_type": "stream",
     "text": [
      "Maximum score is 93.25\n",
      "Minimum score is 12.86\n",
      "Range of scores is 80.39\n"
     ]
    }
   ],
   "source": [
    "# Spread\n",
    "\n",
    "print(f\"Maximum score is {scores.max():.2f}\")\n",
    "print(f\"Minimum score is {scores.min():.2f}\")\n",
    "print(f\"Range of scores is {scores.max() - scores.min():.2f}\")"
   ]
  },
  {
   "cell_type": "code",
   "execution_count": null,
   "id": "a2fcd3df-10b8-4f6b-8d3e-b78571828f1b",
   "metadata": {},
   "outputs": [],
   "source": []
  }
 ],
 "metadata": {
  "kernelspec": {
   "display_name": "Python 3 (ipykernel)",
   "language": "python",
   "name": "python3"
  },
  "language_info": {
   "codemirror_mode": {
    "name": "ipython",
    "version": 3
   },
   "file_extension": ".py",
   "mimetype": "text/x-python",
   "name": "python",
   "nbconvert_exporter": "python",
   "pygments_lexer": "ipython3",
   "version": "3.11.3"
  }
 },
 "nbformat": 4,
 "nbformat_minor": 5
}

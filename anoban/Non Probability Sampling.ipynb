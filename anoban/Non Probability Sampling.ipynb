{
 "cells": [
  {
   "cell_type": "markdown",
   "id": "43189a62-cde2-4ec5-90a2-a1ab73d0df15",
   "metadata": {},
   "source": [
    "# ___Non Probability Sampling___"
   ]
  },
  {
   "cell_type": "markdown",
   "id": "7b5a0a36-78cc-402f-8899-36b2df89512a",
   "metadata": {},
   "source": [
    "## ___What defines a non-probability sample?___\n",
    "------------"
   ]
  },
  {
   "cell_type": "code",
   "execution_count": 1,
   "id": "e5027cb5-3119-49f5-9e55-ff0c5d4ad240",
   "metadata": {
    "tags": []
   },
   "outputs": [],
   "source": [
    "# Unlike probability samples, the probability of selection cannot be determined for the entities in a non-probability sample.\n",
    "# There is no random selection. Researchers often have little/no control over the mechanism that brings entities into thse samples.\n",
    "\n",
    "# The samples can be divided into groups (i.e strata, clusters)\n",
    "# But the clusters are not randomly sampled at earlier stages. (at upper hierarchical levels, the sampling is often non-random)\n",
    "# Data collection is extremely cheap compared to probability sampling."
   ]
  },
  {
   "cell_type": "code",
   "execution_count": 2,
   "id": "de3f6e6b-ce73-4e76-833e-39e3dcfc021b",
   "metadata": {
    "tags": []
   },
   "outputs": [],
   "source": [
    "# Examples\n",
    "\n",
    "# Studying volunteers. -> happens very commonly in clinical trials, psychological studies, etc..\n",
    "\n",
    "# These often invite volunteers by incentivizing them by stating that their study may/may not be able to help them in some regard.\n",
    "# Like, if you suffer from chronic depression, the drug that we are developing might be able to cope with life better,\n",
    "# If you are interested, plesase contact this at that ... blah blah...\n",
    "\n",
    "# Here the researcher does not have any control over the people who offer to help, and often know nothing about their probabilities of \n",
    "# selection.\n",
    "\n",
    "# Opt-in web surveys\n",
    "\n",
    "# Like the surveys conducted by JetBrains or StackOverflow\n",
    "# There is no known probability of selection.\n",
    "# There is no known randmness in selection.\n",
    "\n",
    "\n",
    "# Snowball sampling\n",
    "\n",
    "# This is a type of non-probability sampling where the sample grows as people refer others to join in.\n",
    "# Again, no probability of selection or no randomness.\n",
    "# Here the communication happens in the word-of-mouh mode.\n",
    "\n",
    "# Convenience sampling\n",
    "\n",
    "# University faculty/professors use their students to conduct a study.\n",
    "# Again, no probability of selection or no randomness.\n",
    "\n",
    "# Quota sampling\n",
    "# In quota sampling you have certain targets that need to be met.\n",
    "# Researchers do whatever they need to hit those targets.\n",
    "# Like find 2,000 adult male cancer patients ???\n",
    "# No randomness, no probabilities of selection"
   ]
  },
  {
   "cell_type": "code",
   "execution_count": 3,
   "id": "3bee59f3-629a-40b2-9ea9-cc657edb6185",
   "metadata": {
    "tags": []
   },
   "outputs": [],
   "source": [
    "# A coomon characteristic of all these types of non-probability sampling is that there is no knowing of probabilities of selection a priori."
   ]
  },
  {
   "cell_type": "markdown",
   "id": "1c6a50a9-700b-4276-ba4f-c64ae73d5b0e",
   "metadata": {},
   "source": [
    "## ___What's wrong with non-probability sampling?___\n",
    "------------"
   ]
  },
  {
   "cell_type": "code",
   "execution_count": null,
   "id": "1c63a6af-9d0c-4b48-984a-091a7313462b",
   "metadata": {},
   "outputs": [],
   "source": [
    "# With no randomness and no known probabilities of selection,\n",
    "# There's no way to make statistically sound and meaningful inferences abut the larger population based on the selected sample."
   ]
  }
 ],
 "metadata": {
  "kernelspec": {
   "display_name": "Python 3 (ipykernel)",
   "language": "python",
   "name": "python3"
  },
  "language_info": {
   "codemirror_mode": {
    "name": "ipython",
    "version": 3
   },
   "file_extension": ".py",
   "mimetype": "text/x-python",
   "name": "python",
   "nbconvert_exporter": "python",
   "pygments_lexer": "ipython3",
   "version": "3.11.3"
  }
 },
 "nbformat": 4,
 "nbformat_minor": 5
}

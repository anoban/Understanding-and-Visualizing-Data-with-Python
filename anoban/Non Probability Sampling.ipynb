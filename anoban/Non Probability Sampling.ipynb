{
 "cells": [
  {
   "cell_type": "markdown",
   "id": "43189a62-cde2-4ec5-90a2-a1ab73d0df15",
   "metadata": {},
   "source": [
    "# ___Non Probability Sampling___"
   ]
  },
  {
   "cell_type": "markdown",
   "id": "7b5a0a36-78cc-402f-8899-36b2df89512a",
   "metadata": {},
   "source": [
    "## ___What defines a non-probability sample?___\n",
    "------------"
   ]
  },
  {
   "cell_type": "code",
   "execution_count": 1,
   "id": "e5027cb5-3119-49f5-9e55-ff0c5d4ad240",
   "metadata": {
    "tags": []
   },
   "outputs": [],
   "source": [
    "# Unlike probability samples, the probability of selection cannot be determined for the entities in a non-probability sample.\n",
    "# There is no random selection. Researchers often have little/no control over the mechanism that brings entities into thse samples.\n",
    "\n",
    "# The samples can be divided into groups (i.e strata, clusters)\n",
    "# But the clusters are not randomly sampled at earlier stages. (at upper hierarchical levels, the sampling is often non-random)\n",
    "# Data collection is extremely cheap compared to probability sampling."
   ]
  },
  {
   "cell_type": "code",
   "execution_count": 2,
   "id": "de3f6e6b-ce73-4e76-833e-39e3dcfc021b",
   "metadata": {
    "tags": []
   },
   "outputs": [],
   "source": [
    "# Examples\n",
    "\n",
    "# Studying volunteers. -> happens very commonly in clinical trials, psychological studies, etc..\n",
    "\n",
    "# These often invite volunteers by incentivizing them by stating that their study may/may not be able to help them in some regard.\n",
    "# Like, if you suffer from chronic depression, the drug that we are developing might be able to cope with life better,\n",
    "# If you are interested, plesase contact this at that ... blah blah...\n",
    "\n",
    "# Here the researcher does not have any control over the people who offer to help, and often know nothing about their probabilities of \n",
    "# selection.\n",
    "\n",
    "# Opt-in web surveys\n",
    "\n",
    "# Like the surveys conducted by JetBrains or StackOverflow\n",
    "# There is no known probability of selection.\n",
    "# There is no known randmness in selection.\n",
    "\n",
    "\n",
    "# Snowball sampling\n",
    "\n",
    "# This is a type of non-probability sampling where the sample grows as people refer others to join in.\n",
    "# Again, no probability of selection or no randomness.\n",
    "# Here the communication happens in the word-of-mouh mode.\n",
    "\n",
    "# Convenience sampling\n",
    "\n",
    "# University faculty/professors use their students to conduct a study.\n",
    "# Again, no probability of selection or no randomness.\n",
    "\n",
    "# Quota sampling\n",
    "# In quota sampling you have certain targets that need to be met.\n",
    "# Researchers do whatever they need to hit those targets.\n",
    "# Like find 2,000 adult male cancer patients ???\n",
    "# No randomness, no probabilities of selection"
   ]
  },
  {
   "cell_type": "code",
   "execution_count": 3,
   "id": "3bee59f3-629a-40b2-9ea9-cc657edb6185",
   "metadata": {
    "tags": []
   },
   "outputs": [],
   "source": [
    "# A common characteristic of all these types of non-probability sampling is that there is no knowing of probabilities of selection a priori."
   ]
  },
  {
   "cell_type": "markdown",
   "id": "1c6a50a9-700b-4276-ba4f-c64ae73d5b0e",
   "metadata": {},
   "source": [
    "## ___What's wrong with non-probability sampling?___\n",
    "------------"
   ]
  },
  {
   "cell_type": "code",
   "execution_count": 1,
   "id": "1c63a6af-9d0c-4b48-984a-091a7313462b",
   "metadata": {},
   "outputs": [],
   "source": [
    "# With no randomness and no known probabilities of selection,\n",
    "# There's no way to make statistically sound and meaningful inferences abut the larger population based on the selected sample.\n",
    "\n",
    "# Knowing the probabilities of selection allows us to estimate the features of sampling distribution.\n",
    "# Sampling distribution is the distribution of features that would arise, if we had taken many samples using the same probability\n",
    "# sampling design. \n",
    "# In non-random sampling the sample units are not selected at random. This poses a strong risk of sampling bias.\n",
    "# e.g. consider a web opt-in survey, here the sample will only consist of people who happen to visit that site/who were informrd by those\n",
    "# who frequent that site. Not really a representative sample at all.\n",
    "\n",
    "# The sample units in the non-probability samples are generally not representative of the larger population.\n",
    "# This makes it very difficult to garner meaningful insights of the larger population using the sample.\n",
    "\n",
    "# Most of the \"Big Data\" craze, is founded on non-probability sampling.\n",
    "# These types of data are gathered mostly by automated processes, where little/no consideration has gone into the design\n",
    "# And these are often based on non-probability data sampling.\n",
    "# e.g. twitter data, web scraping data"
   ]
  },
  {
   "cell_type": "markdown",
   "id": "29b6e267-67f8-4a03-89a5-731ded62cf39",
   "metadata": {},
   "source": [
    "## ___So, how to remediate these shortcomings?___\n",
    "---------------------"
   ]
  },
  {
   "cell_type": "code",
   "execution_count": 2,
   "id": "339d962c-1f5a-4d08-b248-a20ec9ace445",
   "metadata": {
    "tags": []
   },
   "outputs": [],
   "source": [
    "# Can we say anything meaningful about the larger population?\n",
    "# Not everything is at lost when it comes to non-probability sampling.\n",
    "\n",
    "# There are two possible remedies.\n",
    "        # Pseudo-randomization\n",
    "    # Here, with a little bit of work, we can treat the non-probability sample as a probability sample.\n",
    "        # Calibration\n",
    "    # Here, we weight the non-probability sample to look more like a probability sampling."
   ]
  },
  {
   "cell_type": "code",
   "execution_count": null,
   "id": "133e57dd-22b3-40c7-b1e0-85cf32f26632",
   "metadata": {},
   "outputs": [],
   "source": []
  },
  {
   "cell_type": "markdown",
   "id": "db0b21e6-262f-45ed-8e66-7b947acd2744",
   "metadata": {},
   "source": [
    "## ___Population Inference Approaches for Non-probability Samples___\n",
    "----------------"
   ]
  },
  {
   "cell_type": "markdown",
   "id": "b98186b9-ec8e-4b06-8a86-995c7ff614cc",
   "metadata": {},
   "source": [
    "### ___Pseudo Randomization___"
   ]
  },
  {
   "cell_type": "code",
   "execution_count": 5,
   "id": "bef0b805-7553-4925-9ce0-9bfb8d3fb5d6",
   "metadata": {
    "tags": []
   },
   "outputs": [],
   "source": [
    "# Here, the non-probability sample is combined with another probability sample.\n",
    "# These two samples must collect similar measurements and the measuring units must be identical.\n",
    "# e.g. height & weight of students (in kgs and cms).\n",
    "\n",
    "# In this approach we must first find the common variables in a probability sample and a non-probability sample.\n",
    "# Then we stack them together."
   ]
  },
  {
   "cell_type": "code",
   "execution_count": 6,
   "id": "de86f47b-b0ce-46dd-a0c5-eb56e799fc01",
   "metadata": {
    "tags": []
   },
   "outputs": [],
   "source": [
    "# We then estimate the probability of being included in the non-probability sample, as a function of auxiliary information available\n",
    "# in both the sample.\n",
    "\n",
    "# e.g. if the datasets of student height & weight also contain variables like gender, race, field of study. etc... these can be\n",
    "# leveraged to study the probabilities of selection.\n",
    "# Then we use this information to determine the probabilities of selection for the entities in the non-probability sample.\n",
    "\n",
    "# Then we use the determined probabilities as \"known\" probabilities for the non-probability sample."
   ]
  },
  {
   "cell_type": "code",
   "execution_count": null,
   "id": "eacab81b-28b9-4dd8-9b56-8473d1f117dc",
   "metadata": {},
   "outputs": [],
   "source": []
  },
  {
   "cell_type": "markdown",
   "id": "f8eedbf1-ca62-4434-ba1c-c3a226fa0e56",
   "metadata": {},
   "source": [
    "### ___Calibration___"
   ]
  },
  {
   "cell_type": "code",
   "execution_count": 7,
   "id": "99e496af-d8a9-4d90-b54b-fa50d4952aed",
   "metadata": {
    "tags": []
   },
   "outputs": [],
   "source": [
    "# We compute the weight for all the entities in a non-probability sample that allows the weighted sample to mirror a known population.\n",
    "\n",
    "# e.g. There are 67% males and 32% females in the larger population (all the students in a university)\n",
    "# and there's 23% males and 75% females in our sample (final year students at the CS department)\n",
    "\n",
    "# From our knowledge of the larger population, we know that males are disproportinately higher and\n",
    "# females are disproportionately lower in our sample.\n",
    "\n",
    "# So, we up-weight females and down-weight males in our non-probability sample.\n",
    "# So, once the weighting is done, our sample may look more/less like the larger population\n",
    "\n",
    "# A limitation here is that, if the weighting factor used in the calibration is not related to the variables that we are interested in,\n",
    "# we may not be able to reduce some of the sampling bias."
   ]
  },
  {
   "cell_type": "code",
   "execution_count": null,
   "id": "860355c3-4113-4f2c-bd6f-bcf7e5dc1867",
   "metadata": {},
   "outputs": [],
   "source": []
  },
  {
   "cell_type": "markdown",
   "id": "ba1d9ddd-77fa-4e1a-be64-67a61a930576",
   "metadata": {},
   "source": [
    "## ___Twitter example___\n",
    "-----------------"
   ]
  },
  {
   "cell_type": "code",
   "execution_count": 8,
   "id": "102c1e5c-dd57-40b1-ac23-fd107c3e2de6",
   "metadata": {
    "tags": []
   },
   "outputs": [],
   "source": [
    "# Assume we have scraped 1,567,870 tweets using the Twitter API that indicate support to Donald Trump in an election.\n",
    "\n",
    "# This is a non-probability sample, collected by filtering a 100 million tweets using computers.\n",
    "# This involves designing a binary natural language classifier, that decides whether a given tweet supports Trump or not.\n",
    "\n",
    "# Here, we do not know the probability of a tweet being selected in our sample.\n",
    "# We just collected all the tweets that show support for Trump in one way or another.\n",
    "# This essentially is a convenient sample.\n",
    "\n",
    "# Twitter users are not a random sample of US population.\n",
    "# And not all Twitter users are vocal about the political alignments there.\n",
    "# And Twitter is polluted with massive number of Bots, did we have a criteria in place to detect tweets that could potentially\n",
    "# have come from a bot?\n",
    "\n",
    "# Given the lack of probabilities of selection and non-random sampling,\n",
    "# we run the risk of a high sampling bias.\n",
    "\n",
    "# People who tweet in support for Trump represent a very unique subset of the larger population. \n",
    "# These are the people who have very strong political opinions and are very vocal about it."
   ]
  },
  {
   "cell_type": "code",
   "execution_count": null,
   "id": "064231cd-c933-4442-9b2e-38fb3be21403",
   "metadata": {},
   "outputs": [],
   "source": []
  },
  {
   "cell_type": "markdown",
   "id": "6d6ef5b7-877e-4151-afeb-3823a5aee625",
   "metadata": {},
   "source": [
    "## ___Sampling distributions & Sampling variance___\n",
    "--------------------"
   ]
  },
  {
   "cell_type": "code",
   "execution_count": 10,
   "id": "41a15198-0367-4a72-b886-03e1db2a6a17",
   "metadata": {
    "tags": []
   },
   "outputs": [],
   "source": [
    "# How to estimate the features of the probability distribution based only on one probability sample?\n",
    "\n",
    "# How do we make inferences of a population based on just one probability sample?\n",
    "\n",
    "# Model based approaches to analyzing data!"
   ]
  },
  {
   "cell_type": "code",
   "execution_count": null,
   "id": "1687f291-7d41-45bc-8bae-5d15b912d508",
   "metadata": {},
   "outputs": [],
   "source": []
  }
 ],
 "metadata": {
  "kernelspec": {
   "display_name": "Python 3 (ipykernel)",
   "language": "python",
   "name": "python3"
  },
  "language_info": {
   "codemirror_mode": {
    "name": "ipython",
    "version": 3
   },
   "file_extension": ".py",
   "mimetype": "text/x-python",
   "name": "python",
   "nbconvert_exporter": "python",
   "pygments_lexer": "ipython3",
   "version": "3.11.3"
  }
 },
 "nbformat": 4,
 "nbformat_minor": 5
}

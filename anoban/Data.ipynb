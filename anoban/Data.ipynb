{
 "cells": [
  {
   "cell_type": "markdown",
   "id": "f82f192b-8c55-4199-ad95-e5270b9406f1",
   "metadata": {},
   "source": [
    "# ***Data***\n",
    "---------------"
   ]
  },
  {
   "cell_type": "code",
   "execution_count": 1,
   "id": "f03110ef-04ae-4c98-90b0-5f7cccd0ddc2",
   "metadata": {
    "execution": {
     "iopub.execute_input": "2023-04-06T08:09:21.509545Z",
     "iopub.status.busy": "2023-04-06T08:09:21.509545Z",
     "iopub.status.idle": "2023-04-06T08:09:21.523313Z",
     "shell.execute_reply": "2023-04-06T08:09:21.523313Z",
     "shell.execute_reply.started": "2023-04-06T08:09:21.509545Z"
    }
   },
   "outputs": [],
   "source": [
    "# Data can be numbers.\n",
    "# Most common type of data is the tabular form data.\n",
    "# This course makes heavy use of the HNANES (National Health And Nutrition Examination Survey) dataset\n",
    "# This can be a .csv or .xlsx file"
   ]
  },
  {
   "cell_type": "code",
   "execution_count": 2,
   "id": "d16d105e-c75f-421a-9350-255abd05de63",
   "metadata": {
    "execution": {
     "iopub.execute_input": "2023-04-06T08:10:16.490207Z",
     "iopub.status.busy": "2023-04-06T08:10:16.490207Z",
     "iopub.status.idle": "2023-04-06T08:10:16.493541Z",
     "shell.execute_reply": "2023-04-06T08:10:16.493541Z",
     "shell.execute_reply.started": "2023-04-06T08:10:16.490207Z"
    },
    "tags": []
   },
   "outputs": [],
   "source": [
    "# Data can also be images\n",
    "# Images can be represented as multidimensional numerical matrices (tensors)"
   ]
  },
  {
   "cell_type": "code",
   "execution_count": 3,
   "id": "396741c1-34de-49ba-832a-053e14ca974a",
   "metadata": {
    "execution": {
     "iopub.execute_input": "2023-04-06T08:12:05.738200Z",
     "iopub.status.busy": "2023-04-06T08:12:05.722729Z",
     "iopub.status.idle": "2023-04-06T08:12:05.741604Z",
     "shell.execute_reply": "2023-04-06T08:12:05.741084Z",
     "shell.execute_reply.started": "2023-04-06T08:12:05.722729Z"
    },
    "tags": []
   },
   "outputs": [],
   "source": [
    "# Satellite images can be used to monitor coast-lines, soil erosion, track storm systems, predict weather etc .."
   ]
  },
  {
   "cell_type": "code",
   "execution_count": 4,
   "id": "59464351-cf2b-40fb-afa1-528a521edd65",
   "metadata": {
    "execution": {
     "iopub.execute_input": "2023-04-06T08:15:57.742349Z",
     "iopub.status.busy": "2023-04-06T08:15:57.742349Z",
     "iopub.status.idle": "2023-04-06T08:15:57.757316Z",
     "shell.execute_reply": "2023-04-06T08:15:57.757316Z",
     "shell.execute_reply.started": "2023-04-06T08:15:57.742349Z"
    },
    "tags": []
   },
   "outputs": [],
   "source": [
    "# EHRs -> Electronic Health Records\n",
    "# These contain many personal information"
   ]
  },
  {
   "cell_type": "code",
   "execution_count": 5,
   "id": "9dab5f6c-9144-45ba-8683-7455bc8f5542",
   "metadata": {
    "execution": {
     "iopub.execute_input": "2023-04-06T08:16:44.412900Z",
     "iopub.status.busy": "2023-04-06T08:16:44.412900Z",
     "iopub.status.idle": "2023-04-06T08:16:44.421767Z",
     "shell.execute_reply": "2023-04-06T08:16:44.421767Z",
     "shell.execute_reply.started": "2023-04-06T08:16:44.412900Z"
    },
    "tags": []
   },
   "outputs": [],
   "source": [
    "# Document classification.\n",
    "# We have seen this in Applied Text Mining with Python."
   ]
  },
  {
   "cell_type": "code",
   "execution_count": 6,
   "id": "a7f488df-5d30-4af2-80a7-cf07acdb43d0",
   "metadata": {
    "execution": {
     "iopub.execute_input": "2023-04-06T08:16:53.840837Z",
     "iopub.status.busy": "2023-04-06T08:16:53.840837Z",
     "iopub.status.idle": "2023-04-06T08:16:53.851908Z",
     "shell.execute_reply": "2023-04-06T08:16:53.851908Z",
     "shell.execute_reply.started": "2023-04-06T08:16:53.840837Z"
    },
    "tags": []
   },
   "outputs": [],
   "source": [
    "# Data can be audio."
   ]
  },
  {
   "cell_type": "code",
   "execution_count": null,
   "id": "80248726-624e-45a0-8bed-d172e1ce75c0",
   "metadata": {},
   "outputs": [],
   "source": []
  }
 ],
 "metadata": {
  "kernelspec": {
   "display_name": "Python 3 (ipykernel)",
   "language": "python",
   "name": "python3"
  },
  "language_info": {
   "codemirror_mode": {
    "name": "ipython",
    "version": 3
   },
   "file_extension": ".py",
   "mimetype": "text/x-python",
   "name": "python",
   "nbconvert_exporter": "python",
   "pygments_lexer": "ipython3",
   "version": "3.11.3"
  }
 },
 "nbformat": 4,
 "nbformat_minor": 5
}
